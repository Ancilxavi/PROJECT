{
 "cells": [
  {
   "cell_type": "markdown",
   "metadata": {
    "id": "d188e948"
   },
   "source": [
    "\n",
    "Project Name-PRCP-1023-COVID-19 PREDICTION\n",
    "\n",
    "Team Members:\n",
    "\n",
    "1.Ashish Ray Mohapatra\n",
    "\n",
    "2.Ancil Xavier\n",
    "\n",
    "3.Ramchandra Rao\n",
    "    "
   ]
  },
  {
   "cell_type": "markdown",
   "metadata": {
    "id": "4da3d626"
   },
   "source": [
    " # Business Case : EDA OF COVID-19 RECOVERY CASES"
   ]
  },
  {
   "cell_type": "markdown",
   "metadata": {
    "id": "ea5f7927"
   },
   "source": [
    "### Load Libraries"
   ]
  },
  {
   "cell_type": "code",
   "execution_count": 1,
   "metadata": {
    "executionInfo": {
     "elapsed": 31,
     "status": "ok",
     "timestamp": 1632839541044,
     "user": {
      "displayName": "Ram Katapadi",
      "photoUrl": "https://lh3.googleusercontent.com/a/default-user=s64",
      "userId": "05196726169692284921"
     },
     "user_tz": -330
    },
    "id": "3f8806f2"
   },
   "outputs": [],
   "source": [
    "import pandas as pd\n",
    "import numpy as np\n",
    "from datetime import datetime\n",
    "import matplotlib.pyplot as plt\n",
    "import seaborn as sns\n",
    "import datetime as datetme\n",
    "import warnings\n",
    "warnings.filterwarnings('ignore')"
   ]
  },
  {
   "cell_type": "markdown",
   "metadata": {
    "id": "bad02e79"
   },
   "source": [
    "### Load data"
   ]
  },
  {
   "cell_type": "code",
   "execution_count": 2,
   "metadata": {
    "executionInfo": {
     "elapsed": 454,
     "status": "ok",
     "timestamp": 1632839619311,
     "user": {
      "displayName": "Ram Katapadi",
      "photoUrl": "https://lh3.googleusercontent.com/a/default-user=s64",
      "userId": "05196726169692284921"
     },
     "user_tz": -330
    },
    "id": "10918164"
   },
   "outputs": [],
   "source": [
    "df = pd.read_csv('./time_series_covid19_recovered_global.csv', )"
   ]
  },
  {
   "cell_type": "code",
   "execution_count": 3,
   "metadata": {
    "colab": {
     "base_uri": "https://localhost:8080/"
    },
    "executionInfo": {
     "elapsed": 485,
     "status": "ok",
     "timestamp": 1632839623472,
     "user": {
      "displayName": "Ram Katapadi",
      "photoUrl": "https://lh3.googleusercontent.com/a/default-user=s64",
      "userId": "05196726169692284921"
     },
     "user_tz": -330
    },
    "id": "dlTmyu3ntPjw",
    "outputId": "71557f5e-213a-4c07-fc06-afd472237fa8"
   },
   "outputs": [
    {
     "data": {
      "text/plain": [
       "253"
      ]
     },
     "execution_count": 3,
     "metadata": {},
     "output_type": "execute_result"
    }
   ],
   "source": [
    "df.shape[0]"
   ]
  },
  {
   "cell_type": "code",
   "execution_count": 4,
   "metadata": {
    "colab": {
     "base_uri": "https://localhost:8080/"
    },
    "executionInfo": {
     "elapsed": 20,
     "status": "ok",
     "timestamp": 1632839625439,
     "user": {
      "displayName": "Ram Katapadi",
      "photoUrl": "https://lh3.googleusercontent.com/a/default-user=s64",
      "userId": "05196726169692284921"
     },
     "user_tz": -330
    },
    "id": "0f0Ni7NetAj6",
    "outputId": "89b57836-ae91-4911-addd-a8df3b8047be"
   },
   "outputs": [
    {
     "data": {
      "text/plain": [
       "186"
      ]
     },
     "execution_count": 4,
     "metadata": {},
     "output_type": "execute_result"
    }
   ],
   "source": [
    "df['Province/State'].isnull().sum()"
   ]
  },
  {
   "cell_type": "code",
   "execution_count": 5,
   "metadata": {
    "colab": {
     "base_uri": "https://localhost:8080/"
    },
    "executionInfo": {
     "elapsed": 473,
     "status": "ok",
     "timestamp": 1632839629344,
     "user": {
      "displayName": "Ram Katapadi",
      "photoUrl": "https://lh3.googleusercontent.com/a/default-user=s64",
      "userId": "05196726169692284921"
     },
     "user_tz": -330
    },
    "id": "eHJL4hj3tU3A",
    "outputId": "187498c9-d134-4824-fc02-118e6a618cff"
   },
   "outputs": [
    {
     "data": {
      "text/plain": [
       "67"
      ]
     },
     "execution_count": 5,
     "metadata": {},
     "output_type": "execute_result"
    }
   ],
   "source": [
    "253-186 ## only 67 rows has province/state rest of them are NaN , hence delete this column is of no use"
   ]
  },
  {
   "cell_type": "code",
   "execution_count": 6,
   "metadata": {
    "executionInfo": {
     "elapsed": 12,
     "status": "ok",
     "timestamp": 1632839632600,
     "user": {
      "displayName": "Ram Katapadi",
      "photoUrl": "https://lh3.googleusercontent.com/a/default-user=s64",
      "userId": "05196726169692284921"
     },
     "user_tz": -330
    },
    "id": "943e849e"
   },
   "outputs": [],
   "source": [
    "df.drop(columns=['Province/State', 'Lat', 'Long'], axis=1, inplace=True)"
   ]
  },
  {
   "cell_type": "code",
   "execution_count": 7,
   "metadata": {
    "colab": {
     "base_uri": "https://localhost:8080/",
     "height": 459
    },
    "executionInfo": {
     "elapsed": 459,
     "status": "ok",
     "timestamp": 1632839639072,
     "user": {
      "displayName": "Ram Katapadi",
      "photoUrl": "https://lh3.googleusercontent.com/a/default-user=s64",
      "userId": "05196726169692284921"
     },
     "user_tz": -330
    },
    "id": "5ed2ceff",
    "outputId": "9fdef8c6-c589-437a-cae1-d9b720933c3e"
   },
   "outputs": [
    {
     "data": {
      "text/html": [
       "<div>\n",
       "<style scoped>\n",
       "    .dataframe tbody tr th:only-of-type {\n",
       "        vertical-align: middle;\n",
       "    }\n",
       "\n",
       "    .dataframe tbody tr th {\n",
       "        vertical-align: top;\n",
       "    }\n",
       "\n",
       "    .dataframe thead th {\n",
       "        text-align: right;\n",
       "    }\n",
       "</style>\n",
       "<table border=\"1\" class=\"dataframe\">\n",
       "  <thead>\n",
       "    <tr style=\"text-align: right;\">\n",
       "      <th></th>\n",
       "      <th>Country/Region</th>\n",
       "      <th>1/22/20</th>\n",
       "      <th>1/23/20</th>\n",
       "      <th>1/24/20</th>\n",
       "      <th>1/25/20</th>\n",
       "      <th>1/26/20</th>\n",
       "      <th>1/27/20</th>\n",
       "      <th>1/28/20</th>\n",
       "      <th>1/29/20</th>\n",
       "      <th>1/30/20</th>\n",
       "      <th>...</th>\n",
       "      <th>9/12/20</th>\n",
       "      <th>9/13/20</th>\n",
       "      <th>9/14/20</th>\n",
       "      <th>9/15/20</th>\n",
       "      <th>9/16/20</th>\n",
       "      <th>9/17/20</th>\n",
       "      <th>9/18/20</th>\n",
       "      <th>9/19/20</th>\n",
       "      <th>9/20/20</th>\n",
       "      <th>9/21/20</th>\n",
       "    </tr>\n",
       "  </thead>\n",
       "  <tbody>\n",
       "    <tr>\n",
       "      <th>0</th>\n",
       "      <td>Afghanistan</td>\n",
       "      <td>0</td>\n",
       "      <td>0</td>\n",
       "      <td>0</td>\n",
       "      <td>0</td>\n",
       "      <td>0</td>\n",
       "      <td>0</td>\n",
       "      <td>0</td>\n",
       "      <td>0</td>\n",
       "      <td>0</td>\n",
       "      <td>...</td>\n",
       "      <td>31234</td>\n",
       "      <td>31638</td>\n",
       "      <td>32073</td>\n",
       "      <td>32098</td>\n",
       "      <td>32503</td>\n",
       "      <td>32505</td>\n",
       "      <td>32576</td>\n",
       "      <td>32576</td>\n",
       "      <td>32576</td>\n",
       "      <td>32576</td>\n",
       "    </tr>\n",
       "    <tr>\n",
       "      <th>1</th>\n",
       "      <td>Albania</td>\n",
       "      <td>0</td>\n",
       "      <td>0</td>\n",
       "      <td>0</td>\n",
       "      <td>0</td>\n",
       "      <td>0</td>\n",
       "      <td>0</td>\n",
       "      <td>0</td>\n",
       "      <td>0</td>\n",
       "      <td>0</td>\n",
       "      <td>...</td>\n",
       "      <td>6494</td>\n",
       "      <td>6569</td>\n",
       "      <td>6615</td>\n",
       "      <td>6668</td>\n",
       "      <td>6733</td>\n",
       "      <td>6788</td>\n",
       "      <td>6831</td>\n",
       "      <td>6888</td>\n",
       "      <td>6940</td>\n",
       "      <td>6995</td>\n",
       "    </tr>\n",
       "    <tr>\n",
       "      <th>2</th>\n",
       "      <td>Algeria</td>\n",
       "      <td>0</td>\n",
       "      <td>0</td>\n",
       "      <td>0</td>\n",
       "      <td>0</td>\n",
       "      <td>0</td>\n",
       "      <td>0</td>\n",
       "      <td>0</td>\n",
       "      <td>0</td>\n",
       "      <td>0</td>\n",
       "      <td>...</td>\n",
       "      <td>33875</td>\n",
       "      <td>34037</td>\n",
       "      <td>34204</td>\n",
       "      <td>34385</td>\n",
       "      <td>34517</td>\n",
       "      <td>34675</td>\n",
       "      <td>34818</td>\n",
       "      <td>34923</td>\n",
       "      <td>35047</td>\n",
       "      <td>35180</td>\n",
       "    </tr>\n",
       "    <tr>\n",
       "      <th>3</th>\n",
       "      <td>Andorra</td>\n",
       "      <td>0</td>\n",
       "      <td>0</td>\n",
       "      <td>0</td>\n",
       "      <td>0</td>\n",
       "      <td>0</td>\n",
       "      <td>0</td>\n",
       "      <td>0</td>\n",
       "      <td>0</td>\n",
       "      <td>0</td>\n",
       "      <td>...</td>\n",
       "      <td>943</td>\n",
       "      <td>943</td>\n",
       "      <td>945</td>\n",
       "      <td>945</td>\n",
       "      <td>1054</td>\n",
       "      <td>1054</td>\n",
       "      <td>1164</td>\n",
       "      <td>1164</td>\n",
       "      <td>1164</td>\n",
       "      <td>1199</td>\n",
       "    </tr>\n",
       "    <tr>\n",
       "      <th>4</th>\n",
       "      <td>Angola</td>\n",
       "      <td>0</td>\n",
       "      <td>0</td>\n",
       "      <td>0</td>\n",
       "      <td>0</td>\n",
       "      <td>0</td>\n",
       "      <td>0</td>\n",
       "      <td>0</td>\n",
       "      <td>0</td>\n",
       "      <td>0</td>\n",
       "      <td>...</td>\n",
       "      <td>1289</td>\n",
       "      <td>1301</td>\n",
       "      <td>1324</td>\n",
       "      <td>1332</td>\n",
       "      <td>1401</td>\n",
       "      <td>1405</td>\n",
       "      <td>1443</td>\n",
       "      <td>1445</td>\n",
       "      <td>1445</td>\n",
       "      <td>1449</td>\n",
       "    </tr>\n",
       "    <tr>\n",
       "      <th>...</th>\n",
       "      <td>...</td>\n",
       "      <td>...</td>\n",
       "      <td>...</td>\n",
       "      <td>...</td>\n",
       "      <td>...</td>\n",
       "      <td>...</td>\n",
       "      <td>...</td>\n",
       "      <td>...</td>\n",
       "      <td>...</td>\n",
       "      <td>...</td>\n",
       "      <td>...</td>\n",
       "      <td>...</td>\n",
       "      <td>...</td>\n",
       "      <td>...</td>\n",
       "      <td>...</td>\n",
       "      <td>...</td>\n",
       "      <td>...</td>\n",
       "      <td>...</td>\n",
       "      <td>...</td>\n",
       "      <td>...</td>\n",
       "      <td>...</td>\n",
       "    </tr>\n",
       "    <tr>\n",
       "      <th>248</th>\n",
       "      <td>West Bank and Gaza</td>\n",
       "      <td>0</td>\n",
       "      <td>0</td>\n",
       "      <td>0</td>\n",
       "      <td>0</td>\n",
       "      <td>0</td>\n",
       "      <td>0</td>\n",
       "      <td>0</td>\n",
       "      <td>0</td>\n",
       "      <td>0</td>\n",
       "      <td>...</td>\n",
       "      <td>19979</td>\n",
       "      <td>20082</td>\n",
       "      <td>21406</td>\n",
       "      <td>21804</td>\n",
       "      <td>22209</td>\n",
       "      <td>23060</td>\n",
       "      <td>23333</td>\n",
       "      <td>23446</td>\n",
       "      <td>23700</td>\n",
       "      <td>24428</td>\n",
       "    </tr>\n",
       "    <tr>\n",
       "      <th>249</th>\n",
       "      <td>Western Sahara</td>\n",
       "      <td>0</td>\n",
       "      <td>0</td>\n",
       "      <td>0</td>\n",
       "      <td>0</td>\n",
       "      <td>0</td>\n",
       "      <td>0</td>\n",
       "      <td>0</td>\n",
       "      <td>0</td>\n",
       "      <td>0</td>\n",
       "      <td>...</td>\n",
       "      <td>8</td>\n",
       "      <td>8</td>\n",
       "      <td>8</td>\n",
       "      <td>8</td>\n",
       "      <td>8</td>\n",
       "      <td>8</td>\n",
       "      <td>8</td>\n",
       "      <td>8</td>\n",
       "      <td>8</td>\n",
       "      <td>8</td>\n",
       "    </tr>\n",
       "    <tr>\n",
       "      <th>250</th>\n",
       "      <td>Yemen</td>\n",
       "      <td>0</td>\n",
       "      <td>0</td>\n",
       "      <td>0</td>\n",
       "      <td>0</td>\n",
       "      <td>0</td>\n",
       "      <td>0</td>\n",
       "      <td>0</td>\n",
       "      <td>0</td>\n",
       "      <td>0</td>\n",
       "      <td>...</td>\n",
       "      <td>1211</td>\n",
       "      <td>1212</td>\n",
       "      <td>1215</td>\n",
       "      <td>1219</td>\n",
       "      <td>1221</td>\n",
       "      <td>1221</td>\n",
       "      <td>1221</td>\n",
       "      <td>1221</td>\n",
       "      <td>1227</td>\n",
       "      <td>1235</td>\n",
       "    </tr>\n",
       "    <tr>\n",
       "      <th>251</th>\n",
       "      <td>Zambia</td>\n",
       "      <td>0</td>\n",
       "      <td>0</td>\n",
       "      <td>0</td>\n",
       "      <td>0</td>\n",
       "      <td>0</td>\n",
       "      <td>0</td>\n",
       "      <td>0</td>\n",
       "      <td>0</td>\n",
       "      <td>0</td>\n",
       "      <td>...</td>\n",
       "      <td>12007</td>\n",
       "      <td>12260</td>\n",
       "      <td>12380</td>\n",
       "      <td>12590</td>\n",
       "      <td>12869</td>\n",
       "      <td>13029</td>\n",
       "      <td>13207</td>\n",
       "      <td>13365</td>\n",
       "      <td>13365</td>\n",
       "      <td>13629</td>\n",
       "    </tr>\n",
       "    <tr>\n",
       "      <th>252</th>\n",
       "      <td>Zimbabwe</td>\n",
       "      <td>0</td>\n",
       "      <td>0</td>\n",
       "      <td>0</td>\n",
       "      <td>0</td>\n",
       "      <td>0</td>\n",
       "      <td>0</td>\n",
       "      <td>0</td>\n",
       "      <td>0</td>\n",
       "      <td>0</td>\n",
       "      <td>...</td>\n",
       "      <td>5675</td>\n",
       "      <td>5678</td>\n",
       "      <td>5690</td>\n",
       "      <td>5783</td>\n",
       "      <td>5823</td>\n",
       "      <td>5841</td>\n",
       "      <td>5883</td>\n",
       "      <td>5914</td>\n",
       "      <td>5924</td>\n",
       "      <td>5924</td>\n",
       "    </tr>\n",
       "  </tbody>\n",
       "</table>\n",
       "<p>253 rows × 245 columns</p>\n",
       "</div>"
      ],
      "text/plain": [
       "         Country/Region  1/22/20  1/23/20  1/24/20  1/25/20  1/26/20  1/27/20  \\\n",
       "0           Afghanistan        0        0        0        0        0        0   \n",
       "1               Albania        0        0        0        0        0        0   \n",
       "2               Algeria        0        0        0        0        0        0   \n",
       "3               Andorra        0        0        0        0        0        0   \n",
       "4                Angola        0        0        0        0        0        0   \n",
       "..                  ...      ...      ...      ...      ...      ...      ...   \n",
       "248  West Bank and Gaza        0        0        0        0        0        0   \n",
       "249      Western Sahara        0        0        0        0        0        0   \n",
       "250               Yemen        0        0        0        0        0        0   \n",
       "251              Zambia        0        0        0        0        0        0   \n",
       "252            Zimbabwe        0        0        0        0        0        0   \n",
       "\n",
       "     1/28/20  1/29/20  1/30/20  ...  9/12/20  9/13/20  9/14/20  9/15/20  \\\n",
       "0          0        0        0  ...    31234    31638    32073    32098   \n",
       "1          0        0        0  ...     6494     6569     6615     6668   \n",
       "2          0        0        0  ...    33875    34037    34204    34385   \n",
       "3          0        0        0  ...      943      943      945      945   \n",
       "4          0        0        0  ...     1289     1301     1324     1332   \n",
       "..       ...      ...      ...  ...      ...      ...      ...      ...   \n",
       "248        0        0        0  ...    19979    20082    21406    21804   \n",
       "249        0        0        0  ...        8        8        8        8   \n",
       "250        0        0        0  ...     1211     1212     1215     1219   \n",
       "251        0        0        0  ...    12007    12260    12380    12590   \n",
       "252        0        0        0  ...     5675     5678     5690     5783   \n",
       "\n",
       "     9/16/20  9/17/20  9/18/20  9/19/20  9/20/20  9/21/20  \n",
       "0      32503    32505    32576    32576    32576    32576  \n",
       "1       6733     6788     6831     6888     6940     6995  \n",
       "2      34517    34675    34818    34923    35047    35180  \n",
       "3       1054     1054     1164     1164     1164     1199  \n",
       "4       1401     1405     1443     1445     1445     1449  \n",
       "..       ...      ...      ...      ...      ...      ...  \n",
       "248    22209    23060    23333    23446    23700    24428  \n",
       "249        8        8        8        8        8        8  \n",
       "250     1221     1221     1221     1221     1227     1235  \n",
       "251    12869    13029    13207    13365    13365    13629  \n",
       "252     5823     5841     5883     5914     5924     5924  \n",
       "\n",
       "[253 rows x 245 columns]"
      ]
     },
     "execution_count": 7,
     "metadata": {},
     "output_type": "execute_result"
    }
   ],
   "source": [
    "df"
   ]
  },
  {
   "cell_type": "code",
   "execution_count": 8,
   "metadata": {
    "colab": {
     "base_uri": "https://localhost:8080/"
    },
    "executionInfo": {
     "elapsed": 501,
     "status": "ok",
     "timestamp": 1632839647240,
     "user": {
      "displayName": "Ram Katapadi",
      "photoUrl": "https://lh3.googleusercontent.com/a/default-user=s64",
      "userId": "05196726169692284921"
     },
     "user_tz": -330
    },
    "id": "P9tzHw8XtpnX",
    "outputId": "66a12a43-05aa-4d43-b595-7a90aeec1377"
   },
   "outputs": [
    {
     "data": {
      "text/plain": [
       "0"
      ]
     },
     "execution_count": 8,
     "metadata": {},
     "output_type": "execute_result"
    }
   ],
   "source": [
    "df['Country/Region'].isnull().sum()"
   ]
  },
  {
   "cell_type": "markdown",
   "metadata": {
    "id": "06cb9d49"
   },
   "source": [
    "### Transpose data"
   ]
  },
  {
   "cell_type": "code",
   "execution_count": 9,
   "metadata": {
    "executionInfo": {
     "elapsed": 436,
     "status": "ok",
     "timestamp": 1632839650809,
     "user": {
      "displayName": "Ram Katapadi",
      "photoUrl": "https://lh3.googleusercontent.com/a/default-user=s64",
      "userId": "05196726169692284921"
     },
     "user_tz": -330
    },
    "id": "2630e064"
   },
   "outputs": [],
   "source": [
    "df = df.melt(id_vars=\"Country/Region\", \n",
    "        var_name=\"Date\", \n",
    "        value_name=\"Cases\")"
   ]
  },
  {
   "cell_type": "code",
   "execution_count": 10,
   "metadata": {
    "colab": {
     "base_uri": "https://localhost:8080/",
     "height": 205
    },
    "executionInfo": {
     "elapsed": 846,
     "status": "ok",
     "timestamp": 1632839655814,
     "user": {
      "displayName": "Ram Katapadi",
      "photoUrl": "https://lh3.googleusercontent.com/a/default-user=s64",
      "userId": "05196726169692284921"
     },
     "user_tz": -330
    },
    "id": "3aa4e0e1",
    "outputId": "cafeda00-8194-4a00-ea7d-a115b859ae21"
   },
   "outputs": [
    {
     "data": {
      "text/html": [
       "<div>\n",
       "<style scoped>\n",
       "    .dataframe tbody tr th:only-of-type {\n",
       "        vertical-align: middle;\n",
       "    }\n",
       "\n",
       "    .dataframe tbody tr th {\n",
       "        vertical-align: top;\n",
       "    }\n",
       "\n",
       "    .dataframe thead th {\n",
       "        text-align: right;\n",
       "    }\n",
       "</style>\n",
       "<table border=\"1\" class=\"dataframe\">\n",
       "  <thead>\n",
       "    <tr style=\"text-align: right;\">\n",
       "      <th></th>\n",
       "      <th>Country/Region</th>\n",
       "      <th>Date</th>\n",
       "      <th>Cases</th>\n",
       "    </tr>\n",
       "  </thead>\n",
       "  <tbody>\n",
       "    <tr>\n",
       "      <th>0</th>\n",
       "      <td>Afghanistan</td>\n",
       "      <td>1/22/20</td>\n",
       "      <td>0</td>\n",
       "    </tr>\n",
       "    <tr>\n",
       "      <th>1</th>\n",
       "      <td>Albania</td>\n",
       "      <td>1/22/20</td>\n",
       "      <td>0</td>\n",
       "    </tr>\n",
       "    <tr>\n",
       "      <th>2</th>\n",
       "      <td>Algeria</td>\n",
       "      <td>1/22/20</td>\n",
       "      <td>0</td>\n",
       "    </tr>\n",
       "    <tr>\n",
       "      <th>3</th>\n",
       "      <td>Andorra</td>\n",
       "      <td>1/22/20</td>\n",
       "      <td>0</td>\n",
       "    </tr>\n",
       "    <tr>\n",
       "      <th>4</th>\n",
       "      <td>Angola</td>\n",
       "      <td>1/22/20</td>\n",
       "      <td>0</td>\n",
       "    </tr>\n",
       "  </tbody>\n",
       "</table>\n",
       "</div>"
      ],
      "text/plain": [
       "  Country/Region     Date  Cases\n",
       "0    Afghanistan  1/22/20      0\n",
       "1        Albania  1/22/20      0\n",
       "2        Algeria  1/22/20      0\n",
       "3        Andorra  1/22/20      0\n",
       "4         Angola  1/22/20      0"
      ]
     },
     "execution_count": 10,
     "metadata": {},
     "output_type": "execute_result"
    }
   ],
   "source": [
    "df.head()"
   ]
  },
  {
   "cell_type": "code",
   "execution_count": 11,
   "metadata": {
    "colab": {
     "base_uri": "https://localhost:8080/"
    },
    "executionInfo": {
     "elapsed": 709,
     "status": "ok",
     "timestamp": 1632839659820,
     "user": {
      "displayName": "Ram Katapadi",
      "photoUrl": "https://lh3.googleusercontent.com/a/default-user=s64",
      "userId": "05196726169692284921"
     },
     "user_tz": -330
    },
    "id": "f02ab9ff",
    "outputId": "0c2bc2b0-46bd-4cd0-bb78-26d19c42ccc9"
   },
   "outputs": [
    {
     "name": "stdout",
     "output_type": "stream",
     "text": [
      "<class 'pandas.core.frame.DataFrame'>\n",
      "RangeIndex: 61732 entries, 0 to 61731\n",
      "Data columns (total 3 columns):\n",
      " #   Column          Non-Null Count  Dtype \n",
      "---  ------          --------------  ----- \n",
      " 0   Country/Region  61732 non-null  object\n",
      " 1   Date            61732 non-null  object\n",
      " 2   Cases           61732 non-null  int64 \n",
      "dtypes: int64(1), object(2)\n",
      "memory usage: 1.4+ MB\n"
     ]
    }
   ],
   "source": [
    "df.info()"
   ]
  },
  {
   "cell_type": "code",
   "execution_count": 12,
   "metadata": {},
   "outputs": [
    {
     "data": {
      "text/plain": [
       "(61732, 3)"
      ]
     },
     "execution_count": 12,
     "metadata": {},
     "output_type": "execute_result"
    }
   ],
   "source": [
    "df.shape"
   ]
  },
  {
   "cell_type": "code",
   "execution_count": 13,
   "metadata": {
    "colab": {
     "base_uri": "https://localhost:8080/"
    },
    "executionInfo": {
     "elapsed": 485,
     "status": "ok",
     "timestamp": 1632839728650,
     "user": {
      "displayName": "Ram Katapadi",
      "photoUrl": "https://lh3.googleusercontent.com/a/default-user=s64",
      "userId": "05196726169692284921"
     },
     "user_tz": -330
    },
    "id": "8398a3ce",
    "outputId": "55dc138f-351e-4658-a96a-a2ddcd0b9a72"
   },
   "outputs": [
    {
     "data": {
      "text/plain": [
       "array([    0,    28,     2, ..., 48369, 56726, 24428], dtype=int64)"
      ]
     },
     "execution_count": 13,
     "metadata": {},
     "output_type": "execute_result"
    }
   ],
   "source": [
    "df.Cases.unique()"
   ]
  },
  {
   "cell_type": "code",
   "execution_count": 14,
   "metadata": {
    "colab": {
     "base_uri": "https://localhost:8080/"
    },
    "executionInfo": {
     "elapsed": 22,
     "status": "ok",
     "timestamp": 1632839732411,
     "user": {
      "displayName": "Ram Katapadi",
      "photoUrl": "https://lh3.googleusercontent.com/a/default-user=s64",
      "userId": "05196726169692284921"
     },
     "user_tz": -330
    },
    "id": "bb377c9f",
    "outputId": "955ffe2d-4dd7-4bc1-e7a0-f6067dfd6a2d"
   },
   "outputs": [
    {
     "data": {
      "text/plain": [
       "Country/Region    14338\n",
       "Date              14338\n",
       "Cases             14338\n",
       "dtype: int64"
      ]
     },
     "execution_count": 14,
     "metadata": {},
     "output_type": "execute_result"
    }
   ],
   "source": [
    "# check for countries having 0 cases and we may want to get rid off them\n",
    "df.loc[df['Cases']==0].count()"
   ]
  },
  {
   "cell_type": "code",
   "execution_count": 15,
   "metadata": {},
   "outputs": [],
   "source": [
    "df1 = df.loc[(df['Cases']>0)]"
   ]
  },
  {
   "cell_type": "code",
   "execution_count": 16,
   "metadata": {},
   "outputs": [
    {
     "data": {
      "text/plain": [
       "Country/Region    0\n",
       "Date              0\n",
       "Cases             0\n",
       "dtype: int64"
      ]
     },
     "execution_count": 16,
     "metadata": {},
     "output_type": "execute_result"
    }
   ],
   "source": [
    "df1.loc[df1['Cases']==0].count()"
   ]
  },
  {
   "cell_type": "code",
   "execution_count": 17,
   "metadata": {},
   "outputs": [
    {
     "data": {
      "text/plain": [
       "(47394, 3)"
      ]
     },
     "execution_count": 17,
     "metadata": {},
     "output_type": "execute_result"
    }
   ],
   "source": [
    "df1.shape"
   ]
  },
  {
   "cell_type": "code",
   "execution_count": 18,
   "metadata": {},
   "outputs": [
    {
     "data": {
      "text/plain": [
       "47394"
      ]
     },
     "execution_count": 18,
     "metadata": {},
     "output_type": "execute_result"
    }
   ],
   "source": [
    "61732-14338"
   ]
  },
  {
   "cell_type": "code",
   "execution_count": 19,
   "metadata": {},
   "outputs": [
    {
     "data": {
      "text/html": [
       "<div>\n",
       "<style scoped>\n",
       "    .dataframe tbody tr th:only-of-type {\n",
       "        vertical-align: middle;\n",
       "    }\n",
       "\n",
       "    .dataframe tbody tr th {\n",
       "        vertical-align: top;\n",
       "    }\n",
       "\n",
       "    .dataframe thead th {\n",
       "        text-align: right;\n",
       "    }\n",
       "</style>\n",
       "<table border=\"1\" class=\"dataframe\">\n",
       "  <thead>\n",
       "    <tr style=\"text-align: right;\">\n",
       "      <th></th>\n",
       "      <th>Country/Region</th>\n",
       "      <th>Date</th>\n",
       "      <th>Cases</th>\n",
       "    </tr>\n",
       "  </thead>\n",
       "  <tbody>\n",
       "    <tr>\n",
       "      <th>56</th>\n",
       "      <td>China</td>\n",
       "      <td>1/22/20</td>\n",
       "      <td>28</td>\n",
       "    </tr>\n",
       "    <tr>\n",
       "      <th>301</th>\n",
       "      <td>China</td>\n",
       "      <td>1/23/20</td>\n",
       "      <td>2</td>\n",
       "    </tr>\n",
       "    <tr>\n",
       "      <th>309</th>\n",
       "      <td>China</td>\n",
       "      <td>1/23/20</td>\n",
       "      <td>28</td>\n",
       "    </tr>\n",
       "    <tr>\n",
       "      <th>550</th>\n",
       "      <td>China</td>\n",
       "      <td>1/24/20</td>\n",
       "      <td>1</td>\n",
       "    </tr>\n",
       "    <tr>\n",
       "      <th>554</th>\n",
       "      <td>China</td>\n",
       "      <td>1/24/20</td>\n",
       "      <td>2</td>\n",
       "    </tr>\n",
       "    <tr>\n",
       "      <th>...</th>\n",
       "      <td>...</td>\n",
       "      <td>...</td>\n",
       "      <td>...</td>\n",
       "    </tr>\n",
       "    <tr>\n",
       "      <th>61727</th>\n",
       "      <td>West Bank and Gaza</td>\n",
       "      <td>9/21/20</td>\n",
       "      <td>24428</td>\n",
       "    </tr>\n",
       "    <tr>\n",
       "      <th>61728</th>\n",
       "      <td>Western Sahara</td>\n",
       "      <td>9/21/20</td>\n",
       "      <td>8</td>\n",
       "    </tr>\n",
       "    <tr>\n",
       "      <th>61729</th>\n",
       "      <td>Yemen</td>\n",
       "      <td>9/21/20</td>\n",
       "      <td>1235</td>\n",
       "    </tr>\n",
       "    <tr>\n",
       "      <th>61730</th>\n",
       "      <td>Zambia</td>\n",
       "      <td>9/21/20</td>\n",
       "      <td>13629</td>\n",
       "    </tr>\n",
       "    <tr>\n",
       "      <th>61731</th>\n",
       "      <td>Zimbabwe</td>\n",
       "      <td>9/21/20</td>\n",
       "      <td>5924</td>\n",
       "    </tr>\n",
       "  </tbody>\n",
       "</table>\n",
       "<p>47394 rows × 3 columns</p>\n",
       "</div>"
      ],
      "text/plain": [
       "           Country/Region     Date  Cases\n",
       "56                  China  1/22/20     28\n",
       "301                 China  1/23/20      2\n",
       "309                 China  1/23/20     28\n",
       "550                 China  1/24/20      1\n",
       "554                 China  1/24/20      2\n",
       "...                   ...      ...    ...\n",
       "61727  West Bank and Gaza  9/21/20  24428\n",
       "61728      Western Sahara  9/21/20      8\n",
       "61729               Yemen  9/21/20   1235\n",
       "61730              Zambia  9/21/20  13629\n",
       "61731            Zimbabwe  9/21/20   5924\n",
       "\n",
       "[47394 rows x 3 columns]"
      ]
     },
     "execution_count": 19,
     "metadata": {},
     "output_type": "execute_result"
    }
   ],
   "source": [
    "df1"
   ]
  },
  {
   "cell_type": "code",
   "execution_count": 20,
   "metadata": {
    "colab": {
     "base_uri": "https://localhost:8080/"
    },
    "executionInfo": {
     "elapsed": 569,
     "status": "ok",
     "timestamp": 1632840694452,
     "user": {
      "displayName": "Ram Katapadi",
      "photoUrl": "https://lh3.googleusercontent.com/a/default-user=s64",
      "userId": "05196726169692284921"
     },
     "user_tz": -330
    },
    "id": "1e18b9a0",
    "outputId": "1895969d-dd1c-4e27-93ee-398df420e4f2"
   },
   "outputs": [],
   "source": [
    "df1['Date']=pd.to_datetime(df1['Date'])"
   ]
  },
  {
   "cell_type": "code",
   "execution_count": 21,
   "metadata": {
    "colab": {
     "base_uri": "https://localhost:8080/"
    },
    "executionInfo": {
     "elapsed": 511,
     "status": "ok",
     "timestamp": 1632841942102,
     "user": {
      "displayName": "Ram Katapadi",
      "photoUrl": "https://lh3.googleusercontent.com/a/default-user=s64",
      "userId": "05196726169692284921"
     },
     "user_tz": -330
    },
    "id": "IiRhC7hu1vR6",
    "outputId": "4e0c12b2-fe98-4b7c-e73b-1711ac765ddd"
   },
   "outputs": [
    {
     "name": "stdout",
     "output_type": "stream",
     "text": [
      "<class 'pandas.core.frame.DataFrame'>\n",
      "Int64Index: 47394 entries, 56 to 61731\n",
      "Data columns (total 3 columns):\n",
      " #   Column          Non-Null Count  Dtype         \n",
      "---  ------          --------------  -----         \n",
      " 0   Country/Region  47394 non-null  object        \n",
      " 1   Date            47394 non-null  datetime64[ns]\n",
      " 2   Cases           47394 non-null  int64         \n",
      "dtypes: datetime64[ns](1), int64(1), object(1)\n",
      "memory usage: 1.4+ MB\n"
     ]
    }
   ],
   "source": [
    "df1.info()"
   ]
  },
  {
   "cell_type": "markdown",
   "metadata": {},
   "source": [
    "### Prepare the data"
   ]
  },
  {
   "cell_type": "raw",
   "metadata": {},
   "source": [
    "# Study of the data reveals that Cumulative number of cases of covid recoveries are given and hence in order\n",
    "# to draw some insights on per day analysis we have to arrange the data per day basis only."
   ]
  },
  {
   "cell_type": "code",
   "execution_count": 22,
   "metadata": {},
   "outputs": [],
   "source": [
    "# sort the dataframe df1 by country/region , date\n",
    "df1.sort_values(by = ['Country/Region', 'Date'], axis=0, ascending=[True, True], inplace=True,\n",
    "               kind='quicksort', na_position='first', ignore_index=True, key=None)"
   ]
  },
  {
   "cell_type": "code",
   "execution_count": 23,
   "metadata": {},
   "outputs": [],
   "source": [
    "df1['CasesPerD'] = df1.groupby('Country/Region')['Cases'].diff()"
   ]
  },
  {
   "cell_type": "code",
   "execution_count": 24,
   "metadata": {},
   "outputs": [
    {
     "data": {
      "text/html": [
       "<div>\n",
       "<style scoped>\n",
       "    .dataframe tbody tr th:only-of-type {\n",
       "        vertical-align: middle;\n",
       "    }\n",
       "\n",
       "    .dataframe tbody tr th {\n",
       "        vertical-align: top;\n",
       "    }\n",
       "\n",
       "    .dataframe thead th {\n",
       "        text-align: right;\n",
       "    }\n",
       "</style>\n",
       "<table border=\"1\" class=\"dataframe\">\n",
       "  <thead>\n",
       "    <tr style=\"text-align: right;\">\n",
       "      <th></th>\n",
       "      <th>Country/Region</th>\n",
       "      <th>Date</th>\n",
       "      <th>Cases</th>\n",
       "      <th>CasesPerD</th>\n",
       "    </tr>\n",
       "  </thead>\n",
       "  <tbody>\n",
       "    <tr>\n",
       "      <th>0</th>\n",
       "      <td>Afghanistan</td>\n",
       "      <td>2020-03-16</td>\n",
       "      <td>1</td>\n",
       "      <td>NaN</td>\n",
       "    </tr>\n",
       "    <tr>\n",
       "      <th>1</th>\n",
       "      <td>Afghanistan</td>\n",
       "      <td>2020-03-17</td>\n",
       "      <td>1</td>\n",
       "      <td>0.0</td>\n",
       "    </tr>\n",
       "    <tr>\n",
       "      <th>2</th>\n",
       "      <td>Afghanistan</td>\n",
       "      <td>2020-03-18</td>\n",
       "      <td>1</td>\n",
       "      <td>0.0</td>\n",
       "    </tr>\n",
       "    <tr>\n",
       "      <th>3</th>\n",
       "      <td>Afghanistan</td>\n",
       "      <td>2020-03-19</td>\n",
       "      <td>1</td>\n",
       "      <td>0.0</td>\n",
       "    </tr>\n",
       "    <tr>\n",
       "      <th>4</th>\n",
       "      <td>Afghanistan</td>\n",
       "      <td>2020-03-20</td>\n",
       "      <td>1</td>\n",
       "      <td>0.0</td>\n",
       "    </tr>\n",
       "    <tr>\n",
       "      <th>...</th>\n",
       "      <td>...</td>\n",
       "      <td>...</td>\n",
       "      <td>...</td>\n",
       "      <td>...</td>\n",
       "    </tr>\n",
       "    <tr>\n",
       "      <th>47389</th>\n",
       "      <td>Zimbabwe</td>\n",
       "      <td>2020-09-17</td>\n",
       "      <td>5841</td>\n",
       "      <td>18.0</td>\n",
       "    </tr>\n",
       "    <tr>\n",
       "      <th>47390</th>\n",
       "      <td>Zimbabwe</td>\n",
       "      <td>2020-09-18</td>\n",
       "      <td>5883</td>\n",
       "      <td>42.0</td>\n",
       "    </tr>\n",
       "    <tr>\n",
       "      <th>47391</th>\n",
       "      <td>Zimbabwe</td>\n",
       "      <td>2020-09-19</td>\n",
       "      <td>5914</td>\n",
       "      <td>31.0</td>\n",
       "    </tr>\n",
       "    <tr>\n",
       "      <th>47392</th>\n",
       "      <td>Zimbabwe</td>\n",
       "      <td>2020-09-20</td>\n",
       "      <td>5924</td>\n",
       "      <td>10.0</td>\n",
       "    </tr>\n",
       "    <tr>\n",
       "      <th>47393</th>\n",
       "      <td>Zimbabwe</td>\n",
       "      <td>2020-09-21</td>\n",
       "      <td>5924</td>\n",
       "      <td>0.0</td>\n",
       "    </tr>\n",
       "  </tbody>\n",
       "</table>\n",
       "<p>47394 rows × 4 columns</p>\n",
       "</div>"
      ],
      "text/plain": [
       "      Country/Region       Date  Cases  CasesPerD\n",
       "0        Afghanistan 2020-03-16      1        NaN\n",
       "1        Afghanistan 2020-03-17      1        0.0\n",
       "2        Afghanistan 2020-03-18      1        0.0\n",
       "3        Afghanistan 2020-03-19      1        0.0\n",
       "4        Afghanistan 2020-03-20      1        0.0\n",
       "...              ...        ...    ...        ...\n",
       "47389       Zimbabwe 2020-09-17   5841       18.0\n",
       "47390       Zimbabwe 2020-09-18   5883       42.0\n",
       "47391       Zimbabwe 2020-09-19   5914       31.0\n",
       "47392       Zimbabwe 2020-09-20   5924       10.0\n",
       "47393       Zimbabwe 2020-09-21   5924        0.0\n",
       "\n",
       "[47394 rows x 4 columns]"
      ]
     },
     "execution_count": 24,
     "metadata": {},
     "output_type": "execute_result"
    }
   ],
   "source": [
    "df1"
   ]
  },
  {
   "cell_type": "code",
   "execution_count": 25,
   "metadata": {},
   "outputs": [
    {
     "data": {
      "text/html": [
       "<div>\n",
       "<style scoped>\n",
       "    .dataframe tbody tr th:only-of-type {\n",
       "        vertical-align: middle;\n",
       "    }\n",
       "\n",
       "    .dataframe tbody tr th {\n",
       "        vertical-align: top;\n",
       "    }\n",
       "\n",
       "    .dataframe thead th {\n",
       "        text-align: right;\n",
       "    }\n",
       "</style>\n",
       "<table border=\"1\" class=\"dataframe\">\n",
       "  <thead>\n",
       "    <tr style=\"text-align: right;\">\n",
       "      <th></th>\n",
       "      <th>Country/Region</th>\n",
       "      <th>Date</th>\n",
       "      <th>Cases</th>\n",
       "      <th>CasesPerD</th>\n",
       "    </tr>\n",
       "  </thead>\n",
       "  <tbody>\n",
       "    <tr>\n",
       "      <th>0</th>\n",
       "      <td>Afghanistan</td>\n",
       "      <td>2020-03-16</td>\n",
       "      <td>1</td>\n",
       "      <td>NaN</td>\n",
       "    </tr>\n",
       "  </tbody>\n",
       "</table>\n",
       "</div>"
      ],
      "text/plain": [
       "  Country/Region       Date  Cases  CasesPerD\n",
       "0    Afghanistan 2020-03-16      1        NaN"
      ]
     },
     "execution_count": 25,
     "metadata": {},
     "output_type": "execute_result"
    }
   ],
   "source": [
    "df1.loc[(df1['Cases']>0) & (df1['Country/Region']=='Afghanistan') & (df1['CasesPerD'].isnull())]"
   ]
  },
  {
   "cell_type": "code",
   "execution_count": 26,
   "metadata": {},
   "outputs": [],
   "source": [
    "df2=df1"
   ]
  },
  {
   "cell_type": "code",
   "execution_count": 27,
   "metadata": {},
   "outputs": [],
   "source": [
    "df1['CasesPerD'] = np.where(df1['CasesPerD'].isnull(), df1['Cases'], df1['CasesPerD'])"
   ]
  },
  {
   "cell_type": "code",
   "execution_count": 28,
   "metadata": {
    "colab": {
     "base_uri": "https://localhost:8080/"
    },
    "executionInfo": {
     "elapsed": 496,
     "status": "ok",
     "timestamp": 1632841987362,
     "user": {
      "displayName": "Ram Katapadi",
      "photoUrl": "https://lh3.googleusercontent.com/a/default-user=s64",
      "userId": "05196726169692284921"
     },
     "user_tz": -330
    },
    "id": "X1sLPDil6tT8",
    "outputId": "c99bf376-4694-48f5-b446-9f933ca142c7"
   },
   "outputs": [],
   "source": [
    "df1['yyyymm']=df1['Date'].dt.year.astype(str) + \"-\" + df1['Date'].dt.month.astype(str)"
   ]
  },
  {
   "cell_type": "code",
   "execution_count": 29,
   "metadata": {},
   "outputs": [
    {
     "data": {
      "text/plain": [
       "array(['2020-3', '2020-4', '2020-5', '2020-6', '2020-7', '2020-8',\n",
       "       '2020-9', '2020-1', '2020-2'], dtype=object)"
      ]
     },
     "execution_count": 29,
     "metadata": {},
     "output_type": "execute_result"
    }
   ],
   "source": [
    "df1.yyyymm.unique()"
   ]
  },
  {
   "cell_type": "code",
   "execution_count": 30,
   "metadata": {
    "executionInfo": {
     "elapsed": 478,
     "status": "ok",
     "timestamp": 1632847317731,
     "user": {
      "displayName": "Ram Katapadi",
      "photoUrl": "https://lh3.googleusercontent.com/a/default-user=s64",
      "userId": "05196726169692284921"
     },
     "user_tz": -330
    },
    "id": "t1v8c9hwGsNp",
    "scrolled": true
   },
   "outputs": [
    {
     "data": {
      "text/html": [
       "<div>\n",
       "<style scoped>\n",
       "    .dataframe tbody tr th:only-of-type {\n",
       "        vertical-align: middle;\n",
       "    }\n",
       "\n",
       "    .dataframe tbody tr th {\n",
       "        vertical-align: top;\n",
       "    }\n",
       "\n",
       "    .dataframe thead th {\n",
       "        text-align: right;\n",
       "    }\n",
       "</style>\n",
       "<table border=\"1\" class=\"dataframe\">\n",
       "  <thead>\n",
       "    <tr style=\"text-align: right;\">\n",
       "      <th></th>\n",
       "      <th>Country/Region</th>\n",
       "      <th>Date</th>\n",
       "      <th>Cases</th>\n",
       "      <th>CasesPerD</th>\n",
       "      <th>yyyymm</th>\n",
       "    </tr>\n",
       "  </thead>\n",
       "  <tbody>\n",
       "    <tr>\n",
       "      <th>169</th>\n",
       "      <td>Afghanistan</td>\n",
       "      <td>2020-09-01</td>\n",
       "      <td>29231</td>\n",
       "      <td>142.0</td>\n",
       "      <td>2020-9</td>\n",
       "    </tr>\n",
       "    <tr>\n",
       "      <th>170</th>\n",
       "      <td>Afghanistan</td>\n",
       "      <td>2020-09-02</td>\n",
       "      <td>29315</td>\n",
       "      <td>84.0</td>\n",
       "      <td>2020-9</td>\n",
       "    </tr>\n",
       "    <tr>\n",
       "      <th>171</th>\n",
       "      <td>Afghanistan</td>\n",
       "      <td>2020-09-03</td>\n",
       "      <td>29390</td>\n",
       "      <td>75.0</td>\n",
       "      <td>2020-9</td>\n",
       "    </tr>\n",
       "    <tr>\n",
       "      <th>172</th>\n",
       "      <td>Afghanistan</td>\n",
       "      <td>2020-09-04</td>\n",
       "      <td>29713</td>\n",
       "      <td>323.0</td>\n",
       "      <td>2020-9</td>\n",
       "    </tr>\n",
       "    <tr>\n",
       "      <th>173</th>\n",
       "      <td>Afghanistan</td>\n",
       "      <td>2020-09-05</td>\n",
       "      <td>30082</td>\n",
       "      <td>369.0</td>\n",
       "      <td>2020-9</td>\n",
       "    </tr>\n",
       "    <tr>\n",
       "      <th>...</th>\n",
       "      <td>...</td>\n",
       "      <td>...</td>\n",
       "      <td>...</td>\n",
       "      <td>...</td>\n",
       "      <td>...</td>\n",
       "    </tr>\n",
       "    <tr>\n",
       "      <th>47389</th>\n",
       "      <td>Zimbabwe</td>\n",
       "      <td>2020-09-17</td>\n",
       "      <td>5841</td>\n",
       "      <td>18.0</td>\n",
       "      <td>2020-9</td>\n",
       "    </tr>\n",
       "    <tr>\n",
       "      <th>47390</th>\n",
       "      <td>Zimbabwe</td>\n",
       "      <td>2020-09-18</td>\n",
       "      <td>5883</td>\n",
       "      <td>42.0</td>\n",
       "      <td>2020-9</td>\n",
       "    </tr>\n",
       "    <tr>\n",
       "      <th>47391</th>\n",
       "      <td>Zimbabwe</td>\n",
       "      <td>2020-09-19</td>\n",
       "      <td>5914</td>\n",
       "      <td>31.0</td>\n",
       "      <td>2020-9</td>\n",
       "    </tr>\n",
       "    <tr>\n",
       "      <th>47392</th>\n",
       "      <td>Zimbabwe</td>\n",
       "      <td>2020-09-20</td>\n",
       "      <td>5924</td>\n",
       "      <td>10.0</td>\n",
       "      <td>2020-9</td>\n",
       "    </tr>\n",
       "    <tr>\n",
       "      <th>47393</th>\n",
       "      <td>Zimbabwe</td>\n",
       "      <td>2020-09-21</td>\n",
       "      <td>5924</td>\n",
       "      <td>0.0</td>\n",
       "      <td>2020-9</td>\n",
       "    </tr>\n",
       "  </tbody>\n",
       "</table>\n",
       "<p>5208 rows × 5 columns</p>\n",
       "</div>"
      ],
      "text/plain": [
       "      Country/Region       Date  Cases  CasesPerD  yyyymm\n",
       "169      Afghanistan 2020-09-01  29231      142.0  2020-9\n",
       "170      Afghanistan 2020-09-02  29315       84.0  2020-9\n",
       "171      Afghanistan 2020-09-03  29390       75.0  2020-9\n",
       "172      Afghanistan 2020-09-04  29713      323.0  2020-9\n",
       "173      Afghanistan 2020-09-05  30082      369.0  2020-9\n",
       "...              ...        ...    ...        ...     ...\n",
       "47389       Zimbabwe 2020-09-17   5841       18.0  2020-9\n",
       "47390       Zimbabwe 2020-09-18   5883       42.0  2020-9\n",
       "47391       Zimbabwe 2020-09-19   5914       31.0  2020-9\n",
       "47392       Zimbabwe 2020-09-20   5924       10.0  2020-9\n",
       "47393       Zimbabwe 2020-09-21   5924        0.0  2020-9\n",
       "\n",
       "[5208 rows x 5 columns]"
      ]
     },
     "execution_count": 30,
     "metadata": {},
     "output_type": "execute_result"
    }
   ],
   "source": [
    "df1.loc[df1['yyyymm']=='2020-9'] ##.sum()"
   ]
  },
  {
   "cell_type": "code",
   "execution_count": 31,
   "metadata": {},
   "outputs": [
    {
     "data": {
      "text/html": [
       "<div>\n",
       "<style scoped>\n",
       "    .dataframe tbody tr th:only-of-type {\n",
       "        vertical-align: middle;\n",
       "    }\n",
       "\n",
       "    .dataframe tbody tr th {\n",
       "        vertical-align: top;\n",
       "    }\n",
       "\n",
       "    .dataframe thead th {\n",
       "        text-align: right;\n",
       "    }\n",
       "</style>\n",
       "<table border=\"1\" class=\"dataframe\">\n",
       "  <thead>\n",
       "    <tr style=\"text-align: right;\">\n",
       "      <th></th>\n",
       "      <th>Country/Region</th>\n",
       "      <th>Date</th>\n",
       "      <th>Cases</th>\n",
       "      <th>CasesPerD</th>\n",
       "      <th>yyyymm</th>\n",
       "    </tr>\n",
       "  </thead>\n",
       "  <tbody>\n",
       "    <tr>\n",
       "      <th>375</th>\n",
       "      <td>Algeria</td>\n",
       "      <td>2020-03-12</td>\n",
       "      <td>8</td>\n",
       "      <td>8.0</td>\n",
       "      <td>2020-3</td>\n",
       "    </tr>\n",
       "    <tr>\n",
       "      <th>376</th>\n",
       "      <td>Algeria</td>\n",
       "      <td>2020-03-13</td>\n",
       "      <td>8</td>\n",
       "      <td>0.0</td>\n",
       "      <td>2020-3</td>\n",
       "    </tr>\n",
       "    <tr>\n",
       "      <th>377</th>\n",
       "      <td>Algeria</td>\n",
       "      <td>2020-03-14</td>\n",
       "      <td>12</td>\n",
       "      <td>4.0</td>\n",
       "      <td>2020-3</td>\n",
       "    </tr>\n",
       "    <tr>\n",
       "      <th>378</th>\n",
       "      <td>Algeria</td>\n",
       "      <td>2020-03-15</td>\n",
       "      <td>12</td>\n",
       "      <td>0.0</td>\n",
       "      <td>2020-3</td>\n",
       "    </tr>\n",
       "    <tr>\n",
       "      <th>379</th>\n",
       "      <td>Algeria</td>\n",
       "      <td>2020-03-16</td>\n",
       "      <td>12</td>\n",
       "      <td>0.0</td>\n",
       "      <td>2020-3</td>\n",
       "    </tr>\n",
       "    <tr>\n",
       "      <th>380</th>\n",
       "      <td>Algeria</td>\n",
       "      <td>2020-03-17</td>\n",
       "      <td>12</td>\n",
       "      <td>0.0</td>\n",
       "      <td>2020-3</td>\n",
       "    </tr>\n",
       "    <tr>\n",
       "      <th>381</th>\n",
       "      <td>Algeria</td>\n",
       "      <td>2020-03-18</td>\n",
       "      <td>12</td>\n",
       "      <td>0.0</td>\n",
       "      <td>2020-3</td>\n",
       "    </tr>\n",
       "    <tr>\n",
       "      <th>382</th>\n",
       "      <td>Algeria</td>\n",
       "      <td>2020-03-19</td>\n",
       "      <td>32</td>\n",
       "      <td>20.0</td>\n",
       "      <td>2020-3</td>\n",
       "    </tr>\n",
       "    <tr>\n",
       "      <th>383</th>\n",
       "      <td>Algeria</td>\n",
       "      <td>2020-03-20</td>\n",
       "      <td>32</td>\n",
       "      <td>0.0</td>\n",
       "      <td>2020-3</td>\n",
       "    </tr>\n",
       "    <tr>\n",
       "      <th>384</th>\n",
       "      <td>Algeria</td>\n",
       "      <td>2020-03-21</td>\n",
       "      <td>32</td>\n",
       "      <td>0.0</td>\n",
       "      <td>2020-3</td>\n",
       "    </tr>\n",
       "    <tr>\n",
       "      <th>385</th>\n",
       "      <td>Algeria</td>\n",
       "      <td>2020-03-22</td>\n",
       "      <td>65</td>\n",
       "      <td>33.0</td>\n",
       "      <td>2020-3</td>\n",
       "    </tr>\n",
       "    <tr>\n",
       "      <th>386</th>\n",
       "      <td>Algeria</td>\n",
       "      <td>2020-03-23</td>\n",
       "      <td>65</td>\n",
       "      <td>0.0</td>\n",
       "      <td>2020-3</td>\n",
       "    </tr>\n",
       "    <tr>\n",
       "      <th>387</th>\n",
       "      <td>Algeria</td>\n",
       "      <td>2020-03-24</td>\n",
       "      <td>24</td>\n",
       "      <td>-41.0</td>\n",
       "      <td>2020-3</td>\n",
       "    </tr>\n",
       "    <tr>\n",
       "      <th>388</th>\n",
       "      <td>Algeria</td>\n",
       "      <td>2020-03-25</td>\n",
       "      <td>65</td>\n",
       "      <td>41.0</td>\n",
       "      <td>2020-3</td>\n",
       "    </tr>\n",
       "    <tr>\n",
       "      <th>389</th>\n",
       "      <td>Algeria</td>\n",
       "      <td>2020-03-26</td>\n",
       "      <td>29</td>\n",
       "      <td>-36.0</td>\n",
       "      <td>2020-3</td>\n",
       "    </tr>\n",
       "    <tr>\n",
       "      <th>390</th>\n",
       "      <td>Algeria</td>\n",
       "      <td>2020-03-27</td>\n",
       "      <td>29</td>\n",
       "      <td>0.0</td>\n",
       "      <td>2020-3</td>\n",
       "    </tr>\n",
       "    <tr>\n",
       "      <th>391</th>\n",
       "      <td>Algeria</td>\n",
       "      <td>2020-03-28</td>\n",
       "      <td>31</td>\n",
       "      <td>2.0</td>\n",
       "      <td>2020-3</td>\n",
       "    </tr>\n",
       "    <tr>\n",
       "      <th>392</th>\n",
       "      <td>Algeria</td>\n",
       "      <td>2020-03-29</td>\n",
       "      <td>31</td>\n",
       "      <td>0.0</td>\n",
       "      <td>2020-3</td>\n",
       "    </tr>\n",
       "    <tr>\n",
       "      <th>393</th>\n",
       "      <td>Algeria</td>\n",
       "      <td>2020-03-30</td>\n",
       "      <td>37</td>\n",
       "      <td>6.0</td>\n",
       "      <td>2020-3</td>\n",
       "    </tr>\n",
       "    <tr>\n",
       "      <th>394</th>\n",
       "      <td>Algeria</td>\n",
       "      <td>2020-03-31</td>\n",
       "      <td>46</td>\n",
       "      <td>9.0</td>\n",
       "      <td>2020-3</td>\n",
       "    </tr>\n",
       "  </tbody>\n",
       "</table>\n",
       "</div>"
      ],
      "text/plain": [
       "    Country/Region       Date  Cases  CasesPerD  yyyymm\n",
       "375        Algeria 2020-03-12      8        8.0  2020-3\n",
       "376        Algeria 2020-03-13      8        0.0  2020-3\n",
       "377        Algeria 2020-03-14     12        4.0  2020-3\n",
       "378        Algeria 2020-03-15     12        0.0  2020-3\n",
       "379        Algeria 2020-03-16     12        0.0  2020-3\n",
       "380        Algeria 2020-03-17     12        0.0  2020-3\n",
       "381        Algeria 2020-03-18     12        0.0  2020-3\n",
       "382        Algeria 2020-03-19     32       20.0  2020-3\n",
       "383        Algeria 2020-03-20     32        0.0  2020-3\n",
       "384        Algeria 2020-03-21     32        0.0  2020-3\n",
       "385        Algeria 2020-03-22     65       33.0  2020-3\n",
       "386        Algeria 2020-03-23     65        0.0  2020-3\n",
       "387        Algeria 2020-03-24     24      -41.0  2020-3\n",
       "388        Algeria 2020-03-25     65       41.0  2020-3\n",
       "389        Algeria 2020-03-26     29      -36.0  2020-3\n",
       "390        Algeria 2020-03-27     29        0.0  2020-3\n",
       "391        Algeria 2020-03-28     31        2.0  2020-3\n",
       "392        Algeria 2020-03-29     31        0.0  2020-3\n",
       "393        Algeria 2020-03-30     37        6.0  2020-3\n",
       "394        Algeria 2020-03-31     46        9.0  2020-3"
      ]
     },
     "execution_count": 31,
     "metadata": {},
     "output_type": "execute_result"
    }
   ],
   "source": [
    "df1.loc[(df1['Cases']>0) & (df1['Country/Region']=='Algeria') & (df1['yyyymm']=='2020-3')]"
   ]
  },
  {
   "cell_type": "raw",
   "metadata": {},
   "source": [
    "## Since, we observe and consider that the Cases number in the daywise dataset is Cumulative one, per the rule /usually the Cases value always should be incremental one , contrary to this we have found some of the values in Cases column is decremented and hence, what we can guess is that some of the patients are recovered but again reported to be Covid+ second time and admitted/treated for Covid else there should be some typo issues."
   ]
  },
  {
   "cell_type": "code",
   "execution_count": 32,
   "metadata": {},
   "outputs": [
    {
     "data": {
      "text/html": [
       "<div>\n",
       "<style scoped>\n",
       "    .dataframe tbody tr th:only-of-type {\n",
       "        vertical-align: middle;\n",
       "    }\n",
       "\n",
       "    .dataframe tbody tr th {\n",
       "        vertical-align: top;\n",
       "    }\n",
       "\n",
       "    .dataframe thead th {\n",
       "        text-align: right;\n",
       "    }\n",
       "</style>\n",
       "<table border=\"1\" class=\"dataframe\">\n",
       "  <thead>\n",
       "    <tr style=\"text-align: right;\">\n",
       "      <th></th>\n",
       "      <th>Country/Region</th>\n",
       "      <th>Date</th>\n",
       "      <th>Cases</th>\n",
       "      <th>CasesPerD</th>\n",
       "      <th>yyyymm</th>\n",
       "    </tr>\n",
       "  </thead>\n",
       "  <tbody>\n",
       "    <tr>\n",
       "      <th>387</th>\n",
       "      <td>Algeria</td>\n",
       "      <td>2020-03-24</td>\n",
       "      <td>24</td>\n",
       "      <td>-41.0</td>\n",
       "      <td>2020-3</td>\n",
       "    </tr>\n",
       "    <tr>\n",
       "      <th>389</th>\n",
       "      <td>Algeria</td>\n",
       "      <td>2020-03-26</td>\n",
       "      <td>29</td>\n",
       "      <td>-36.0</td>\n",
       "      <td>2020-3</td>\n",
       "    </tr>\n",
       "    <tr>\n",
       "      <th>449</th>\n",
       "      <td>Algeria</td>\n",
       "      <td>2020-05-25</td>\n",
       "      <td>4747</td>\n",
       "      <td>-37.0</td>\n",
       "      <td>2020-5</td>\n",
       "    </tr>\n",
       "    <tr>\n",
       "      <th>912</th>\n",
       "      <td>Angola</td>\n",
       "      <td>2020-08-28</td>\n",
       "      <td>1028</td>\n",
       "      <td>-307.0</td>\n",
       "      <td>2020-8</td>\n",
       "    </tr>\n",
       "    <tr>\n",
       "      <th>1502</th>\n",
       "      <td>Australia</td>\n",
       "      <td>2020-02-17</td>\n",
       "      <td>2</td>\n",
       "      <td>-2.0</td>\n",
       "      <td>2020-2</td>\n",
       "    </tr>\n",
       "    <tr>\n",
       "      <th>...</th>\n",
       "      <td>...</td>\n",
       "      <td>...</td>\n",
       "      <td>...</td>\n",
       "      <td>...</td>\n",
       "      <td>...</td>\n",
       "    </tr>\n",
       "    <tr>\n",
       "      <th>46428</th>\n",
       "      <td>Vietnam</td>\n",
       "      <td>2020-04-30</td>\n",
       "      <td>219</td>\n",
       "      <td>-3.0</td>\n",
       "      <td>2020-4</td>\n",
       "    </tr>\n",
       "    <tr>\n",
       "      <th>46532</th>\n",
       "      <td>Vietnam</td>\n",
       "      <td>2020-08-12</td>\n",
       "      <td>409</td>\n",
       "      <td>-42.0</td>\n",
       "      <td>2020-8</td>\n",
       "    </tr>\n",
       "    <tr>\n",
       "      <th>46590</th>\n",
       "      <td>West Bank and Gaza</td>\n",
       "      <td>2020-04-06</td>\n",
       "      <td>24</td>\n",
       "      <td>-1.0</td>\n",
       "      <td>2020-4</td>\n",
       "    </tr>\n",
       "    <tr>\n",
       "      <th>46612</th>\n",
       "      <td>West Bank and Gaza</td>\n",
       "      <td>2020-04-28</td>\n",
       "      <td>71</td>\n",
       "      <td>-12.0</td>\n",
       "      <td>2020-4</td>\n",
       "    </tr>\n",
       "    <tr>\n",
       "      <th>46941</th>\n",
       "      <td>Yemen</td>\n",
       "      <td>2020-05-24</td>\n",
       "      <td>10</td>\n",
       "      <td>-1.0</td>\n",
       "      <td>2020-5</td>\n",
       "    </tr>\n",
       "  </tbody>\n",
       "</table>\n",
       "<p>7194 rows × 5 columns</p>\n",
       "</div>"
      ],
      "text/plain": [
       "           Country/Region       Date  Cases  CasesPerD  yyyymm\n",
       "387               Algeria 2020-03-24     24      -41.0  2020-3\n",
       "389               Algeria 2020-03-26     29      -36.0  2020-3\n",
       "449               Algeria 2020-05-25   4747      -37.0  2020-5\n",
       "912                Angola 2020-08-28   1028     -307.0  2020-8\n",
       "1502            Australia 2020-02-17      2       -2.0  2020-2\n",
       "...                   ...        ...    ...        ...     ...\n",
       "46428             Vietnam 2020-04-30    219       -3.0  2020-4\n",
       "46532             Vietnam 2020-08-12    409      -42.0  2020-8\n",
       "46590  West Bank and Gaza 2020-04-06     24       -1.0  2020-4\n",
       "46612  West Bank and Gaza 2020-04-28     71      -12.0  2020-4\n",
       "46941               Yemen 2020-05-24     10       -1.0  2020-5\n",
       "\n",
       "[7194 rows x 5 columns]"
      ]
     },
     "execution_count": 32,
     "metadata": {},
     "output_type": "execute_result"
    }
   ],
   "source": [
    "df1.loc[(df1['CasesPerD']<0)]"
   ]
  },
  {
   "cell_type": "code",
   "execution_count": 33,
   "metadata": {
    "colab": {
     "base_uri": "https://localhost:8080/",
     "height": 295
    },
    "executionInfo": {
     "elapsed": 808,
     "status": "ok",
     "timestamp": 1632842129723,
     "user": {
      "displayName": "Ram Katapadi",
      "photoUrl": "https://lh3.googleusercontent.com/a/default-user=s64",
      "userId": "05196726169692284921"
     },
     "user_tz": -330
    },
    "id": "QkHewNluudAk",
    "outputId": "666dac67-d78f-48ed-b7cb-933d59d7f627"
   },
   "outputs": [
    {
     "data": {
      "image/png": "[encoded data removed]",
      "text/plain": [
       "<Figure size 432x288 with 1 Axes>"
      ]
     },
     "metadata": {
      "needs_background": "light"
     },
     "output_type": "display_data"
    }
   ],
   "source": [
    "plt.title(\"Global - Covid-19 Cases (Recovered)\")\n",
    "plt.scatter(df1['yyyymm'], df1['CasesPerD'], color='darkblue', marker='x', label=\"#Cases\")\n",
    "plt.xlabel(\"Time (Months)\")\n",
    "plt.ylabel(\"# Cases\")\n",
    "#plt.grid(True)\n",
    "plt.legend()\n",
    "plt.show()"
   ]
  },
  {
   "cell_type": "raw",
   "metadata": {},
   "source": [
    "We see in the chart that some of the values are plotted on the negative area of the chart. We analyse that, if the Recovered case numbers are cumulative (as we study the data and considered it) daily, there should not be these numbers plotted at the negative side of the chart. Hence, if it is then the values may of typo error or it may be on a earlier day where some covid patients had been recovered but again reinfected by Covid again and again admitted as infected. In that case, the concerned department may be accounting this re-infected case as Confirmed but since he was earlier treated and considered as Recovered now reversed. \n"
   ]
  },
  {
   "cell_type": "code",
   "execution_count": 34,
   "metadata": {
    "id": "IN2cy54BudDi"
   },
   "outputs": [],
   "source": [
    "df1_smry=df1.groupby('yyyymm').sum()"
   ]
  },
  {
   "cell_type": "code",
   "execution_count": 35,
   "metadata": {},
   "outputs": [
    {
     "data": {
      "text/html": [
       "<div>\n",
       "<style scoped>\n",
       "    .dataframe tbody tr th:only-of-type {\n",
       "        vertical-align: middle;\n",
       "    }\n",
       "\n",
       "    .dataframe tbody tr th {\n",
       "        vertical-align: top;\n",
       "    }\n",
       "\n",
       "    .dataframe thead th {\n",
       "        text-align: right;\n",
       "    }\n",
       "</style>\n",
       "<table border=\"1\" class=\"dataframe\">\n",
       "  <thead>\n",
       "    <tr style=\"text-align: right;\">\n",
       "      <th></th>\n",
       "      <th>Cases</th>\n",
       "      <th>CasesPerD</th>\n",
       "    </tr>\n",
       "    <tr>\n",
       "      <th>yyyymm</th>\n",
       "      <th></th>\n",
       "      <th></th>\n",
       "    </tr>\n",
       "  </thead>\n",
       "  <tbody>\n",
       "    <tr>\n",
       "      <th>2020-1</th>\n",
       "      <td>844</td>\n",
       "      <td>22.0</td>\n",
       "    </tr>\n",
       "    <tr>\n",
       "      <th>2020-2</th>\n",
       "      <td>380794</td>\n",
       "      <td>1449.0</td>\n",
       "    </tr>\n",
       "    <tr>\n",
       "      <th>2020-3</th>\n",
       "      <td>2705380</td>\n",
       "      <td>100882.0</td>\n",
       "    </tr>\n",
       "    <tr>\n",
       "      <th>2020-4</th>\n",
       "      <td>16307188</td>\n",
       "      <td>826392.0</td>\n",
       "    </tr>\n",
       "    <tr>\n",
       "      <th>2020-5</th>\n",
       "      <td>54096711</td>\n",
       "      <td>1620430.0</td>\n",
       "    </tr>\n",
       "    <tr>\n",
       "      <th>2020-6</th>\n",
       "      <td>118883273</td>\n",
       "      <td>2712765.0</td>\n",
       "    </tr>\n",
       "    <tr>\n",
       "      <th>2020-7</th>\n",
       "      <td>242157800</td>\n",
       "      <td>5022064.0</td>\n",
       "    </tr>\n",
       "    <tr>\n",
       "      <th>2020-8</th>\n",
       "      <td>423463853</td>\n",
       "      <td>6430030.0</td>\n",
       "    </tr>\n",
       "    <tr>\n",
       "      <th>2020-9</th>\n",
       "      <td>403789730</td>\n",
       "      <td>4567027.0</td>\n",
       "    </tr>\n",
       "  </tbody>\n",
       "</table>\n",
       "</div>"
      ],
      "text/plain": [
       "            Cases  CasesPerD\n",
       "yyyymm                      \n",
       "2020-1        844       22.0\n",
       "2020-2     380794     1449.0\n",
       "2020-3    2705380   100882.0\n",
       "2020-4   16307188   826392.0\n",
       "2020-5   54096711  1620430.0\n",
       "2020-6  118883273  2712765.0\n",
       "2020-7  242157800  5022064.0\n",
       "2020-8  423463853  6430030.0\n",
       "2020-9  403789730  4567027.0"
      ]
     },
     "execution_count": 35,
     "metadata": {},
     "output_type": "execute_result"
    }
   ],
   "source": [
    "df1_smry"
   ]
  },
  {
   "cell_type": "code",
   "execution_count": 36,
   "metadata": {},
   "outputs": [
    {
     "data": {
      "text/plain": [
       "yyyymm\n",
       "2020-1         22.0\n",
       "2020-2       1449.0\n",
       "2020-3     100882.0\n",
       "2020-4     826392.0\n",
       "2020-5    1620430.0\n",
       "2020-6    2712765.0\n",
       "2020-7    5022064.0\n",
       "2020-8    6430030.0\n",
       "2020-9    4567027.0\n",
       "Name: CasesPerD, dtype: float64"
      ]
     },
     "execution_count": 36,
     "metadata": {},
     "output_type": "execute_result"
    }
   ],
   "source": [
    "df1_smry['CasesPerD']"
   ]
  },
  {
   "cell_type": "code",
   "execution_count": 37,
   "metadata": {},
   "outputs": [
    {
     "data": {
      "text/plain": [
       "21281061.0"
      ]
     },
     "execution_count": 37,
     "metadata": {},
     "output_type": "execute_result"
    }
   ],
   "source": [
    "df1['CasesPerD'].sum()"
   ]
  },
  {
   "cell_type": "code",
   "execution_count": 38,
   "metadata": {},
   "outputs": [
    {
     "data": {
      "text/html": [
       "<div>\n",
       "<style scoped>\n",
       "    .dataframe tbody tr th:only-of-type {\n",
       "        vertical-align: middle;\n",
       "    }\n",
       "\n",
       "    .dataframe tbody tr th {\n",
       "        vertical-align: top;\n",
       "    }\n",
       "\n",
       "    .dataframe thead th {\n",
       "        text-align: right;\n",
       "    }\n",
       "</style>\n",
       "<table border=\"1\" class=\"dataframe\">\n",
       "  <thead>\n",
       "    <tr style=\"text-align: right;\">\n",
       "      <th></th>\n",
       "      <th>CasesPerD</th>\n",
       "      <th>yyyymm</th>\n",
       "    </tr>\n",
       "  </thead>\n",
       "  <tbody>\n",
       "    <tr>\n",
       "      <th>0</th>\n",
       "      <td>1.0</td>\n",
       "      <td>2020-3</td>\n",
       "    </tr>\n",
       "    <tr>\n",
       "      <th>1</th>\n",
       "      <td>0.0</td>\n",
       "      <td>2020-3</td>\n",
       "    </tr>\n",
       "    <tr>\n",
       "      <th>2</th>\n",
       "      <td>0.0</td>\n",
       "      <td>2020-3</td>\n",
       "    </tr>\n",
       "    <tr>\n",
       "      <th>3</th>\n",
       "      <td>0.0</td>\n",
       "      <td>2020-3</td>\n",
       "    </tr>\n",
       "    <tr>\n",
       "      <th>4</th>\n",
       "      <td>0.0</td>\n",
       "      <td>2020-3</td>\n",
       "    </tr>\n",
       "    <tr>\n",
       "      <th>...</th>\n",
       "      <td>...</td>\n",
       "      <td>...</td>\n",
       "    </tr>\n",
       "    <tr>\n",
       "      <th>47389</th>\n",
       "      <td>18.0</td>\n",
       "      <td>2020-9</td>\n",
       "    </tr>\n",
       "    <tr>\n",
       "      <th>47390</th>\n",
       "      <td>42.0</td>\n",
       "      <td>2020-9</td>\n",
       "    </tr>\n",
       "    <tr>\n",
       "      <th>47391</th>\n",
       "      <td>31.0</td>\n",
       "      <td>2020-9</td>\n",
       "    </tr>\n",
       "    <tr>\n",
       "      <th>47392</th>\n",
       "      <td>10.0</td>\n",
       "      <td>2020-9</td>\n",
       "    </tr>\n",
       "    <tr>\n",
       "      <th>47393</th>\n",
       "      <td>0.0</td>\n",
       "      <td>2020-9</td>\n",
       "    </tr>\n",
       "  </tbody>\n",
       "</table>\n",
       "<p>47394 rows × 2 columns</p>\n",
       "</div>"
      ],
      "text/plain": [
       "       CasesPerD  yyyymm\n",
       "0            1.0  2020-3\n",
       "1            0.0  2020-3\n",
       "2            0.0  2020-3\n",
       "3            0.0  2020-3\n",
       "4            0.0  2020-3\n",
       "...          ...     ...\n",
       "47389       18.0  2020-9\n",
       "47390       42.0  2020-9\n",
       "47391       31.0  2020-9\n",
       "47392       10.0  2020-9\n",
       "47393        0.0  2020-9\n",
       "\n",
       "[47394 rows x 2 columns]"
      ]
     },
     "execution_count": 38,
     "metadata": {},
     "output_type": "execute_result"
    }
   ],
   "source": [
    "df1[['CasesPerD','yyyymm' ]]"
   ]
  },
  {
   "cell_type": "code",
   "execution_count": 39,
   "metadata": {},
   "outputs": [
    {
     "name": "stdout",
     "output_type": "stream",
     "text": [
      "<class 'pandas.core.frame.DataFrame'>\n",
      "RangeIndex: 47394 entries, 0 to 47393\n",
      "Data columns (total 5 columns):\n",
      " #   Column          Non-Null Count  Dtype         \n",
      "---  ------          --------------  -----         \n",
      " 0   Country/Region  47394 non-null  object        \n",
      " 1   Date            47394 non-null  datetime64[ns]\n",
      " 2   Cases           47394 non-null  int64         \n",
      " 3   CasesPerD       47394 non-null  float64       \n",
      " 4   yyyymm          47394 non-null  object        \n",
      "dtypes: datetime64[ns](1), float64(1), int64(1), object(2)\n",
      "memory usage: 1.8+ MB\n"
     ]
    }
   ],
   "source": [
    "df1.info()"
   ]
  },
  {
   "cell_type": "code",
   "execution_count": 40,
   "metadata": {},
   "outputs": [
    {
     "data": {
      "text/html": [
       "<div>\n",
       "<style scoped>\n",
       "    .dataframe tbody tr th:only-of-type {\n",
       "        vertical-align: middle;\n",
       "    }\n",
       "\n",
       "    .dataframe tbody tr th {\n",
       "        vertical-align: top;\n",
       "    }\n",
       "\n",
       "    .dataframe thead th {\n",
       "        text-align: right;\n",
       "    }\n",
       "</style>\n",
       "<table border=\"1\" class=\"dataframe\">\n",
       "  <thead>\n",
       "    <tr style=\"text-align: right;\">\n",
       "      <th></th>\n",
       "      <th>Country/Region</th>\n",
       "      <th>Date</th>\n",
       "      <th>Cases</th>\n",
       "      <th>CasesPerD</th>\n",
       "      <th>yyyymm</th>\n",
       "    </tr>\n",
       "  </thead>\n",
       "  <tbody>\n",
       "    <tr>\n",
       "      <th>0</th>\n",
       "      <td>Afghanistan</td>\n",
       "      <td>2020-03-16</td>\n",
       "      <td>1</td>\n",
       "      <td>1.0</td>\n",
       "      <td>2020-3</td>\n",
       "    </tr>\n",
       "    <tr>\n",
       "      <th>1</th>\n",
       "      <td>Afghanistan</td>\n",
       "      <td>2020-03-17</td>\n",
       "      <td>1</td>\n",
       "      <td>0.0</td>\n",
       "      <td>2020-3</td>\n",
       "    </tr>\n",
       "    <tr>\n",
       "      <th>2</th>\n",
       "      <td>Afghanistan</td>\n",
       "      <td>2020-03-18</td>\n",
       "      <td>1</td>\n",
       "      <td>0.0</td>\n",
       "      <td>2020-3</td>\n",
       "    </tr>\n",
       "    <tr>\n",
       "      <th>3</th>\n",
       "      <td>Afghanistan</td>\n",
       "      <td>2020-03-19</td>\n",
       "      <td>1</td>\n",
       "      <td>0.0</td>\n",
       "      <td>2020-3</td>\n",
       "    </tr>\n",
       "    <tr>\n",
       "      <th>4</th>\n",
       "      <td>Afghanistan</td>\n",
       "      <td>2020-03-20</td>\n",
       "      <td>1</td>\n",
       "      <td>0.0</td>\n",
       "      <td>2020-3</td>\n",
       "    </tr>\n",
       "    <tr>\n",
       "      <th>...</th>\n",
       "      <td>...</td>\n",
       "      <td>...</td>\n",
       "      <td>...</td>\n",
       "      <td>...</td>\n",
       "      <td>...</td>\n",
       "    </tr>\n",
       "    <tr>\n",
       "      <th>47389</th>\n",
       "      <td>Zimbabwe</td>\n",
       "      <td>2020-09-17</td>\n",
       "      <td>5841</td>\n",
       "      <td>18.0</td>\n",
       "      <td>2020-9</td>\n",
       "    </tr>\n",
       "    <tr>\n",
       "      <th>47390</th>\n",
       "      <td>Zimbabwe</td>\n",
       "      <td>2020-09-18</td>\n",
       "      <td>5883</td>\n",
       "      <td>42.0</td>\n",
       "      <td>2020-9</td>\n",
       "    </tr>\n",
       "    <tr>\n",
       "      <th>47391</th>\n",
       "      <td>Zimbabwe</td>\n",
       "      <td>2020-09-19</td>\n",
       "      <td>5914</td>\n",
       "      <td>31.0</td>\n",
       "      <td>2020-9</td>\n",
       "    </tr>\n",
       "    <tr>\n",
       "      <th>47392</th>\n",
       "      <td>Zimbabwe</td>\n",
       "      <td>2020-09-20</td>\n",
       "      <td>5924</td>\n",
       "      <td>10.0</td>\n",
       "      <td>2020-9</td>\n",
       "    </tr>\n",
       "    <tr>\n",
       "      <th>47393</th>\n",
       "      <td>Zimbabwe</td>\n",
       "      <td>2020-09-21</td>\n",
       "      <td>5924</td>\n",
       "      <td>0.0</td>\n",
       "      <td>2020-9</td>\n",
       "    </tr>\n",
       "  </tbody>\n",
       "</table>\n",
       "<p>47394 rows × 5 columns</p>\n",
       "</div>"
      ],
      "text/plain": [
       "      Country/Region       Date  Cases  CasesPerD  yyyymm\n",
       "0        Afghanistan 2020-03-16      1        1.0  2020-3\n",
       "1        Afghanistan 2020-03-17      1        0.0  2020-3\n",
       "2        Afghanistan 2020-03-18      1        0.0  2020-3\n",
       "3        Afghanistan 2020-03-19      1        0.0  2020-3\n",
       "4        Afghanistan 2020-03-20      1        0.0  2020-3\n",
       "...              ...        ...    ...        ...     ...\n",
       "47389       Zimbabwe 2020-09-17   5841       18.0  2020-9\n",
       "47390       Zimbabwe 2020-09-18   5883       42.0  2020-9\n",
       "47391       Zimbabwe 2020-09-19   5914       31.0  2020-9\n",
       "47392       Zimbabwe 2020-09-20   5924       10.0  2020-9\n",
       "47393       Zimbabwe 2020-09-21   5924        0.0  2020-9\n",
       "\n",
       "[47394 rows x 5 columns]"
      ]
     },
     "execution_count": 40,
     "metadata": {},
     "output_type": "execute_result"
    }
   ],
   "source": [
    "df1"
   ]
  },
  {
   "cell_type": "code",
   "execution_count": 41,
   "metadata": {},
   "outputs": [],
   "source": [
    "df1.CasesPerD=df1.CasesPerD.astype(np.int64)"
   ]
  },
  {
   "cell_type": "code",
   "execution_count": 42,
   "metadata": {},
   "outputs": [
    {
     "name": "stdout",
     "output_type": "stream",
     "text": [
      "<class 'pandas.core.frame.DataFrame'>\n",
      "RangeIndex: 47394 entries, 0 to 47393\n",
      "Data columns (total 5 columns):\n",
      " #   Column          Non-Null Count  Dtype         \n",
      "---  ------          --------------  -----         \n",
      " 0   Country/Region  47394 non-null  object        \n",
      " 1   Date            47394 non-null  datetime64[ns]\n",
      " 2   Cases           47394 non-null  int64         \n",
      " 3   CasesPerD       47394 non-null  int64         \n",
      " 4   yyyymm          47394 non-null  object        \n",
      "dtypes: datetime64[ns](1), int64(2), object(2)\n",
      "memory usage: 1.8+ MB\n"
     ]
    }
   ],
   "source": [
    "df1.info()"
   ]
  },
  {
   "cell_type": "markdown",
   "metadata": {},
   "source": [
    "### Global Recovery Cases Analysis"
   ]
  },
  {
   "cell_type": "code",
   "execution_count": 43,
   "metadata": {},
   "outputs": [
    {
     "data": {
      "text/html": [
       "<div>\n",
       "<style scoped>\n",
       "    .dataframe tbody tr th:only-of-type {\n",
       "        vertical-align: middle;\n",
       "    }\n",
       "\n",
       "    .dataframe tbody tr th {\n",
       "        vertical-align: top;\n",
       "    }\n",
       "\n",
       "    .dataframe thead th {\n",
       "        text-align: right;\n",
       "    }\n",
       "</style>\n",
       "<table border=\"1\" class=\"dataframe\">\n",
       "  <thead>\n",
       "    <tr style=\"text-align: right;\">\n",
       "      <th></th>\n",
       "      <th>Country/Region</th>\n",
       "      <th>Date</th>\n",
       "      <th>Cases</th>\n",
       "      <th>CasesPerD</th>\n",
       "      <th>yyyymm</th>\n",
       "    </tr>\n",
       "  </thead>\n",
       "  <tbody>\n",
       "    <tr>\n",
       "      <th>0</th>\n",
       "      <td>Afghanistan</td>\n",
       "      <td>2020-03-16</td>\n",
       "      <td>1</td>\n",
       "      <td>1</td>\n",
       "      <td>2020-3</td>\n",
       "    </tr>\n",
       "    <tr>\n",
       "      <th>1</th>\n",
       "      <td>Afghanistan</td>\n",
       "      <td>2020-03-17</td>\n",
       "      <td>1</td>\n",
       "      <td>0</td>\n",
       "      <td>2020-3</td>\n",
       "    </tr>\n",
       "    <tr>\n",
       "      <th>2</th>\n",
       "      <td>Afghanistan</td>\n",
       "      <td>2020-03-18</td>\n",
       "      <td>1</td>\n",
       "      <td>0</td>\n",
       "      <td>2020-3</td>\n",
       "    </tr>\n",
       "    <tr>\n",
       "      <th>3</th>\n",
       "      <td>Afghanistan</td>\n",
       "      <td>2020-03-19</td>\n",
       "      <td>1</td>\n",
       "      <td>0</td>\n",
       "      <td>2020-3</td>\n",
       "    </tr>\n",
       "    <tr>\n",
       "      <th>4</th>\n",
       "      <td>Afghanistan</td>\n",
       "      <td>2020-03-20</td>\n",
       "      <td>1</td>\n",
       "      <td>0</td>\n",
       "      <td>2020-3</td>\n",
       "    </tr>\n",
       "    <tr>\n",
       "      <th>...</th>\n",
       "      <td>...</td>\n",
       "      <td>...</td>\n",
       "      <td>...</td>\n",
       "      <td>...</td>\n",
       "      <td>...</td>\n",
       "    </tr>\n",
       "    <tr>\n",
       "      <th>47389</th>\n",
       "      <td>Zimbabwe</td>\n",
       "      <td>2020-09-17</td>\n",
       "      <td>5841</td>\n",
       "      <td>18</td>\n",
       "      <td>2020-9</td>\n",
       "    </tr>\n",
       "    <tr>\n",
       "      <th>47390</th>\n",
       "      <td>Zimbabwe</td>\n",
       "      <td>2020-09-18</td>\n",
       "      <td>5883</td>\n",
       "      <td>42</td>\n",
       "      <td>2020-9</td>\n",
       "    </tr>\n",
       "    <tr>\n",
       "      <th>47391</th>\n",
       "      <td>Zimbabwe</td>\n",
       "      <td>2020-09-19</td>\n",
       "      <td>5914</td>\n",
       "      <td>31</td>\n",
       "      <td>2020-9</td>\n",
       "    </tr>\n",
       "    <tr>\n",
       "      <th>47392</th>\n",
       "      <td>Zimbabwe</td>\n",
       "      <td>2020-09-20</td>\n",
       "      <td>5924</td>\n",
       "      <td>10</td>\n",
       "      <td>2020-9</td>\n",
       "    </tr>\n",
       "    <tr>\n",
       "      <th>47393</th>\n",
       "      <td>Zimbabwe</td>\n",
       "      <td>2020-09-21</td>\n",
       "      <td>5924</td>\n",
       "      <td>0</td>\n",
       "      <td>2020-9</td>\n",
       "    </tr>\n",
       "  </tbody>\n",
       "</table>\n",
       "<p>47394 rows × 5 columns</p>\n",
       "</div>"
      ],
      "text/plain": [
       "      Country/Region       Date  Cases  CasesPerD  yyyymm\n",
       "0        Afghanistan 2020-03-16      1          1  2020-3\n",
       "1        Afghanistan 2020-03-17      1          0  2020-3\n",
       "2        Afghanistan 2020-03-18      1          0  2020-3\n",
       "3        Afghanistan 2020-03-19      1          0  2020-3\n",
       "4        Afghanistan 2020-03-20      1          0  2020-3\n",
       "...              ...        ...    ...        ...     ...\n",
       "47389       Zimbabwe 2020-09-17   5841         18  2020-9\n",
       "47390       Zimbabwe 2020-09-18   5883         42  2020-9\n",
       "47391       Zimbabwe 2020-09-19   5914         31  2020-9\n",
       "47392       Zimbabwe 2020-09-20   5924         10  2020-9\n",
       "47393       Zimbabwe 2020-09-21   5924          0  2020-9\n",
       "\n",
       "[47394 rows x 5 columns]"
      ]
     },
     "execution_count": 43,
     "metadata": {},
     "output_type": "execute_result"
    }
   ],
   "source": [
    "df1"
   ]
  },
  {
   "cell_type": "code",
   "execution_count": 44,
   "metadata": {},
   "outputs": [
    {
     "data": {
      "text/html": [
       "<div>\n",
       "<style scoped>\n",
       "    .dataframe tbody tr th:only-of-type {\n",
       "        vertical-align: middle;\n",
       "    }\n",
       "\n",
       "    .dataframe tbody tr th {\n",
       "        vertical-align: top;\n",
       "    }\n",
       "\n",
       "    .dataframe thead th {\n",
       "        text-align: right;\n",
       "    }\n",
       "</style>\n",
       "<table border=\"1\" class=\"dataframe\">\n",
       "  <thead>\n",
       "    <tr style=\"text-align: right;\">\n",
       "      <th></th>\n",
       "      <th></th>\n",
       "      <th>Cases</th>\n",
       "      <th>CasesPerD</th>\n",
       "    </tr>\n",
       "    <tr>\n",
       "      <th>Country/Region</th>\n",
       "      <th>yyyymm</th>\n",
       "      <th></th>\n",
       "      <th></th>\n",
       "    </tr>\n",
       "  </thead>\n",
       "  <tbody>\n",
       "    <tr>\n",
       "      <th rowspan=\"5\" valign=\"top\">Afghanistan</th>\n",
       "      <th>2020-3</th>\n",
       "      <td>0.000122</td>\n",
       "      <td>0.000023</td>\n",
       "    </tr>\n",
       "    <tr>\n",
       "      <th>2020-4</th>\n",
       "      <td>0.013754</td>\n",
       "      <td>0.001198</td>\n",
       "    </tr>\n",
       "    <tr>\n",
       "      <th>2020-5</th>\n",
       "      <td>0.113383</td>\n",
       "      <td>0.005019</td>\n",
       "    </tr>\n",
       "    <tr>\n",
       "      <th>2020-6</th>\n",
       "      <td>0.868227</td>\n",
       "      <td>0.060161</td>\n",
       "    </tr>\n",
       "    <tr>\n",
       "      <th>2020-7</th>\n",
       "      <td>3.233471</td>\n",
       "      <td>0.053465</td>\n",
       "    </tr>\n",
       "    <tr>\n",
       "      <th>...</th>\n",
       "      <th>...</th>\n",
       "      <td>...</td>\n",
       "      <td>...</td>\n",
       "    </tr>\n",
       "    <tr>\n",
       "      <th rowspan=\"5\" valign=\"top\">Zimbabwe</th>\n",
       "      <th>2020-5</th>\n",
       "      <td>0.002209</td>\n",
       "      <td>0.000113</td>\n",
       "    </tr>\n",
       "    <tr>\n",
       "      <th>2020-6</th>\n",
       "      <td>0.009929</td>\n",
       "      <td>0.000625</td>\n",
       "    </tr>\n",
       "    <tr>\n",
       "      <th>2020-7</th>\n",
       "      <td>0.061092</td>\n",
       "      <td>0.003957</td>\n",
       "    </tr>\n",
       "    <tr>\n",
       "      <th>2020-8</th>\n",
       "      <td>0.446712</td>\n",
       "      <td>0.019816</td>\n",
       "    </tr>\n",
       "    <tr>\n",
       "      <th>2020-9</th>\n",
       "      <td>0.553041</td>\n",
       "      <td>0.003303</td>\n",
       "    </tr>\n",
       "  </tbody>\n",
       "</table>\n",
       "<p>1276 rows × 2 columns</p>\n",
       "</div>"
      ],
      "text/plain": [
       "                          Cases  CasesPerD\n",
       "Country/Region yyyymm                     \n",
       "Afghanistan    2020-3  0.000122   0.000023\n",
       "               2020-4  0.013754   0.001198\n",
       "               2020-5  0.113383   0.005019\n",
       "               2020-6  0.868227   0.060161\n",
       "               2020-7  3.233471   0.053465\n",
       "...                         ...        ...\n",
       "Zimbabwe       2020-5  0.002209   0.000113\n",
       "               2020-6  0.009929   0.000625\n",
       "               2020-7  0.061092   0.003957\n",
       "               2020-8  0.446712   0.019816\n",
       "               2020-9  0.553041   0.003303\n",
       "\n",
       "[1276 rows x 2 columns]"
      ]
     },
     "execution_count": 44,
     "metadata": {},
     "output_type": "execute_result"
    }
   ],
   "source": [
    "df1.groupby(['Country/Region','yyyymm']).sum()/df1.CasesPerD.sum()*100"
   ]
  },
  {
   "cell_type": "code",
   "execution_count": 45,
   "metadata": {},
   "outputs": [],
   "source": [
    "df2 = df1.groupby(['yyyymm']).sum()"
   ]
  },
  {
   "cell_type": "code",
   "execution_count": 46,
   "metadata": {},
   "outputs": [],
   "source": [
    "df2.drop(columns='Cases', axis=0, inplace=True)"
   ]
  },
  {
   "cell_type": "code",
   "execution_count": 47,
   "metadata": {},
   "outputs": [],
   "source": [
    "df2['Perc']= df2['CasesPerD']/df2['CasesPerD'].sum()*100"
   ]
  },
  {
   "cell_type": "code",
   "execution_count": 48,
   "metadata": {
    "scrolled": true
   },
   "outputs": [
    {
     "name": "stdout",
     "output_type": "stream",
     "text": [
      "<class 'pandas.core.frame.DataFrame'>\n",
      "Index: 9 entries, 2020-1 to 2020-9\n",
      "Data columns (total 2 columns):\n",
      " #   Column     Non-Null Count  Dtype  \n",
      "---  ------     --------------  -----  \n",
      " 0   CasesPerD  9 non-null      int64  \n",
      " 1   Perc       9 non-null      float64\n",
      "dtypes: float64(1), int64(1)\n",
      "memory usage: 216.0+ bytes\n"
     ]
    }
   ],
   "source": [
    "df2.info()"
   ]
  },
  {
   "cell_type": "code",
   "execution_count": 49,
   "metadata": {},
   "outputs": [],
   "source": [
    "df2['month']=df2.index"
   ]
  },
  {
   "cell_type": "code",
   "execution_count": 50,
   "metadata": {
    "scrolled": true
   },
   "outputs": [
    {
     "data": {
      "text/html": [
       "<div>\n",
       "<style scoped>\n",
       "    .dataframe tbody tr th:only-of-type {\n",
       "        vertical-align: middle;\n",
       "    }\n",
       "\n",
       "    .dataframe tbody tr th {\n",
       "        vertical-align: top;\n",
       "    }\n",
       "\n",
       "    .dataframe thead th {\n",
       "        text-align: right;\n",
       "    }\n",
       "</style>\n",
       "<table border=\"1\" class=\"dataframe\">\n",
       "  <thead>\n",
       "    <tr style=\"text-align: right;\">\n",
       "      <th></th>\n",
       "      <th>CasesPerD</th>\n",
       "      <th>Perc</th>\n",
       "      <th>month</th>\n",
       "    </tr>\n",
       "    <tr>\n",
       "      <th>yyyymm</th>\n",
       "      <th></th>\n",
       "      <th></th>\n",
       "      <th></th>\n",
       "    </tr>\n",
       "  </thead>\n",
       "  <tbody>\n",
       "    <tr>\n",
       "      <th>2020-1</th>\n",
       "      <td>22</td>\n",
       "      <td>0.000103</td>\n",
       "      <td>2020-1</td>\n",
       "    </tr>\n",
       "    <tr>\n",
       "      <th>2020-2</th>\n",
       "      <td>1449</td>\n",
       "      <td>0.006809</td>\n",
       "      <td>2020-2</td>\n",
       "    </tr>\n",
       "    <tr>\n",
       "      <th>2020-3</th>\n",
       "      <td>100882</td>\n",
       "      <td>0.474046</td>\n",
       "      <td>2020-3</td>\n",
       "    </tr>\n",
       "    <tr>\n",
       "      <th>2020-4</th>\n",
       "      <td>826392</td>\n",
       "      <td>3.883227</td>\n",
       "      <td>2020-4</td>\n",
       "    </tr>\n",
       "    <tr>\n",
       "      <th>2020-5</th>\n",
       "      <td>1620430</td>\n",
       "      <td>7.614423</td>\n",
       "      <td>2020-5</td>\n",
       "    </tr>\n",
       "    <tr>\n",
       "      <th>2020-6</th>\n",
       "      <td>2712765</td>\n",
       "      <td>12.747320</td>\n",
       "      <td>2020-6</td>\n",
       "    </tr>\n",
       "    <tr>\n",
       "      <th>2020-7</th>\n",
       "      <td>5022064</td>\n",
       "      <td>23.598748</td>\n",
       "      <td>2020-7</td>\n",
       "    </tr>\n",
       "    <tr>\n",
       "      <th>2020-8</th>\n",
       "      <td>6430030</td>\n",
       "      <td>30.214800</td>\n",
       "      <td>2020-8</td>\n",
       "    </tr>\n",
       "    <tr>\n",
       "      <th>2020-9</th>\n",
       "      <td>4567027</td>\n",
       "      <td>21.460523</td>\n",
       "      <td>2020-9</td>\n",
       "    </tr>\n",
       "  </tbody>\n",
       "</table>\n",
       "</div>"
      ],
      "text/plain": [
       "        CasesPerD       Perc   month\n",
       "yyyymm                              \n",
       "2020-1         22   0.000103  2020-1\n",
       "2020-2       1449   0.006809  2020-2\n",
       "2020-3     100882   0.474046  2020-3\n",
       "2020-4     826392   3.883227  2020-4\n",
       "2020-5    1620430   7.614423  2020-5\n",
       "2020-6    2712765  12.747320  2020-6\n",
       "2020-7    5022064  23.598748  2020-7\n",
       "2020-8    6430030  30.214800  2020-8\n",
       "2020-9    4567027  21.460523  2020-9"
      ]
     },
     "execution_count": 50,
     "metadata": {},
     "output_type": "execute_result"
    }
   ],
   "source": [
    "df2"
   ]
  },
  {
   "cell_type": "code",
   "execution_count": 51,
   "metadata": {},
   "outputs": [
    {
     "data": {
      "image/png": "[encoded data removed]",
      "text/plain": [
       "<Figure size 432x288 with 1 Axes>"
      ]
     },
     "metadata": {
      "needs_background": "light"
     },
     "output_type": "display_data"
    }
   ],
   "source": [
    "plt.bar(df2.month,df2.CasesPerD)\n",
    "plt.title('Global - Covid Recovery (#)')\n",
    "plt.xlabel('Month')\n",
    "plt.ylabel('#Cases')\n",
    "plt.show()"
   ]
  },
  {
   "cell_type": "code",
   "execution_count": 52,
   "metadata": {},
   "outputs": [
    {
     "data": {
      "text/plain": [
       "(30.214799910587164, 0.00010337830430541034)"
      ]
     },
     "execution_count": 52,
     "metadata": {},
     "output_type": "execute_result"
    }
   ],
   "source": [
    "df2.Perc.max(), df2.Perc.min()"
   ]
  },
  {
   "cell_type": "code",
   "execution_count": 53,
   "metadata": {},
   "outputs": [
    {
     "data": {
      "image/png": "[encoded data removed]",
      "text/plain": [
       "<Figure size 1080x432 with 1 Axes>"
      ]
     },
     "metadata": {},
     "output_type": "display_data"
    }
   ],
   "source": [
    "plt.figure(figsize=(15,6))\n",
    "plt.pie(df2['CasesPerD'], labels = df2['month'],autopct='%1.1f%%', explode=[0.1, 0.1, 0.1, 0.1, 0.1, 0.1, 0.1, 0.1, 0.1])\n",
    "plt.title('Global Covid Recovery')\n",
    "plt.axis('equal')\n",
    "plt.show()"
   ]
  },
  {
   "cell_type": "raw",
   "metadata": {},
   "source": [
    "It's observed in the charts above that during July 2020 there were increase in the number of recoveries followed by the Aug 2020  month whereas again in the month of Sep 2020, it is seen that there is a considerable decline in recoveries. May be, due to lack of medicines and ventilators/other infrastructures or people getting re-infection of covid virus due to negligence, there may be decline in the recoveries, we ignore the fact that there are typo errors."
   ]
  },
  {
   "cell_type": "code",
   "execution_count": 54,
   "metadata": {},
   "outputs": [
    {
     "data": {
      "image/png": "[encoded data removed]",
      "text/plain": [
       "<Figure size 432x288 with 1 Axes>"
      ]
     },
     "metadata": {
      "needs_background": "light"
     },
     "output_type": "display_data"
    }
   ],
   "source": [
    "plt.xlabel(\"Time (Months)\")  \n",
    "plt.ylabel(\"# Cases\")  \n",
    "plt.title(\"Covid-19 Cases (Recovery (#))\")  \n",
    "plt.plot(df2['month'], df2['CasesPerD'])\n",
    "plt.show() "
   ]
  },
  {
   "cell_type": "raw",
   "metadata": {},
   "source": [
    "It is seen in the chart the covid recoveries had been improved graudally during the span of 9 months and it is in the month of August 2020 it reached its peek and again come down in the later months. It seems that between months Jan to July, 2020, almost all people got infected with Novel corona virus as there were no education to the people regarding the pendemic and/or they had neglected it when learned persons were suggesting people on Do's and Dont's. As a matter of fact, it seems, the number of covid cases was increased to the same proportion as that of Recovery as there would not be any recovery without first getting infected/confirmed. \n",
    "\n",
    "Even during Sep 2020, the number of recovery cases had come down mostly because there may be re-infected cases and the way the department was acconting the same. Mostly during again Sep 2020, the number of confirmed cases were increased bringing imbalance between demand/supply; and hence there were shortage or lack of medicines/ventilators etc and hospitals could not treat the patients promptly. May be due to all these there was a trend of recovery cases retracing.\n"
   ]
  },
  {
   "cell_type": "code",
   "execution_count": 55,
   "metadata": {},
   "outputs": [],
   "source": [
    "df2['PercMoves'] = df2['Perc'].diff()"
   ]
  },
  {
   "cell_type": "code",
   "execution_count": 56,
   "metadata": {},
   "outputs": [],
   "source": [
    "df2['PercMoves'] = np.where(df2['PercMoves'].isnull(), df2['Perc'], df2['PercMoves'])"
   ]
  },
  {
   "cell_type": "code",
   "execution_count": 57,
   "metadata": {
    "scrolled": false
   },
   "outputs": [
    {
     "data": {
      "text/html": [
       "<div>\n",
       "<style scoped>\n",
       "    .dataframe tbody tr th:only-of-type {\n",
       "        vertical-align: middle;\n",
       "    }\n",
       "\n",
       "    .dataframe tbody tr th {\n",
       "        vertical-align: top;\n",
       "    }\n",
       "\n",
       "    .dataframe thead th {\n",
       "        text-align: right;\n",
       "    }\n",
       "</style>\n",
       "<table border=\"1\" class=\"dataframe\">\n",
       "  <thead>\n",
       "    <tr style=\"text-align: right;\">\n",
       "      <th></th>\n",
       "      <th>CasesPerD</th>\n",
       "      <th>Perc</th>\n",
       "      <th>month</th>\n",
       "      <th>PercMoves</th>\n",
       "    </tr>\n",
       "    <tr>\n",
       "      <th>yyyymm</th>\n",
       "      <th></th>\n",
       "      <th></th>\n",
       "      <th></th>\n",
       "      <th></th>\n",
       "    </tr>\n",
       "  </thead>\n",
       "  <tbody>\n",
       "    <tr>\n",
       "      <th>2020-1</th>\n",
       "      <td>22</td>\n",
       "      <td>0.000103</td>\n",
       "      <td>2020-1</td>\n",
       "      <td>0.000103</td>\n",
       "    </tr>\n",
       "    <tr>\n",
       "      <th>2020-2</th>\n",
       "      <td>1449</td>\n",
       "      <td>0.006809</td>\n",
       "      <td>2020-2</td>\n",
       "      <td>0.006705</td>\n",
       "    </tr>\n",
       "    <tr>\n",
       "      <th>2020-3</th>\n",
       "      <td>100882</td>\n",
       "      <td>0.474046</td>\n",
       "      <td>2020-3</td>\n",
       "      <td>0.467237</td>\n",
       "    </tr>\n",
       "    <tr>\n",
       "      <th>2020-4</th>\n",
       "      <td>826392</td>\n",
       "      <td>3.883227</td>\n",
       "      <td>2020-4</td>\n",
       "      <td>3.409182</td>\n",
       "    </tr>\n",
       "    <tr>\n",
       "      <th>2020-5</th>\n",
       "      <td>1620430</td>\n",
       "      <td>7.614423</td>\n",
       "      <td>2020-5</td>\n",
       "      <td>3.731196</td>\n",
       "    </tr>\n",
       "    <tr>\n",
       "      <th>2020-6</th>\n",
       "      <td>2712765</td>\n",
       "      <td>12.747320</td>\n",
       "      <td>2020-6</td>\n",
       "      <td>5.132897</td>\n",
       "    </tr>\n",
       "    <tr>\n",
       "      <th>2020-7</th>\n",
       "      <td>5022064</td>\n",
       "      <td>23.598748</td>\n",
       "      <td>2020-7</td>\n",
       "      <td>10.851428</td>\n",
       "    </tr>\n",
       "    <tr>\n",
       "      <th>2020-8</th>\n",
       "      <td>6430030</td>\n",
       "      <td>30.214800</td>\n",
       "      <td>2020-8</td>\n",
       "      <td>6.616052</td>\n",
       "    </tr>\n",
       "    <tr>\n",
       "      <th>2020-9</th>\n",
       "      <td>4567027</td>\n",
       "      <td>21.460523</td>\n",
       "      <td>2020-9</td>\n",
       "      <td>-8.754277</td>\n",
       "    </tr>\n",
       "  </tbody>\n",
       "</table>\n",
       "</div>"
      ],
      "text/plain": [
       "        CasesPerD       Perc   month  PercMoves\n",
       "yyyymm                                         \n",
       "2020-1         22   0.000103  2020-1   0.000103\n",
       "2020-2       1449   0.006809  2020-2   0.006705\n",
       "2020-3     100882   0.474046  2020-3   0.467237\n",
       "2020-4     826392   3.883227  2020-4   3.409182\n",
       "2020-5    1620430   7.614423  2020-5   3.731196\n",
       "2020-6    2712765  12.747320  2020-6   5.132897\n",
       "2020-7    5022064  23.598748  2020-7  10.851428\n",
       "2020-8    6430030  30.214800  2020-8   6.616052\n",
       "2020-9    4567027  21.460523  2020-9  -8.754277"
      ]
     },
     "execution_count": 57,
     "metadata": {},
     "output_type": "execute_result"
    }
   ],
   "source": [
    "df2"
   ]
  },
  {
   "cell_type": "code",
   "execution_count": 58,
   "metadata": {
    "scrolled": false
   },
   "outputs": [
    {
     "data": {
      "image/png": "[encoded data removed]",
      "text/plain": [
       "<Figure size 432x288 with 1 Axes>"
      ]
     },
     "metadata": {
      "needs_background": "light"
     },
     "output_type": "display_data"
    }
   ],
   "source": [
    "plt.xlabel(\"Time (Months)\") \n",
    "plt.ylabel(\"# Cases\") \n",
    "plt.title(\"Global - Covid Cases (Recovery (%)\")  \n",
    "plt.plot(df2['month'], df2['PercMoves'])  \n",
    "plt.show() "
   ]
  },
  {
   "cell_type": "raw",
   "metadata": {},
   "source": [
    "If we see the percentwise recovery status, the recoveries were in the downtrend after July 2020. The Sep 2020 high point we see because there were considerable performance in the recovery in the month of July and if that was not achieved , the Sep 2020 peek would not have achieved."
   ]
  },
  {
   "cell_type": "code",
   "execution_count": 59,
   "metadata": {},
   "outputs": [
    {
     "data": {
      "text/plain": [
       "<AxesSubplot:xlabel='yyyymm', ylabel='CasesPerD'>"
      ]
     },
     "execution_count": 59,
     "metadata": {},
     "output_type": "execute_result"
    },
    {
     "data": {
      "image/png": "[encoded data removed]",
      "text/plain": [
       "<Figure size 432x288 with 1 Axes>"
      ]
     },
     "metadata": {
      "needs_background": "light"
     },
     "output_type": "display_data"
    }
   ],
   "source": [
    "sns.lineplot(data=df2, x=\"yyyymm\", y=\"CasesPerD\")"
   ]
  },
  {
   "cell_type": "markdown",
   "metadata": {},
   "source": [
    "### India"
   ]
  },
  {
   "cell_type": "code",
   "execution_count": 60,
   "metadata": {},
   "outputs": [],
   "source": [
    "df2=df1.loc[(df1['Cases']>0) & (df1['Country/Region']=='India')]"
   ]
  },
  {
   "cell_type": "code",
   "execution_count": 61,
   "metadata": {},
   "outputs": [
    {
     "data": {
      "text/html": [
       "<div>\n",
       "<style scoped>\n",
       "    .dataframe tbody tr th:only-of-type {\n",
       "        vertical-align: middle;\n",
       "    }\n",
       "\n",
       "    .dataframe tbody tr th {\n",
       "        vertical-align: top;\n",
       "    }\n",
       "\n",
       "    .dataframe thead th {\n",
       "        text-align: right;\n",
       "    }\n",
       "</style>\n",
       "<table border=\"1\" class=\"dataframe\">\n",
       "  <thead>\n",
       "    <tr style=\"text-align: right;\">\n",
       "      <th></th>\n",
       "      <th>Country/Region</th>\n",
       "      <th>Date</th>\n",
       "      <th>Cases</th>\n",
       "      <th>CasesPerD</th>\n",
       "      <th>yyyymm</th>\n",
       "    </tr>\n",
       "  </thead>\n",
       "  <tbody>\n",
       "    <tr>\n",
       "      <th>25489</th>\n",
       "      <td>India</td>\n",
       "      <td>2020-02-16</td>\n",
       "      <td>3</td>\n",
       "      <td>3</td>\n",
       "      <td>2020-2</td>\n",
       "    </tr>\n",
       "    <tr>\n",
       "      <th>25490</th>\n",
       "      <td>India</td>\n",
       "      <td>2020-02-17</td>\n",
       "      <td>3</td>\n",
       "      <td>0</td>\n",
       "      <td>2020-2</td>\n",
       "    </tr>\n",
       "    <tr>\n",
       "      <th>25491</th>\n",
       "      <td>India</td>\n",
       "      <td>2020-02-18</td>\n",
       "      <td>3</td>\n",
       "      <td>0</td>\n",
       "      <td>2020-2</td>\n",
       "    </tr>\n",
       "    <tr>\n",
       "      <th>25492</th>\n",
       "      <td>India</td>\n",
       "      <td>2020-02-19</td>\n",
       "      <td>3</td>\n",
       "      <td>0</td>\n",
       "      <td>2020-2</td>\n",
       "    </tr>\n",
       "    <tr>\n",
       "      <th>25493</th>\n",
       "      <td>India</td>\n",
       "      <td>2020-02-20</td>\n",
       "      <td>3</td>\n",
       "      <td>0</td>\n",
       "      <td>2020-2</td>\n",
       "    </tr>\n",
       "    <tr>\n",
       "      <th>...</th>\n",
       "      <td>...</td>\n",
       "      <td>...</td>\n",
       "      <td>...</td>\n",
       "      <td>...</td>\n",
       "      <td>...</td>\n",
       "    </tr>\n",
       "    <tr>\n",
       "      <th>25703</th>\n",
       "      <td>India</td>\n",
       "      <td>2020-09-17</td>\n",
       "      <td>4112551</td>\n",
       "      <td>87472</td>\n",
       "      <td>2020-9</td>\n",
       "    </tr>\n",
       "    <tr>\n",
       "      <th>25704</th>\n",
       "      <td>India</td>\n",
       "      <td>2020-09-18</td>\n",
       "      <td>4208431</td>\n",
       "      <td>95880</td>\n",
       "      <td>2020-9</td>\n",
       "    </tr>\n",
       "    <tr>\n",
       "      <th>25705</th>\n",
       "      <td>India</td>\n",
       "      <td>2020-09-19</td>\n",
       "      <td>4303043</td>\n",
       "      <td>94612</td>\n",
       "      <td>2020-9</td>\n",
       "    </tr>\n",
       "    <tr>\n",
       "      <th>25706</th>\n",
       "      <td>India</td>\n",
       "      <td>2020-09-20</td>\n",
       "      <td>4396399</td>\n",
       "      <td>93356</td>\n",
       "      <td>2020-9</td>\n",
       "    </tr>\n",
       "    <tr>\n",
       "      <th>25707</th>\n",
       "      <td>India</td>\n",
       "      <td>2020-09-21</td>\n",
       "      <td>4396399</td>\n",
       "      <td>0</td>\n",
       "      <td>2020-9</td>\n",
       "    </tr>\n",
       "  </tbody>\n",
       "</table>\n",
       "<p>219 rows × 5 columns</p>\n",
       "</div>"
      ],
      "text/plain": [
       "      Country/Region       Date    Cases  CasesPerD  yyyymm\n",
       "25489          India 2020-02-16        3          3  2020-2\n",
       "25490          India 2020-02-17        3          0  2020-2\n",
       "25491          India 2020-02-18        3          0  2020-2\n",
       "25492          India 2020-02-19        3          0  2020-2\n",
       "25493          India 2020-02-20        3          0  2020-2\n",
       "...              ...        ...      ...        ...     ...\n",
       "25703          India 2020-09-17  4112551      87472  2020-9\n",
       "25704          India 2020-09-18  4208431      95880  2020-9\n",
       "25705          India 2020-09-19  4303043      94612  2020-9\n",
       "25706          India 2020-09-20  4396399      93356  2020-9\n",
       "25707          India 2020-09-21  4396399          0  2020-9\n",
       "\n",
       "[219 rows x 5 columns]"
      ]
     },
     "execution_count": 61,
     "metadata": {},
     "output_type": "execute_result"
    }
   ],
   "source": [
    "df2"
   ]
  },
  {
   "cell_type": "code",
   "execution_count": 62,
   "metadata": {},
   "outputs": [
    {
     "data": {
      "text/plain": [
       "array(['2020-2', '2020-3', '2020-4', '2020-5', '2020-6', '2020-7',\n",
       "       '2020-8', '2020-9'], dtype=object)"
      ]
     },
     "execution_count": 62,
     "metadata": {},
     "output_type": "execute_result"
    }
   ],
   "source": [
    "df2.yyyymm.unique()"
   ]
  },
  {
   "cell_type": "code",
   "execution_count": 63,
   "metadata": {
    "scrolled": true
   },
   "outputs": [
    {
     "data": {
      "text/plain": [
       "<seaborn.axisgrid.FacetGrid at 0x1dbd698c490>"
      ]
     },
     "execution_count": 63,
     "metadata": {},
     "output_type": "execute_result"
    },
    {
     "data": {
      "image/png": "[encoded data removed]",
      "text/plain": [
       "<Figure size 360x360 with 1 Axes>"
      ]
     },
     "metadata": {
      "needs_background": "light"
     },
     "output_type": "display_data"
    }
   ],
   "source": [
    "sns.displot(df2.yyyymm, kind='hist')"
   ]
  },
  {
   "cell_type": "raw",
   "metadata": {},
   "source": [
    "Feb 2020 and Sep 2020, we have less number of recoveries and in other months almost same recoveries were maintained."
   ]
  },
  {
   "cell_type": "code",
   "execution_count": 64,
   "metadata": {},
   "outputs": [],
   "source": [
    "df3 = df2.groupby(['yyyymm']).sum()"
   ]
  },
  {
   "cell_type": "code",
   "execution_count": 65,
   "metadata": {
    "scrolled": false
   },
   "outputs": [
    {
     "data": {
      "text/html": [
       "<div>\n",
       "<style scoped>\n",
       "    .dataframe tbody tr th:only-of-type {\n",
       "        vertical-align: middle;\n",
       "    }\n",
       "\n",
       "    .dataframe tbody tr th {\n",
       "        vertical-align: top;\n",
       "    }\n",
       "\n",
       "    .dataframe thead th {\n",
       "        text-align: right;\n",
       "    }\n",
       "</style>\n",
       "<table border=\"1\" class=\"dataframe\">\n",
       "  <thead>\n",
       "    <tr style=\"text-align: right;\">\n",
       "      <th></th>\n",
       "      <th>Cases</th>\n",
       "      <th>CasesPerD</th>\n",
       "    </tr>\n",
       "    <tr>\n",
       "      <th>yyyymm</th>\n",
       "      <th></th>\n",
       "      <th></th>\n",
       "    </tr>\n",
       "  </thead>\n",
       "  <tbody>\n",
       "    <tr>\n",
       "      <th>2020-2</th>\n",
       "      <td>42</td>\n",
       "      <td>3</td>\n",
       "    </tr>\n",
       "    <tr>\n",
       "      <th>2020-3</th>\n",
       "      <td>818</td>\n",
       "      <td>120</td>\n",
       "    </tr>\n",
       "    <tr>\n",
       "      <th>2020-4</th>\n",
       "      <td>85811</td>\n",
       "      <td>8945</td>\n",
       "    </tr>\n",
       "    <tr>\n",
       "      <th>2020-5</th>\n",
       "      <td>1216954</td>\n",
       "      <td>82784</td>\n",
       "    </tr>\n",
       "    <tr>\n",
       "      <th>2020-6</th>\n",
       "      <td>5916008</td>\n",
       "      <td>256060</td>\n",
       "    </tr>\n",
       "    <tr>\n",
       "      <th>2020-7</th>\n",
       "      <td>20721573</td>\n",
       "      <td>746462</td>\n",
       "    </tr>\n",
       "    <tr>\n",
       "      <th>2020-8</th>\n",
       "      <td>60316822</td>\n",
       "      <td>1745508</td>\n",
       "    </tr>\n",
       "    <tr>\n",
       "      <th>2020-9</th>\n",
       "      <td>76535867</td>\n",
       "      <td>1556517</td>\n",
       "    </tr>\n",
       "  </tbody>\n",
       "</table>\n",
       "</div>"
      ],
      "text/plain": [
       "           Cases  CasesPerD\n",
       "yyyymm                     \n",
       "2020-2        42          3\n",
       "2020-3       818        120\n",
       "2020-4     85811       8945\n",
       "2020-5   1216954      82784\n",
       "2020-6   5916008     256060\n",
       "2020-7  20721573     746462\n",
       "2020-8  60316822    1745508\n",
       "2020-9  76535867    1556517"
      ]
     },
     "execution_count": 65,
     "metadata": {},
     "output_type": "execute_result"
    }
   ],
   "source": [
    "df3\n"
   ]
  },
  {
   "cell_type": "code",
   "execution_count": 66,
   "metadata": {},
   "outputs": [],
   "source": [
    "df3.drop(columns='Cases', axis=0, inplace=True)"
   ]
  },
  {
   "cell_type": "code",
   "execution_count": 67,
   "metadata": {},
   "outputs": [],
   "source": [
    "df3['Perc']= df3['CasesPerD']/df3['CasesPerD'].sum()*100\n"
   ]
  },
  {
   "cell_type": "code",
   "execution_count": 68,
   "metadata": {},
   "outputs": [],
   "source": [
    "df3['month']=df3.index"
   ]
  },
  {
   "cell_type": "code",
   "execution_count": 69,
   "metadata": {},
   "outputs": [
    {
     "data": {
      "text/html": [
       "<div>\n",
       "<style scoped>\n",
       "    .dataframe tbody tr th:only-of-type {\n",
       "        vertical-align: middle;\n",
       "    }\n",
       "\n",
       "    .dataframe tbody tr th {\n",
       "        vertical-align: top;\n",
       "    }\n",
       "\n",
       "    .dataframe thead th {\n",
       "        text-align: right;\n",
       "    }\n",
       "</style>\n",
       "<table border=\"1\" class=\"dataframe\">\n",
       "  <thead>\n",
       "    <tr style=\"text-align: right;\">\n",
       "      <th></th>\n",
       "      <th>CasesPerD</th>\n",
       "      <th>Perc</th>\n",
       "      <th>month</th>\n",
       "    </tr>\n",
       "    <tr>\n",
       "      <th>yyyymm</th>\n",
       "      <th></th>\n",
       "      <th></th>\n",
       "      <th></th>\n",
       "    </tr>\n",
       "  </thead>\n",
       "  <tbody>\n",
       "    <tr>\n",
       "      <th>2020-2</th>\n",
       "      <td>3</td>\n",
       "      <td>0.000068</td>\n",
       "      <td>2020-2</td>\n",
       "    </tr>\n",
       "    <tr>\n",
       "      <th>2020-3</th>\n",
       "      <td>120</td>\n",
       "      <td>0.002730</td>\n",
       "      <td>2020-3</td>\n",
       "    </tr>\n",
       "    <tr>\n",
       "      <th>2020-4</th>\n",
       "      <td>8945</td>\n",
       "      <td>0.203462</td>\n",
       "      <td>2020-4</td>\n",
       "    </tr>\n",
       "    <tr>\n",
       "      <th>2020-5</th>\n",
       "      <td>82784</td>\n",
       "      <td>1.882996</td>\n",
       "      <td>2020-5</td>\n",
       "    </tr>\n",
       "    <tr>\n",
       "      <th>2020-6</th>\n",
       "      <td>256060</td>\n",
       "      <td>5.824312</td>\n",
       "      <td>2020-6</td>\n",
       "    </tr>\n",
       "    <tr>\n",
       "      <th>2020-7</th>\n",
       "      <td>746462</td>\n",
       "      <td>16.978941</td>\n",
       "      <td>2020-7</td>\n",
       "    </tr>\n",
       "    <tr>\n",
       "      <th>2020-8</th>\n",
       "      <td>1745508</td>\n",
       "      <td>39.703130</td>\n",
       "      <td>2020-8</td>\n",
       "    </tr>\n",
       "    <tr>\n",
       "      <th>2020-9</th>\n",
       "      <td>1556517</td>\n",
       "      <td>35.404362</td>\n",
       "      <td>2020-9</td>\n",
       "    </tr>\n",
       "  </tbody>\n",
       "</table>\n",
       "</div>"
      ],
      "text/plain": [
       "        CasesPerD       Perc   month\n",
       "yyyymm                              \n",
       "2020-2          3   0.000068  2020-2\n",
       "2020-3        120   0.002730  2020-3\n",
       "2020-4       8945   0.203462  2020-4\n",
       "2020-5      82784   1.882996  2020-5\n",
       "2020-6     256060   5.824312  2020-6\n",
       "2020-7     746462  16.978941  2020-7\n",
       "2020-8    1745508  39.703130  2020-8\n",
       "2020-9    1556517  35.404362  2020-9"
      ]
     },
     "execution_count": 69,
     "metadata": {},
     "output_type": "execute_result"
    }
   ],
   "source": [
    "df3"
   ]
  },
  {
   "cell_type": "code",
   "execution_count": 70,
   "metadata": {
    "scrolled": true
   },
   "outputs": [
    {
     "data": {
      "image/png": "[encoded data removed]",
      "text/plain": [
       "<Figure size 1080x432 with 1 Axes>"
      ]
     },
     "metadata": {},
     "output_type": "display_data"
    }
   ],
   "source": [
    "plt.figure(figsize=(15,6))\n",
    "plt.pie(df3['CasesPerD'], labels = df3['month'], autopct='%1.1f%%', explode=[0.1, 0.1, 0.1, 0.1, 0.1, 0.1, 0.1, 0.1])\n",
    "plt.title('India Covid Recovery')\n",
    "plt.axis('equal')\n",
    "plt.show()"
   ]
  },
  {
   "cell_type": "raw",
   "metadata": {},
   "source": [
    "# Pie chart shows Aug 2020 is the month where 40% of Indian Covid confirmed patients recovered as against the 30% recoveries in the world."
   ]
  },
  {
   "cell_type": "code",
   "execution_count": 71,
   "metadata": {
    "scrolled": true
   },
   "outputs": [
    {
     "data": {
      "image/png": "[encoded data removed]",
      "text/plain": [
       "<Figure size 432x288 with 1 Axes>"
      ]
     },
     "metadata": {
      "needs_background": "light"
     },
     "output_type": "display_data"
    }
   ],
   "source": [
    "plt.xlabel(\"Time (Months)\")  \n",
    "plt.ylabel(\"# Cases\")  \n",
    "plt.title(\" India - Covid Cases (Recovery (#))\")  \n",
    "plt.plot(df3['month'], df3['CasesPerD'])\n",
    "plt.show() "
   ]
  },
  {
   "cell_type": "code",
   "execution_count": 72,
   "metadata": {},
   "outputs": [],
   "source": [
    "df3['PercMoves'] = df3['Perc'].diff()\n"
   ]
  },
  {
   "cell_type": "code",
   "execution_count": 73,
   "metadata": {},
   "outputs": [],
   "source": [
    "df3['PercMoves'] = np.where(df3['PercMoves'].isnull(), df3['Perc'], df3['PercMoves'])"
   ]
  },
  {
   "cell_type": "code",
   "execution_count": 74,
   "metadata": {},
   "outputs": [
    {
     "data": {
      "image/png": "[encoded data removed]",
      "text/plain": [
       "<Figure size 432x288 with 1 Axes>"
      ]
     },
     "metadata": {
      "needs_background": "light"
     },
     "output_type": "display_data"
    }
   ],
   "source": [
    "plt.xlabel(\"Time (Months)\") \n",
    "plt.ylabel(\"# Cases\") \n",
    "plt.title(\"Covid-19 Cases (Recovery (%)\")  \n",
    "plt.plot(df3['month'], df3['PercMoves'])  \n",
    "plt.show() "
   ]
  },
  {
   "cell_type": "raw",
   "metadata": {},
   "source": [
    "Thee was a steep decline in the movements of the recoveries during Sep 2020."
   ]
  },
  {
   "cell_type": "code",
   "execution_count": 75,
   "metadata": {},
   "outputs": [
    {
     "data": {
      "text/plain": [
       "<AxesSubplot:xlabel='month', ylabel='CasesPerD'>"
      ]
     },
     "execution_count": 75,
     "metadata": {},
     "output_type": "execute_result"
    },
    {
     "data": {
      "image/png": "[encoded data removed]",
      "text/plain": [
       "<Figure size 432x288 with 1 Axes>"
      ]
     },
     "metadata": {
      "needs_background": "light"
     },
     "output_type": "display_data"
    }
   ],
   "source": [
    "sns.lineplot(data=df3, x=\"month\", y=\"CasesPerD\")"
   ]
  },
  {
   "cell_type": "markdown",
   "metadata": {},
   "source": [
    "### Brazil"
   ]
  },
  {
   "cell_type": "code",
   "execution_count": 76,
   "metadata": {},
   "outputs": [],
   "source": [
    "df2=df1.loc[(df1['Cases']>0) & (df1['Country/Region']=='Brazil')]"
   ]
  },
  {
   "cell_type": "code",
   "execution_count": 77,
   "metadata": {},
   "outputs": [
    {
     "data": {
      "text/html": [
       "<div>\n",
       "<style scoped>\n",
       "    .dataframe tbody tr th:only-of-type {\n",
       "        vertical-align: middle;\n",
       "    }\n",
       "\n",
       "    .dataframe tbody tr th {\n",
       "        vertical-align: top;\n",
       "    }\n",
       "\n",
       "    .dataframe thead th {\n",
       "        text-align: right;\n",
       "    }\n",
       "</style>\n",
       "<table border=\"1\" class=\"dataframe\">\n",
       "  <thead>\n",
       "    <tr style=\"text-align: right;\">\n",
       "      <th></th>\n",
       "      <th>Country/Region</th>\n",
       "      <th>Date</th>\n",
       "      <th>Cases</th>\n",
       "      <th>CasesPerD</th>\n",
       "      <th>yyyymm</th>\n",
       "    </tr>\n",
       "  </thead>\n",
       "  <tbody>\n",
       "    <tr>\n",
       "      <th>5648</th>\n",
       "      <td>Brazil</td>\n",
       "      <td>2020-03-16</td>\n",
       "      <td>1</td>\n",
       "      <td>1</td>\n",
       "      <td>2020-3</td>\n",
       "    </tr>\n",
       "    <tr>\n",
       "      <th>5649</th>\n",
       "      <td>Brazil</td>\n",
       "      <td>2020-03-17</td>\n",
       "      <td>2</td>\n",
       "      <td>1</td>\n",
       "      <td>2020-3</td>\n",
       "    </tr>\n",
       "    <tr>\n",
       "      <th>5650</th>\n",
       "      <td>Brazil</td>\n",
       "      <td>2020-03-18</td>\n",
       "      <td>2</td>\n",
       "      <td>0</td>\n",
       "      <td>2020-3</td>\n",
       "    </tr>\n",
       "    <tr>\n",
       "      <th>5651</th>\n",
       "      <td>Brazil</td>\n",
       "      <td>2020-03-19</td>\n",
       "      <td>2</td>\n",
       "      <td>0</td>\n",
       "      <td>2020-3</td>\n",
       "    </tr>\n",
       "    <tr>\n",
       "      <th>5652</th>\n",
       "      <td>Brazil</td>\n",
       "      <td>2020-03-20</td>\n",
       "      <td>2</td>\n",
       "      <td>0</td>\n",
       "      <td>2020-3</td>\n",
       "    </tr>\n",
       "    <tr>\n",
       "      <th>...</th>\n",
       "      <td>...</td>\n",
       "      <td>...</td>\n",
       "      <td>...</td>\n",
       "      <td>...</td>\n",
       "      <td>...</td>\n",
       "    </tr>\n",
       "    <tr>\n",
       "      <th>5833</th>\n",
       "      <td>Brazil</td>\n",
       "      <td>2020-09-17</td>\n",
       "      <td>3873934</td>\n",
       "      <td>28470</td>\n",
       "      <td>2020-9</td>\n",
       "    </tr>\n",
       "    <tr>\n",
       "      <th>5834</th>\n",
       "      <td>Brazil</td>\n",
       "      <td>2020-09-18</td>\n",
       "      <td>3897539</td>\n",
       "      <td>23605</td>\n",
       "      <td>2020-9</td>\n",
       "    </tr>\n",
       "    <tr>\n",
       "      <th>5835</th>\n",
       "      <td>Brazil</td>\n",
       "      <td>2020-09-19</td>\n",
       "      <td>3936893</td>\n",
       "      <td>39354</td>\n",
       "      <td>2020-9</td>\n",
       "    </tr>\n",
       "    <tr>\n",
       "      <th>5836</th>\n",
       "      <td>Brazil</td>\n",
       "      <td>2020-09-20</td>\n",
       "      <td>3963446</td>\n",
       "      <td>26553</td>\n",
       "      <td>2020-9</td>\n",
       "    </tr>\n",
       "    <tr>\n",
       "      <th>5837</th>\n",
       "      <td>Brazil</td>\n",
       "      <td>2020-09-21</td>\n",
       "      <td>3993432</td>\n",
       "      <td>29986</td>\n",
       "      <td>2020-9</td>\n",
       "    </tr>\n",
       "  </tbody>\n",
       "</table>\n",
       "<p>190 rows × 5 columns</p>\n",
       "</div>"
      ],
      "text/plain": [
       "     Country/Region       Date    Cases  CasesPerD  yyyymm\n",
       "5648         Brazil 2020-03-16        1          1  2020-3\n",
       "5649         Brazil 2020-03-17        2          1  2020-3\n",
       "5650         Brazil 2020-03-18        2          0  2020-3\n",
       "5651         Brazil 2020-03-19        2          0  2020-3\n",
       "5652         Brazil 2020-03-20        2          0  2020-3\n",
       "...             ...        ...      ...        ...     ...\n",
       "5833         Brazil 2020-09-17  3873934      28470  2020-9\n",
       "5834         Brazil 2020-09-18  3897539      23605  2020-9\n",
       "5835         Brazil 2020-09-19  3936893      39354  2020-9\n",
       "5836         Brazil 2020-09-20  3963446      26553  2020-9\n",
       "5837         Brazil 2020-09-21  3993432      29986  2020-9\n",
       "\n",
       "[190 rows x 5 columns]"
      ]
     },
     "execution_count": 77,
     "metadata": {},
     "output_type": "execute_result"
    }
   ],
   "source": [
    "df2"
   ]
  },
  {
   "cell_type": "code",
   "execution_count": 78,
   "metadata": {},
   "outputs": [
    {
     "data": {
      "text/plain": [
       "array(['2020-3', '2020-4', '2020-5', '2020-6', '2020-7', '2020-8',\n",
       "       '2020-9'], dtype=object)"
      ]
     },
     "execution_count": 78,
     "metadata": {},
     "output_type": "execute_result"
    }
   ],
   "source": [
    "df2.yyyymm.unique()"
   ]
  },
  {
   "cell_type": "code",
   "execution_count": 79,
   "metadata": {},
   "outputs": [
    {
     "data": {
      "text/plain": [
       "<seaborn.axisgrid.FacetGrid at 0x1dbd6adb2b0>"
      ]
     },
     "execution_count": 79,
     "metadata": {},
     "output_type": "execute_result"
    },
    {
     "data": {
      "image/png": "[encoded data removed]",
      "text/plain": [
       "<Figure size 360x360 with 1 Axes>"
      ]
     },
     "metadata": {
      "needs_background": "light"
     },
     "output_type": "display_data"
    }
   ],
   "source": [
    "sns.displot(df2.yyyymm, kind='hist')"
   ]
  },
  {
   "cell_type": "code",
   "execution_count": 80,
   "metadata": {},
   "outputs": [],
   "source": [
    "df3 = df2.groupby(['yyyymm']).sum()"
   ]
  },
  {
   "cell_type": "code",
   "execution_count": 81,
   "metadata": {},
   "outputs": [],
   "source": [
    "df3.drop(columns='Cases', axis=0, inplace=True)"
   ]
  },
  {
   "cell_type": "code",
   "execution_count": 82,
   "metadata": {},
   "outputs": [],
   "source": [
    "df3['Perc']= df3['CasesPerD']/df3['CasesPerD'].sum()"
   ]
  },
  {
   "cell_type": "code",
   "execution_count": 83,
   "metadata": {},
   "outputs": [],
   "source": [
    "df3['month']=df3.index"
   ]
  },
  {
   "cell_type": "code",
   "execution_count": 84,
   "metadata": {},
   "outputs": [
    {
     "data": {
      "text/html": [
       "<div>\n",
       "<style scoped>\n",
       "    .dataframe tbody tr th:only-of-type {\n",
       "        vertical-align: middle;\n",
       "    }\n",
       "\n",
       "    .dataframe tbody tr th {\n",
       "        vertical-align: top;\n",
       "    }\n",
       "\n",
       "    .dataframe thead th {\n",
       "        text-align: right;\n",
       "    }\n",
       "</style>\n",
       "<table border=\"1\" class=\"dataframe\">\n",
       "  <thead>\n",
       "    <tr style=\"text-align: right;\">\n",
       "      <th></th>\n",
       "      <th>CasesPerD</th>\n",
       "      <th>Perc</th>\n",
       "      <th>month</th>\n",
       "    </tr>\n",
       "    <tr>\n",
       "      <th>yyyymm</th>\n",
       "      <th></th>\n",
       "      <th></th>\n",
       "      <th></th>\n",
       "    </tr>\n",
       "  </thead>\n",
       "  <tbody>\n",
       "    <tr>\n",
       "      <th>2020-3</th>\n",
       "      <td>127</td>\n",
       "      <td>0.000032</td>\n",
       "      <td>2020-3</td>\n",
       "    </tr>\n",
       "    <tr>\n",
       "      <th>2020-4</th>\n",
       "      <td>35808</td>\n",
       "      <td>0.008967</td>\n",
       "      <td>2020-4</td>\n",
       "    </tr>\n",
       "    <tr>\n",
       "      <th>2020-5</th>\n",
       "      <td>170620</td>\n",
       "      <td>0.042725</td>\n",
       "      <td>2020-5</td>\n",
       "    </tr>\n",
       "    <tr>\n",
       "      <th>2020-6</th>\n",
       "      <td>581763</td>\n",
       "      <td>0.145680</td>\n",
       "      <td>2020-6</td>\n",
       "    </tr>\n",
       "    <tr>\n",
       "      <th>2020-7</th>\n",
       "      <td>1220536</td>\n",
       "      <td>0.305636</td>\n",
       "      <td>2020-7</td>\n",
       "    </tr>\n",
       "    <tr>\n",
       "      <th>2020-8</th>\n",
       "      <td>1259737</td>\n",
       "      <td>0.315452</td>\n",
       "      <td>2020-8</td>\n",
       "    </tr>\n",
       "    <tr>\n",
       "      <th>2020-9</th>\n",
       "      <td>724841</td>\n",
       "      <td>0.181508</td>\n",
       "      <td>2020-9</td>\n",
       "    </tr>\n",
       "  </tbody>\n",
       "</table>\n",
       "</div>"
      ],
      "text/plain": [
       "        CasesPerD      Perc   month\n",
       "yyyymm                             \n",
       "2020-3        127  0.000032  2020-3\n",
       "2020-4      35808  0.008967  2020-4\n",
       "2020-5     170620  0.042725  2020-5\n",
       "2020-6     581763  0.145680  2020-6\n",
       "2020-7    1220536  0.305636  2020-7\n",
       "2020-8    1259737  0.315452  2020-8\n",
       "2020-9     724841  0.181508  2020-9"
      ]
     },
     "execution_count": 84,
     "metadata": {},
     "output_type": "execute_result"
    }
   ],
   "source": [
    "df3"
   ]
  },
  {
   "cell_type": "code",
   "execution_count": 85,
   "metadata": {},
   "outputs": [
    {
     "data": {
      "image/png": "[encoded data removed]",
      "text/plain": [
       "<Figure size 1080x432 with 1 Axes>"
      ]
     },
     "metadata": {},
     "output_type": "display_data"
    }
   ],
   "source": [
    "plt.figure(figsize=(15,6))\n",
    "plt.pie(df3['CasesPerD'], labels = df3['month'], autopct='%1.1f%%', explode=[0.1, 0.1, 0.1, 0.1, 0.1, 0.1, 0.1])\n",
    "plt.title('Brazil - Covid Recovery')\n",
    "plt.axis('equal')\n",
    "plt.show()"
   ]
  },
  {
   "cell_type": "raw",
   "metadata": {},
   "source": [
    "# Pie chart shows Aug 2020 is the month where 31% of Covid confirmed patients recovered as against the 30% recoveries in the world."
   ]
  },
  {
   "cell_type": "code",
   "execution_count": 86,
   "metadata": {},
   "outputs": [
    {
     "data": {
      "image/png": "[encoded data removed]",
      "text/plain": [
       "<Figure size 432x288 with 1 Axes>"
      ]
     },
     "metadata": {
      "needs_background": "light"
     },
     "output_type": "display_data"
    }
   ],
   "source": [
    "plt.xlabel(\"Time (Months)\")  \n",
    "plt.ylabel(\"# Cases\")  \n",
    "plt.title(\"Brazil - Covid Cases (Recovery (#))\")  \n",
    "plt.plot(df3['month'], df3['CasesPerD'])\n",
    "plt.show() \n"
   ]
  },
  {
   "cell_type": "code",
   "execution_count": 87,
   "metadata": {},
   "outputs": [],
   "source": [
    "df3['PercMoves'] = df3['Perc'].diff()"
   ]
  },
  {
   "cell_type": "code",
   "execution_count": 88,
   "metadata": {},
   "outputs": [],
   "source": [
    "df3['PercMoves'] = np.where(df3['PercMoves'].isnull(), df3['Perc'], df3['PercMoves'])"
   ]
  },
  {
   "cell_type": "code",
   "execution_count": 89,
   "metadata": {},
   "outputs": [
    {
     "data": {
      "image/png": "[encoded data removed]",
      "text/plain": [
       "<Figure size 432x288 with 1 Axes>"
      ]
     },
     "metadata": {
      "needs_background": "light"
     },
     "output_type": "display_data"
    }
   ],
   "source": [
    "plt.xlabel(\"Time (Months)\") \n",
    "plt.ylabel(\"# Cases\") \n",
    "plt.title(\"Brazil - Cases (Recovery (%)\")  \n",
    "plt.plot(df3['month'], df3['PercMoves'])  \n",
    "plt.show() "
   ]
  },
  {
   "cell_type": "raw",
   "metadata": {},
   "source": [
    "The recovery cases in Brazil sharply decreased from july as there are less people got infected after that."
   ]
  },
  {
   "cell_type": "markdown",
   "metadata": {},
   "source": [
    "### US"
   ]
  },
  {
   "cell_type": "code",
   "execution_count": 90,
   "metadata": {},
   "outputs": [],
   "source": [
    "df2=df1.loc[(df1['Cases']>0) & (df1['Country/Region']=='US')]"
   ]
  },
  {
   "cell_type": "code",
   "execution_count": 91,
   "metadata": {},
   "outputs": [
    {
     "data": {
      "text/html": [
       "<div>\n",
       "<style scoped>\n",
       "    .dataframe tbody tr th:only-of-type {\n",
       "        vertical-align: middle;\n",
       "    }\n",
       "\n",
       "    .dataframe tbody tr th {\n",
       "        vertical-align: top;\n",
       "    }\n",
       "\n",
       "    .dataframe thead th {\n",
       "        text-align: right;\n",
       "    }\n",
       "</style>\n",
       "<table border=\"1\" class=\"dataframe\">\n",
       "  <thead>\n",
       "    <tr style=\"text-align: right;\">\n",
       "      <th></th>\n",
       "      <th>Country/Region</th>\n",
       "      <th>Date</th>\n",
       "      <th>Cases</th>\n",
       "      <th>CasesPerD</th>\n",
       "      <th>yyyymm</th>\n",
       "    </tr>\n",
       "  </thead>\n",
       "  <tbody>\n",
       "    <tr>\n",
       "      <th>43246</th>\n",
       "      <td>US</td>\n",
       "      <td>2020-02-09</td>\n",
       "      <td>3</td>\n",
       "      <td>3</td>\n",
       "      <td>2020-2</td>\n",
       "    </tr>\n",
       "    <tr>\n",
       "      <th>43247</th>\n",
       "      <td>US</td>\n",
       "      <td>2020-02-10</td>\n",
       "      <td>3</td>\n",
       "      <td>0</td>\n",
       "      <td>2020-2</td>\n",
       "    </tr>\n",
       "    <tr>\n",
       "      <th>43248</th>\n",
       "      <td>US</td>\n",
       "      <td>2020-02-11</td>\n",
       "      <td>3</td>\n",
       "      <td>0</td>\n",
       "      <td>2020-2</td>\n",
       "    </tr>\n",
       "    <tr>\n",
       "      <th>43249</th>\n",
       "      <td>US</td>\n",
       "      <td>2020-02-12</td>\n",
       "      <td>3</td>\n",
       "      <td>0</td>\n",
       "      <td>2020-2</td>\n",
       "    </tr>\n",
       "    <tr>\n",
       "      <th>43250</th>\n",
       "      <td>US</td>\n",
       "      <td>2020-02-13</td>\n",
       "      <td>3</td>\n",
       "      <td>0</td>\n",
       "      <td>2020-2</td>\n",
       "    </tr>\n",
       "    <tr>\n",
       "      <th>...</th>\n",
       "      <td>...</td>\n",
       "      <td>...</td>\n",
       "      <td>...</td>\n",
       "      <td>...</td>\n",
       "      <td>...</td>\n",
       "    </tr>\n",
       "    <tr>\n",
       "      <th>43467</th>\n",
       "      <td>US</td>\n",
       "      <td>2020-09-17</td>\n",
       "      <td>2540334</td>\n",
       "      <td>14761</td>\n",
       "      <td>2020-9</td>\n",
       "    </tr>\n",
       "    <tr>\n",
       "      <th>43468</th>\n",
       "      <td>US</td>\n",
       "      <td>2020-09-18</td>\n",
       "      <td>2556465</td>\n",
       "      <td>16131</td>\n",
       "      <td>2020-9</td>\n",
       "    </tr>\n",
       "    <tr>\n",
       "      <th>43469</th>\n",
       "      <td>US</td>\n",
       "      <td>2020-09-19</td>\n",
       "      <td>2577446</td>\n",
       "      <td>20981</td>\n",
       "      <td>2020-9</td>\n",
       "    </tr>\n",
       "    <tr>\n",
       "      <th>43470</th>\n",
       "      <td>US</td>\n",
       "      <td>2020-09-20</td>\n",
       "      <td>2590671</td>\n",
       "      <td>13225</td>\n",
       "      <td>2020-9</td>\n",
       "    </tr>\n",
       "    <tr>\n",
       "      <th>43471</th>\n",
       "      <td>US</td>\n",
       "      <td>2020-09-21</td>\n",
       "      <td>2615949</td>\n",
       "      <td>25278</td>\n",
       "      <td>2020-9</td>\n",
       "    </tr>\n",
       "  </tbody>\n",
       "</table>\n",
       "<p>226 rows × 5 columns</p>\n",
       "</div>"
      ],
      "text/plain": [
       "      Country/Region       Date    Cases  CasesPerD  yyyymm\n",
       "43246             US 2020-02-09        3          3  2020-2\n",
       "43247             US 2020-02-10        3          0  2020-2\n",
       "43248             US 2020-02-11        3          0  2020-2\n",
       "43249             US 2020-02-12        3          0  2020-2\n",
       "43250             US 2020-02-13        3          0  2020-2\n",
       "...              ...        ...      ...        ...     ...\n",
       "43467             US 2020-09-17  2540334      14761  2020-9\n",
       "43468             US 2020-09-18  2556465      16131  2020-9\n",
       "43469             US 2020-09-19  2577446      20981  2020-9\n",
       "43470             US 2020-09-20  2590671      13225  2020-9\n",
       "43471             US 2020-09-21  2615949      25278  2020-9\n",
       "\n",
       "[226 rows x 5 columns]"
      ]
     },
     "execution_count": 91,
     "metadata": {},
     "output_type": "execute_result"
    }
   ],
   "source": [
    "df2"
   ]
  },
  {
   "cell_type": "code",
   "execution_count": 92,
   "metadata": {},
   "outputs": [
    {
     "data": {
      "text/plain": [
       "array(['2020-2', '2020-3', '2020-4', '2020-5', '2020-6', '2020-7',\n",
       "       '2020-8', '2020-9'], dtype=object)"
      ]
     },
     "execution_count": 92,
     "metadata": {},
     "output_type": "execute_result"
    }
   ],
   "source": [
    "df2.yyyymm.unique()"
   ]
  },
  {
   "cell_type": "code",
   "execution_count": 93,
   "metadata": {},
   "outputs": [
    {
     "data": {
      "text/plain": [
       "<seaborn.axisgrid.FacetGrid at 0x1dbd68b3a60>"
      ]
     },
     "execution_count": 93,
     "metadata": {},
     "output_type": "execute_result"
    },
    {
     "data": {
      "image/png": "[encoded data removed]",
      "text/plain": [
       "<Figure size 360x360 with 1 Axes>"
      ]
     },
     "metadata": {
      "needs_background": "light"
     },
     "output_type": "display_data"
    }
   ],
   "source": [
    "sns.displot(df2.yyyymm, kind='hist')"
   ]
  },
  {
   "cell_type": "code",
   "execution_count": 94,
   "metadata": {},
   "outputs": [],
   "source": [
    "df3 = df2.groupby(['yyyymm']).sum()"
   ]
  },
  {
   "cell_type": "code",
   "execution_count": 95,
   "metadata": {},
   "outputs": [],
   "source": [
    "df3.drop(columns='Cases', axis=0, inplace=True)"
   ]
  },
  {
   "cell_type": "code",
   "execution_count": 96,
   "metadata": {},
   "outputs": [],
   "source": [
    "df3['Perc']= df3['CasesPerD']/df3['CasesPerD'].sum()"
   ]
  },
  {
   "cell_type": "code",
   "execution_count": 97,
   "metadata": {},
   "outputs": [],
   "source": [
    "df3['month']=df3.index"
   ]
  },
  {
   "cell_type": "code",
   "execution_count": 98,
   "metadata": {},
   "outputs": [
    {
     "data": {
      "image/png": "[encoded data removed]",
      "text/plain": [
       "<Figure size 1080x432 with 1 Axes>"
      ]
     },
     "metadata": {},
     "output_type": "display_data"
    }
   ],
   "source": [
    "plt.figure(figsize=(15,6))\n",
    "plt.pie(df3['CasesPerD'], labels = df3['month'], autopct='%1.1f%%', explode=[0.1, 0.1, 0.1, 0.1, 0.2, 0.1, 0.1, 0.1])\n",
    "plt.title('US - Covid Recovery')\n",
    "plt.axis('equal')\n",
    "plt.show()"
   ]
  },
  {
   "cell_type": "raw",
   "metadata": {},
   "source": [
    "# Pie chart shows Aug 2020 is the month where 28.5% of Covid confirmed patients recovered as against the 30% recoveries in the world."
   ]
  },
  {
   "cell_type": "code",
   "execution_count": 99,
   "metadata": {
    "scrolled": true
   },
   "outputs": [
    {
     "data": {
      "image/png": "[encoded data removed]",
      "text/plain": [
       "<Figure size 432x288 with 1 Axes>"
      ]
     },
     "metadata": {
      "needs_background": "light"
     },
     "output_type": "display_data"
    }
   ],
   "source": [
    "plt.xlabel(\"Time (Months)\")  \n",
    "plt.ylabel(\"# Cases\")  \n",
    "plt.title(\"US - Covid Cases (Recovery (#))\")  \n",
    "plt.plot(df3['month'], df3['CasesPerD'])\n",
    "plt.show() "
   ]
  },
  {
   "cell_type": "code",
   "execution_count": 100,
   "metadata": {},
   "outputs": [],
   "source": [
    "df3['PercMoves'] = df3['Perc'].diff()"
   ]
  },
  {
   "cell_type": "code",
   "execution_count": 101,
   "metadata": {},
   "outputs": [],
   "source": [
    "df3['PercMoves'] = np.where(df3['PercMoves'].isnull(), df3['Perc'], df3['PercMoves'])"
   ]
  },
  {
   "cell_type": "code",
   "execution_count": 102,
   "metadata": {},
   "outputs": [
    {
     "data": {
      "image/png": "[encoded data removed]",
      "text/plain": [
       "<Figure size 432x288 with 1 Axes>"
      ]
     },
     "metadata": {
      "needs_background": "light"
     },
     "output_type": "display_data"
    }
   ],
   "source": [
    "plt.xlabel(\"Time (Months)\") \n",
    "plt.ylabel(\"# Cases\") \n",
    "plt.title(\"US - Covid Cases (Recovery (%)\")  \n",
    "plt.plot(df3['month'], df3['PercMoves'])  \n",
    "plt.show() "
   ]
  },
  {
   "cell_type": "raw",
   "metadata": {},
   "source": [
    "The percentage of recovery is maximum in July . The slope of line decreased after July showing less percentage recovery."
   ]
  },
  {
   "cell_type": "markdown",
   "metadata": {},
   "source": [
    "### Russia"
   ]
  },
  {
   "cell_type": "code",
   "execution_count": 103,
   "metadata": {},
   "outputs": [],
   "source": [
    "df2=df1.loc[(df1['Cases']>0) & (df1['Country/Region']=='Russia')]"
   ]
  },
  {
   "cell_type": "code",
   "execution_count": 104,
   "metadata": {},
   "outputs": [
    {
     "data": {
      "text/plain": [
       "array(['2020-2', '2020-3', '2020-4', '2020-5', '2020-6', '2020-7',\n",
       "       '2020-8', '2020-9'], dtype=object)"
      ]
     },
     "execution_count": 104,
     "metadata": {},
     "output_type": "execute_result"
    }
   ],
   "source": [
    "df2.yyyymm.unique()"
   ]
  },
  {
   "cell_type": "code",
   "execution_count": 105,
   "metadata": {},
   "outputs": [
    {
     "data": {
      "text/plain": [
       "<seaborn.axisgrid.FacetGrid at 0x1dbd6aa5ac0>"
      ]
     },
     "execution_count": 105,
     "metadata": {},
     "output_type": "execute_result"
    },
    {
     "data": {
      "image/png": "[encoded data removed]",
      "text/plain": [
       "<Figure size 360x360 with 1 Axes>"
      ]
     },
     "metadata": {
      "needs_background": "light"
     },
     "output_type": "display_data"
    }
   ],
   "source": [
    "sns.displot(df2.yyyymm, kind='hist')"
   ]
  },
  {
   "cell_type": "code",
   "execution_count": 106,
   "metadata": {},
   "outputs": [],
   "source": [
    "df3 = df2.groupby(['yyyymm']).sum()"
   ]
  },
  {
   "cell_type": "code",
   "execution_count": 107,
   "metadata": {},
   "outputs": [],
   "source": [
    "df3.drop(columns='Cases', axis=0, inplace=True)"
   ]
  },
  {
   "cell_type": "code",
   "execution_count": 108,
   "metadata": {},
   "outputs": [],
   "source": [
    "df3['Perc']= df3['CasesPerD']/df3['CasesPerD'].sum()"
   ]
  },
  {
   "cell_type": "code",
   "execution_count": 109,
   "metadata": {},
   "outputs": [],
   "source": [
    "df3['month']=df3.index"
   ]
  },
  {
   "cell_type": "code",
   "execution_count": 110,
   "metadata": {},
   "outputs": [
    {
     "data": {
      "image/png": "[encoded data removed]",
      "text/plain": [
       "<Figure size 1080x432 with 1 Axes>"
      ]
     },
     "metadata": {},
     "output_type": "display_data"
    }
   ],
   "source": [
    "plt.figure(figsize=(15,6))\n",
    "plt.pie(df3['CasesPerD'], labels = df3['month'], autopct='%1.1f%%', explode=[0.1, 0.1, 0.1, 0.2, 0.1, 0.1, 0.1, 0.1])\n",
    "plt.title('Russia - Covid Recovery')\n",
    "plt.axis('equal')\n",
    "plt.show()"
   ]
  },
  {
   "cell_type": "raw",
   "metadata": {},
   "source": [
    "# Pie chart shows Aug 2020 is the month where 24.8% of Covid confirmed patients recovered as against the 30% recoveries in the world."
   ]
  },
  {
   "cell_type": "code",
   "execution_count": 111,
   "metadata": {},
   "outputs": [
    {
     "data": {
      "image/png": "[encoded data removed]",
      "text/plain": [
       "<Figure size 432x288 with 1 Axes>"
      ]
     },
     "metadata": {
      "needs_background": "light"
     },
     "output_type": "display_data"
    }
   ],
   "source": [
    "plt.xlabel(\"Time (Months)\")  \n",
    "plt.ylabel(\"# Cases\")  \n",
    "plt.title(\"Russia - Covid Cases (Recovery (#))\")  \n",
    "plt.plot(df3['month'], df3['CasesPerD'])\n",
    "plt.show() \n",
    "\n"
   ]
  },
  {
   "cell_type": "code",
   "execution_count": 112,
   "metadata": {},
   "outputs": [],
   "source": [
    "df3['PercMoves'] = df3['Perc'].diff()"
   ]
  },
  {
   "cell_type": "code",
   "execution_count": 113,
   "metadata": {},
   "outputs": [],
   "source": [
    "df3['PercMoves'] = np.where(df3['PercMoves'].isnull(), df3['Perc'], df3['PercMoves'])"
   ]
  },
  {
   "cell_type": "code",
   "execution_count": 114,
   "metadata": {},
   "outputs": [
    {
     "data": {
      "image/png": "[encoded data removed]",
      "text/plain": [
       "<Figure size 432x288 with 1 Axes>"
      ]
     },
     "metadata": {
      "needs_background": "light"
     },
     "output_type": "display_data"
    }
   ],
   "source": [
    "plt.xlabel(\"Time (Months)\") \n",
    "plt.ylabel(\"# Cases\") \n",
    "plt.title(\"Russia - Covid Cases (Recovery (%)\")  \n",
    "plt.plot(df3['month'], df3['PercMoves'])  \n",
    "plt.show() "
   ]
  },
  {
   "cell_type": "raw",
   "metadata": {},
   "source": [
    "After May the recovery percentage decreased gradually."
   ]
  },
  {
   "cell_type": "markdown",
   "metadata": {},
   "source": [
    "### Israel"
   ]
  },
  {
   "cell_type": "code",
   "execution_count": 115,
   "metadata": {},
   "outputs": [],
   "source": [
    "df2=df1.loc[(df1['Cases']>0) & (df1['Country/Region']=='Israel')]"
   ]
  },
  {
   "cell_type": "code",
   "execution_count": 116,
   "metadata": {},
   "outputs": [
    {
     "data": {
      "text/plain": [
       "array(['2020-2', '2020-3', '2020-4', '2020-5', '2020-6', '2020-7',\n",
       "       '2020-8', '2020-9'], dtype=object)"
      ]
     },
     "execution_count": 116,
     "metadata": {},
     "output_type": "execute_result"
    }
   ],
   "source": [
    "df2.yyyymm.unique()\n"
   ]
  },
  {
   "cell_type": "code",
   "execution_count": 117,
   "metadata": {},
   "outputs": [
    {
     "data": {
      "text/plain": [
       "<seaborn.axisgrid.FacetGrid at 0x1dbd6c50610>"
      ]
     },
     "execution_count": 117,
     "metadata": {},
     "output_type": "execute_result"
    },
    {
     "data": {
      "image/png": "[encoded data removed]",
      "text/plain": [
       "<Figure size 360x360 with 1 Axes>"
      ]
     },
     "metadata": {
      "needs_background": "light"
     },
     "output_type": "display_data"
    }
   ],
   "source": [
    "sns.displot(df2.yyyymm, kind='hist')"
   ]
  },
  {
   "cell_type": "code",
   "execution_count": 118,
   "metadata": {},
   "outputs": [],
   "source": [
    "df3 = df2.groupby(['yyyymm']).sum()"
   ]
  },
  {
   "cell_type": "code",
   "execution_count": 119,
   "metadata": {},
   "outputs": [],
   "source": [
    "df3.drop(columns='Cases', axis=0, inplace=True)"
   ]
  },
  {
   "cell_type": "code",
   "execution_count": 120,
   "metadata": {},
   "outputs": [],
   "source": [
    "df3['Perc']= df3['CasesPerD']/df3['CasesPerD'].sum()"
   ]
  },
  {
   "cell_type": "code",
   "execution_count": 121,
   "metadata": {},
   "outputs": [],
   "source": [
    "df3['month']=df3.index"
   ]
  },
  {
   "cell_type": "code",
   "execution_count": 122,
   "metadata": {},
   "outputs": [
    {
     "data": {
      "image/png": "[encoded data removed]",
      "text/plain": [
       "<Figure size 1080x432 with 1 Axes>"
      ]
     },
     "metadata": {},
     "output_type": "display_data"
    }
   ],
   "source": [
    "plt.figure(figsize=(15,6))\n",
    "plt.pie(df3['CasesPerD'], labels = df3['month'], autopct='%1.1f%%', explode=[0.1, 0.1, 0.1, 0.1, 0.1, 0.1, 0.1, 0.1])\n",
    "plt.title('Isreal Covid Recovery')\n",
    "plt.axis('equal')\n",
    "plt.show()"
   ]
  },
  {
   "cell_type": "raw",
   "metadata": {},
   "source": [
    "# Pie chart shows Aug 2020 is the month where 37.4% of Covid confirmed patients recovered as against the 30% recoveries in the world."
   ]
  },
  {
   "cell_type": "code",
   "execution_count": 123,
   "metadata": {},
   "outputs": [
    {
     "data": {
      "image/png": "[encoded data removed]",
      "text/plain": [
       "<Figure size 432x288 with 1 Axes>"
      ]
     },
     "metadata": {
      "needs_background": "light"
     },
     "output_type": "display_data"
    }
   ],
   "source": [
    "plt.xlabel(\"Time (Months)\")  \n",
    "plt.ylabel(\"# Cases\")  \n",
    "plt.title(\"Isreal - Covid Cases (Recovery (#))\")  \n",
    "plt.plot(df3['month'], df3['CasesPerD'])\n",
    "plt.show() "
   ]
  },
  {
   "cell_type": "code",
   "execution_count": 124,
   "metadata": {},
   "outputs": [],
   "source": [
    "df3['PercMoves'] = df3['Perc'].diff()"
   ]
  },
  {
   "cell_type": "code",
   "execution_count": 125,
   "metadata": {},
   "outputs": [],
   "source": [
    "df3['PercMoves'] = np.where(df3['PercMoves'].isnull(), df3['Perc'], df3['PercMoves'])"
   ]
  },
  {
   "cell_type": "code",
   "execution_count": 126,
   "metadata": {},
   "outputs": [
    {
     "data": {
      "image/png": "[encoded data removed]",
      "text/plain": [
       "<Figure size 432x288 with 1 Axes>"
      ]
     },
     "metadata": {
      "needs_background": "light"
     },
     "output_type": "display_data"
    }
   ],
   "source": [
    "plt.xlabel(\"Time (Months)\") \n",
    "plt.ylabel(\"# Cases\") \n",
    "plt.title(\"Covid-19 Cases (Recovery (%)\")  \n",
    "plt.plot(df3['month'], df3['PercMoves'])  \n",
    "plt.show() "
   ]
  },
  {
   "cell_type": "raw",
   "metadata": {},
   "source": [
    "The recovery percentage is almost constant for the month of July and Aug and after that the recovery pecentage decreased."
   ]
  }
 ],
 "metadata": {
  "colab": {
   "name": "Recivered_Covid19 Prediction.ipynb",
   "provenance": []
  },
  "kernelspec": {
   "display_name": "Python 3",
   "language": "python",
   "name": "python3"
  },
  "language_info": {
   "codemirror_mode": {
    "name": "ipython",
    "version": 3
   },
   "file_extension": ".py",
   "mimetype": "text/x-python",
   "name": "python",
   "nbconvert_exporter": "python",
   "pygments_lexer": "ipython3",
   "version": "3.8.5"
  }
 },
 "nbformat": 4,
 "nbformat_minor": 5
}
