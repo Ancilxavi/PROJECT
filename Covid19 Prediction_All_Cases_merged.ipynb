{
 "cells": [
  {
   "cell_type": "markdown",
   "metadata": {
    "id": "d188e948"
   },
   "source": [
    "Project Name-PRCP-1023-COVID-19 PREDICTION\n",
    "\n",
    "Team Members:\n",
    "\n",
    "1.Ashish Ray Mohapatra\n",
    "\n",
    "2.Ancil Xavier\n",
    "\n",
    "3.Ramchandra Rao\n",
    "    "
   ]
  },
  {
   "cell_type": "markdown",
   "metadata": {
    "id": "4da3d626"
   },
   "source": [
    "# Covid-19 Prediction "
   ]
  },
  {
   "cell_type": "markdown",
   "metadata": {},
   "source": [
    "### Confirmed , Recovered and Death in one go"
   ]
  },
  {
   "cell_type": "markdown",
   "metadata": {
    "id": "ea5f7927"
   },
   "source": [
    "### Load Libraries"
   ]
  },
  {
   "cell_type": "code",
   "execution_count": 2,
   "metadata": {
    "executionInfo": {
     "elapsed": 31,
     "status": "ok",
     "timestamp": 1632839541044,
     "user": {
      "displayName": "Ram Katapadi",
      "photoUrl": "https://lh3.googleusercontent.com/a/default-user=s64",
      "userId": "05196726169692284921"
     },
     "user_tz": -330
    },
    "id": "3f8806f2"
   },
   "outputs": [],
   "source": [
    "import pandas as pd\n",
    "import numpy as np\n",
    "from datetime import datetime\n",
    "import matplotlib.pyplot as plt\n",
    "import datetime as datetme\n",
    "import warnings\n",
    "warnings.filterwarnings('ignore')"
   ]
  },
  {
   "cell_type": "markdown",
   "metadata": {
    "id": "bad02e79"
   },
   "source": [
    "### Load data"
   ]
  },
  {
   "cell_type": "code",
   "execution_count": 3,
   "metadata": {
    "executionInfo": {
     "elapsed": 454,
     "status": "ok",
     "timestamp": 1632839619311,
     "user": {
      "displayName": "Ram Katapadi",
      "photoUrl": "https://lh3.googleusercontent.com/a/default-user=s64",
      "userId": "05196726169692284921"
     },
     "user_tz": -330
    },
    "id": "10918164"
   },
   "outputs": [],
   "source": [
    "df = pd.read_csv('./time_series_covid19_confirmed_global.csv')"
   ]
  },
  {
   "cell_type": "code",
   "execution_count": 4,
   "metadata": {},
   "outputs": [
    {
     "data": {
      "text/html": [
       "<div>\n",
       "<style scoped>\n",
       "    .dataframe tbody tr th:only-of-type {\n",
       "        vertical-align: middle;\n",
       "    }\n",
       "\n",
       "    .dataframe tbody tr th {\n",
       "        vertical-align: top;\n",
       "    }\n",
       "\n",
       "    .dataframe thead th {\n",
       "        text-align: right;\n",
       "    }\n",
       "</style>\n",
       "<table border=\"1\" class=\"dataframe\">\n",
       "  <thead>\n",
       "    <tr style=\"text-align: right;\">\n",
       "      <th></th>\n",
       "      <th>Province/State</th>\n",
       "      <th>Country/Region</th>\n",
       "      <th>Lat</th>\n",
       "      <th>Long</th>\n",
       "      <th>1/22/20</th>\n",
       "      <th>1/23/20</th>\n",
       "      <th>1/24/20</th>\n",
       "      <th>1/25/20</th>\n",
       "      <th>1/26/20</th>\n",
       "      <th>1/27/20</th>\n",
       "      <th>...</th>\n",
       "      <th>9/12/20</th>\n",
       "      <th>9/13/20</th>\n",
       "      <th>9/14/20</th>\n",
       "      <th>9/15/20</th>\n",
       "      <th>9/16/20</th>\n",
       "      <th>9/17/20</th>\n",
       "      <th>9/18/20</th>\n",
       "      <th>9/19/20</th>\n",
       "      <th>9/20/20</th>\n",
       "      <th>9/21/20</th>\n",
       "    </tr>\n",
       "  </thead>\n",
       "  <tbody>\n",
       "    <tr>\n",
       "      <th>0</th>\n",
       "      <td>NaN</td>\n",
       "      <td>Afghanistan</td>\n",
       "      <td>33.93911</td>\n",
       "      <td>67.709953</td>\n",
       "      <td>0</td>\n",
       "      <td>0</td>\n",
       "      <td>0</td>\n",
       "      <td>0</td>\n",
       "      <td>0</td>\n",
       "      <td>0</td>\n",
       "      <td>...</td>\n",
       "      <td>38641</td>\n",
       "      <td>38716</td>\n",
       "      <td>38772</td>\n",
       "      <td>38815</td>\n",
       "      <td>38855</td>\n",
       "      <td>38872</td>\n",
       "      <td>38883</td>\n",
       "      <td>38919</td>\n",
       "      <td>39044</td>\n",
       "      <td>39074</td>\n",
       "    </tr>\n",
       "    <tr>\n",
       "      <th>1</th>\n",
       "      <td>NaN</td>\n",
       "      <td>Albania</td>\n",
       "      <td>41.15330</td>\n",
       "      <td>20.168300</td>\n",
       "      <td>0</td>\n",
       "      <td>0</td>\n",
       "      <td>0</td>\n",
       "      <td>0</td>\n",
       "      <td>0</td>\n",
       "      <td>0</td>\n",
       "      <td>...</td>\n",
       "      <td>11185</td>\n",
       "      <td>11353</td>\n",
       "      <td>11520</td>\n",
       "      <td>11672</td>\n",
       "      <td>11816</td>\n",
       "      <td>11948</td>\n",
       "      <td>12073</td>\n",
       "      <td>12226</td>\n",
       "      <td>12385</td>\n",
       "      <td>12535</td>\n",
       "    </tr>\n",
       "    <tr>\n",
       "      <th>2</th>\n",
       "      <td>NaN</td>\n",
       "      <td>Algeria</td>\n",
       "      <td>28.03390</td>\n",
       "      <td>1.659600</td>\n",
       "      <td>0</td>\n",
       "      <td>0</td>\n",
       "      <td>0</td>\n",
       "      <td>0</td>\n",
       "      <td>0</td>\n",
       "      <td>0</td>\n",
       "      <td>...</td>\n",
       "      <td>48007</td>\n",
       "      <td>48254</td>\n",
       "      <td>48496</td>\n",
       "      <td>48734</td>\n",
       "      <td>48966</td>\n",
       "      <td>49194</td>\n",
       "      <td>49413</td>\n",
       "      <td>49623</td>\n",
       "      <td>49826</td>\n",
       "      <td>50023</td>\n",
       "    </tr>\n",
       "    <tr>\n",
       "      <th>3</th>\n",
       "      <td>NaN</td>\n",
       "      <td>Andorra</td>\n",
       "      <td>42.50630</td>\n",
       "      <td>1.521800</td>\n",
       "      <td>0</td>\n",
       "      <td>0</td>\n",
       "      <td>0</td>\n",
       "      <td>0</td>\n",
       "      <td>0</td>\n",
       "      <td>0</td>\n",
       "      <td>...</td>\n",
       "      <td>1344</td>\n",
       "      <td>1344</td>\n",
       "      <td>1438</td>\n",
       "      <td>1438</td>\n",
       "      <td>1483</td>\n",
       "      <td>1483</td>\n",
       "      <td>1564</td>\n",
       "      <td>1564</td>\n",
       "      <td>1564</td>\n",
       "      <td>1681</td>\n",
       "    </tr>\n",
       "    <tr>\n",
       "      <th>4</th>\n",
       "      <td>NaN</td>\n",
       "      <td>Angola</td>\n",
       "      <td>-11.20270</td>\n",
       "      <td>17.873900</td>\n",
       "      <td>0</td>\n",
       "      <td>0</td>\n",
       "      <td>0</td>\n",
       "      <td>0</td>\n",
       "      <td>0</td>\n",
       "      <td>0</td>\n",
       "      <td>...</td>\n",
       "      <td>3335</td>\n",
       "      <td>3388</td>\n",
       "      <td>3439</td>\n",
       "      <td>3569</td>\n",
       "      <td>3675</td>\n",
       "      <td>3789</td>\n",
       "      <td>3848</td>\n",
       "      <td>3901</td>\n",
       "      <td>3991</td>\n",
       "      <td>4117</td>\n",
       "    </tr>\n",
       "  </tbody>\n",
       "</table>\n",
       "<p>5 rows × 248 columns</p>\n",
       "</div>"
      ],
      "text/plain": [
       "  Province/State Country/Region       Lat       Long  1/22/20  1/23/20  \\\n",
       "0            NaN    Afghanistan  33.93911  67.709953        0        0   \n",
       "1            NaN        Albania  41.15330  20.168300        0        0   \n",
       "2            NaN        Algeria  28.03390   1.659600        0        0   \n",
       "3            NaN        Andorra  42.50630   1.521800        0        0   \n",
       "4            NaN         Angola -11.20270  17.873900        0        0   \n",
       "\n",
       "   1/24/20  1/25/20  1/26/20  1/27/20  ...  9/12/20  9/13/20  9/14/20  \\\n",
       "0        0        0        0        0  ...    38641    38716    38772   \n",
       "1        0        0        0        0  ...    11185    11353    11520   \n",
       "2        0        0        0        0  ...    48007    48254    48496   \n",
       "3        0        0        0        0  ...     1344     1344     1438   \n",
       "4        0        0        0        0  ...     3335     3388     3439   \n",
       "\n",
       "   9/15/20  9/16/20  9/17/20  9/18/20  9/19/20  9/20/20  9/21/20  \n",
       "0    38815    38855    38872    38883    38919    39044    39074  \n",
       "1    11672    11816    11948    12073    12226    12385    12535  \n",
       "2    48734    48966    49194    49413    49623    49826    50023  \n",
       "3     1438     1483     1483     1564     1564     1564     1681  \n",
       "4     3569     3675     3789     3848     3901     3991     4117  \n",
       "\n",
       "[5 rows x 248 columns]"
      ]
     },
     "execution_count": 4,
     "metadata": {},
     "output_type": "execute_result"
    }
   ],
   "source": [
    "df.head()"
   ]
  },
  {
   "cell_type": "code",
   "execution_count": 5,
   "metadata": {},
   "outputs": [],
   "source": [
    "### Transpose data"
   ]
  },
  {
   "cell_type": "code",
   "execution_count": 6,
   "metadata": {},
   "outputs": [],
   "source": [
    "df.drop(columns=['Province/State', 'Lat', 'Long'], axis=1, inplace=True)"
   ]
  },
  {
   "cell_type": "code",
   "execution_count": 7,
   "metadata": {},
   "outputs": [],
   "source": [
    "df = df.melt(id_vars=\"Country/Region\", \n",
    "        var_name=\"Date\", \n",
    "        value_name=\"Cases\")"
   ]
  },
  {
   "cell_type": "code",
   "execution_count": 8,
   "metadata": {},
   "outputs": [
    {
     "data": {
      "text/html": [
       "<div>\n",
       "<style scoped>\n",
       "    .dataframe tbody tr th:only-of-type {\n",
       "        vertical-align: middle;\n",
       "    }\n",
       "\n",
       "    .dataframe tbody tr th {\n",
       "        vertical-align: top;\n",
       "    }\n",
       "\n",
       "    .dataframe thead th {\n",
       "        text-align: right;\n",
       "    }\n",
       "</style>\n",
       "<table border=\"1\" class=\"dataframe\">\n",
       "  <thead>\n",
       "    <tr style=\"text-align: right;\">\n",
       "      <th></th>\n",
       "      <th>Country/Region</th>\n",
       "      <th>Date</th>\n",
       "      <th>Cases</th>\n",
       "    </tr>\n",
       "  </thead>\n",
       "  <tbody>\n",
       "    <tr>\n",
       "      <th>0</th>\n",
       "      <td>Afghanistan</td>\n",
       "      <td>1/22/20</td>\n",
       "      <td>0</td>\n",
       "    </tr>\n",
       "    <tr>\n",
       "      <th>1</th>\n",
       "      <td>Albania</td>\n",
       "      <td>1/22/20</td>\n",
       "      <td>0</td>\n",
       "    </tr>\n",
       "    <tr>\n",
       "      <th>2</th>\n",
       "      <td>Algeria</td>\n",
       "      <td>1/22/20</td>\n",
       "      <td>0</td>\n",
       "    </tr>\n",
       "    <tr>\n",
       "      <th>3</th>\n",
       "      <td>Andorra</td>\n",
       "      <td>1/22/20</td>\n",
       "      <td>0</td>\n",
       "    </tr>\n",
       "    <tr>\n",
       "      <th>4</th>\n",
       "      <td>Angola</td>\n",
       "      <td>1/22/20</td>\n",
       "      <td>0</td>\n",
       "    </tr>\n",
       "    <tr>\n",
       "      <th>...</th>\n",
       "      <td>...</td>\n",
       "      <td>...</td>\n",
       "      <td>...</td>\n",
       "    </tr>\n",
       "    <tr>\n",
       "      <th>64899</th>\n",
       "      <td>West Bank and Gaza</td>\n",
       "      <td>9/21/20</td>\n",
       "      <td>36151</td>\n",
       "    </tr>\n",
       "    <tr>\n",
       "      <th>64900</th>\n",
       "      <td>Western Sahara</td>\n",
       "      <td>9/21/20</td>\n",
       "      <td>10</td>\n",
       "    </tr>\n",
       "    <tr>\n",
       "      <th>64901</th>\n",
       "      <td>Yemen</td>\n",
       "      <td>9/21/20</td>\n",
       "      <td>2028</td>\n",
       "    </tr>\n",
       "    <tr>\n",
       "      <th>64902</th>\n",
       "      <td>Zambia</td>\n",
       "      <td>9/21/20</td>\n",
       "      <td>14175</td>\n",
       "    </tr>\n",
       "    <tr>\n",
       "      <th>64903</th>\n",
       "      <td>Zimbabwe</td>\n",
       "      <td>9/21/20</td>\n",
       "      <td>7683</td>\n",
       "    </tr>\n",
       "  </tbody>\n",
       "</table>\n",
       "<p>64904 rows × 3 columns</p>\n",
       "</div>"
      ],
      "text/plain": [
       "           Country/Region     Date  Cases\n",
       "0             Afghanistan  1/22/20      0\n",
       "1                 Albania  1/22/20      0\n",
       "2                 Algeria  1/22/20      0\n",
       "3                 Andorra  1/22/20      0\n",
       "4                  Angola  1/22/20      0\n",
       "...                   ...      ...    ...\n",
       "64899  West Bank and Gaza  9/21/20  36151\n",
       "64900      Western Sahara  9/21/20     10\n",
       "64901               Yemen  9/21/20   2028\n",
       "64902              Zambia  9/21/20  14175\n",
       "64903            Zimbabwe  9/21/20   7683\n",
       "\n",
       "[64904 rows x 3 columns]"
      ]
     },
     "execution_count": 8,
     "metadata": {},
     "output_type": "execute_result"
    }
   ],
   "source": [
    "df"
   ]
  },
  {
   "cell_type": "code",
   "execution_count": 9,
   "metadata": {},
   "outputs": [
    {
     "data": {
      "text/plain": [
       "(64904, 3)"
      ]
     },
     "execution_count": 9,
     "metadata": {},
     "output_type": "execute_result"
    }
   ],
   "source": [
    "df.shape"
   ]
  },
  {
   "cell_type": "code",
   "execution_count": 10,
   "metadata": {},
   "outputs": [],
   "source": [
    "df_conf = df"
   ]
  },
  {
   "cell_type": "code",
   "execution_count": 11,
   "metadata": {},
   "outputs": [],
   "source": [
    "df = pd.read_csv('./time_series_covid19_recovered_global.csv', )"
   ]
  },
  {
   "cell_type": "code",
   "execution_count": 12,
   "metadata": {},
   "outputs": [],
   "source": [
    "df.drop(columns=['Province/State', 'Lat', 'Long'], axis=1, inplace=True)"
   ]
  },
  {
   "cell_type": "code",
   "execution_count": 13,
   "metadata": {},
   "outputs": [],
   "source": [
    "df = df.melt(id_vars=\"Country/Region\", \n",
    "        var_name=\"Date\", \n",
    "        value_name=\"Cases\")"
   ]
  },
  {
   "cell_type": "code",
   "execution_count": 14,
   "metadata": {},
   "outputs": [
    {
     "data": {
      "text/html": [
       "<div>\n",
       "<style scoped>\n",
       "    .dataframe tbody tr th:only-of-type {\n",
       "        vertical-align: middle;\n",
       "    }\n",
       "\n",
       "    .dataframe tbody tr th {\n",
       "        vertical-align: top;\n",
       "    }\n",
       "\n",
       "    .dataframe thead th {\n",
       "        text-align: right;\n",
       "    }\n",
       "</style>\n",
       "<table border=\"1\" class=\"dataframe\">\n",
       "  <thead>\n",
       "    <tr style=\"text-align: right;\">\n",
       "      <th></th>\n",
       "      <th>Country/Region</th>\n",
       "      <th>Date</th>\n",
       "      <th>Cases</th>\n",
       "    </tr>\n",
       "  </thead>\n",
       "  <tbody>\n",
       "    <tr>\n",
       "      <th>0</th>\n",
       "      <td>Afghanistan</td>\n",
       "      <td>1/22/20</td>\n",
       "      <td>0</td>\n",
       "    </tr>\n",
       "    <tr>\n",
       "      <th>1</th>\n",
       "      <td>Albania</td>\n",
       "      <td>1/22/20</td>\n",
       "      <td>0</td>\n",
       "    </tr>\n",
       "    <tr>\n",
       "      <th>2</th>\n",
       "      <td>Algeria</td>\n",
       "      <td>1/22/20</td>\n",
       "      <td>0</td>\n",
       "    </tr>\n",
       "    <tr>\n",
       "      <th>3</th>\n",
       "      <td>Andorra</td>\n",
       "      <td>1/22/20</td>\n",
       "      <td>0</td>\n",
       "    </tr>\n",
       "    <tr>\n",
       "      <th>4</th>\n",
       "      <td>Angola</td>\n",
       "      <td>1/22/20</td>\n",
       "      <td>0</td>\n",
       "    </tr>\n",
       "  </tbody>\n",
       "</table>\n",
       "</div>"
      ],
      "text/plain": [
       "  Country/Region     Date  Cases\n",
       "0    Afghanistan  1/22/20      0\n",
       "1        Albania  1/22/20      0\n",
       "2        Algeria  1/22/20      0\n",
       "3        Andorra  1/22/20      0\n",
       "4         Angola  1/22/20      0"
      ]
     },
     "execution_count": 14,
     "metadata": {},
     "output_type": "execute_result"
    }
   ],
   "source": [
    "df.head()"
   ]
  },
  {
   "cell_type": "code",
   "execution_count": 15,
   "metadata": {},
   "outputs": [
    {
     "data": {
      "text/plain": [
       "(61732, 3)"
      ]
     },
     "execution_count": 15,
     "metadata": {},
     "output_type": "execute_result"
    }
   ],
   "source": [
    "df.shape"
   ]
  },
  {
   "cell_type": "code",
   "execution_count": 16,
   "metadata": {},
   "outputs": [],
   "source": [
    "df_recv = df"
   ]
  },
  {
   "cell_type": "code",
   "execution_count": 17,
   "metadata": {},
   "outputs": [],
   "source": [
    "df = pd.read_csv('./time_series_covid19_deaths_global.csv', )"
   ]
  },
  {
   "cell_type": "code",
   "execution_count": 18,
   "metadata": {},
   "outputs": [],
   "source": [
    "df.drop(columns=['Province/State', 'Lat', 'Long'], axis=1, inplace=True)"
   ]
  },
  {
   "cell_type": "code",
   "execution_count": 19,
   "metadata": {},
   "outputs": [],
   "source": [
    "df = df.melt(id_vars=\"Country/Region\", \n",
    "        var_name=\"Date\", \n",
    "        value_name=\"Cases\")"
   ]
  },
  {
   "cell_type": "code",
   "execution_count": 20,
   "metadata": {},
   "outputs": [
    {
     "data": {
      "text/html": [
       "<div>\n",
       "<style scoped>\n",
       "    .dataframe tbody tr th:only-of-type {\n",
       "        vertical-align: middle;\n",
       "    }\n",
       "\n",
       "    .dataframe tbody tr th {\n",
       "        vertical-align: top;\n",
       "    }\n",
       "\n",
       "    .dataframe thead th {\n",
       "        text-align: right;\n",
       "    }\n",
       "</style>\n",
       "<table border=\"1\" class=\"dataframe\">\n",
       "  <thead>\n",
       "    <tr style=\"text-align: right;\">\n",
       "      <th></th>\n",
       "      <th>Country/Region</th>\n",
       "      <th>Date</th>\n",
       "      <th>Cases</th>\n",
       "    </tr>\n",
       "  </thead>\n",
       "  <tbody>\n",
       "    <tr>\n",
       "      <th>0</th>\n",
       "      <td>Afghanistan</td>\n",
       "      <td>1/22/20</td>\n",
       "      <td>0</td>\n",
       "    </tr>\n",
       "    <tr>\n",
       "      <th>1</th>\n",
       "      <td>Albania</td>\n",
       "      <td>1/22/20</td>\n",
       "      <td>0</td>\n",
       "    </tr>\n",
       "    <tr>\n",
       "      <th>2</th>\n",
       "      <td>Algeria</td>\n",
       "      <td>1/22/20</td>\n",
       "      <td>0</td>\n",
       "    </tr>\n",
       "    <tr>\n",
       "      <th>3</th>\n",
       "      <td>Andorra</td>\n",
       "      <td>1/22/20</td>\n",
       "      <td>0</td>\n",
       "    </tr>\n",
       "    <tr>\n",
       "      <th>4</th>\n",
       "      <td>Angola</td>\n",
       "      <td>1/22/20</td>\n",
       "      <td>0</td>\n",
       "    </tr>\n",
       "  </tbody>\n",
       "</table>\n",
       "</div>"
      ],
      "text/plain": [
       "  Country/Region     Date  Cases\n",
       "0    Afghanistan  1/22/20      0\n",
       "1        Albania  1/22/20      0\n",
       "2        Algeria  1/22/20      0\n",
       "3        Andorra  1/22/20      0\n",
       "4         Angola  1/22/20      0"
      ]
     },
     "execution_count": 20,
     "metadata": {},
     "output_type": "execute_result"
    }
   ],
   "source": [
    "df.head()"
   ]
  },
  {
   "cell_type": "code",
   "execution_count": 21,
   "metadata": {},
   "outputs": [
    {
     "data": {
      "text/plain": [
       "(64904, 3)"
      ]
     },
     "execution_count": 21,
     "metadata": {},
     "output_type": "execute_result"
    }
   ],
   "source": [
    "df.shape"
   ]
  },
  {
   "cell_type": "code",
   "execution_count": 22,
   "metadata": {},
   "outputs": [],
   "source": [
    "df_death = df"
   ]
  },
  {
   "cell_type": "code",
   "execution_count": 23,
   "metadata": {},
   "outputs": [],
   "source": [
    "df_conf = df_conf.loc[(df_conf['Cases']>0)]"
   ]
  },
  {
   "cell_type": "code",
   "execution_count": 24,
   "metadata": {},
   "outputs": [],
   "source": [
    "df_recv = df_recv.loc[(df_recv['Cases']>0)]"
   ]
  },
  {
   "cell_type": "code",
   "execution_count": 25,
   "metadata": {},
   "outputs": [],
   "source": [
    "df_death = df_death.loc[(df_death['Cases']>0)]"
   ]
  },
  {
   "cell_type": "code",
   "execution_count": 26,
   "metadata": {
    "executionInfo": {
     "elapsed": 13,
     "status": "ok",
     "timestamp": 1632839737761,
     "user": {
      "displayName": "Ram Katapadi",
      "photoUrl": "https://lh3.googleusercontent.com/a/default-user=s64",
      "userId": "05196726169692284921"
     },
     "user_tz": -330
    },
    "id": "1cfef48e"
   },
   "outputs": [],
   "source": [
    "# Lets first work with some sample data \n",
    "####df1 = df.loc[(df1['Cases']>0) & (df1['Country/Region']=='India')]"
   ]
  },
  {
   "cell_type": "code",
   "execution_count": 27,
   "metadata": {
    "colab": {
     "base_uri": "https://localhost:8080/"
    },
    "executionInfo": {
     "elapsed": 569,
     "status": "ok",
     "timestamp": 1632840694452,
     "user": {
      "displayName": "Ram Katapadi",
      "photoUrl": "https://lh3.googleusercontent.com/a/default-user=s64",
      "userId": "05196726169692284921"
     },
     "user_tz": -330
    },
    "id": "1e18b9a0",
    "outputId": "1895969d-dd1c-4e27-93ee-398df420e4f2"
   },
   "outputs": [],
   "source": [
    "df_conf['Date']=pd.to_datetime(df_conf['Date'])\n",
    "df_recv['Date']=pd.to_datetime(df_recv['Date'])\n",
    "df_death['Date']=pd.to_datetime(df_death['Date'])"
   ]
  },
  {
   "cell_type": "markdown",
   "metadata": {},
   "source": [
    "### Prepare the data"
   ]
  },
  {
   "cell_type": "raw",
   "metadata": {},
   "source": [
    "# Study of the data reveals that Cumulative number of cases of covid recoveries are given and hence in order\n",
    "# to draw some insights on day wise analysis we have to arrange the data per day basis only."
   ]
  },
  {
   "cell_type": "code",
   "execution_count": 28,
   "metadata": {},
   "outputs": [],
   "source": [
    "# sort the dataframe df1 by country/region , date\n",
    "df_conf.sort_values(by = ['Country/Region', 'Date'], axis=0, ascending=[True, True], inplace=True,\n",
    "               kind='quicksort', na_position='first', ignore_index=True, key=None)\n",
    "\n",
    "df_recv.sort_values(by = ['Country/Region', 'Date'], axis=0, ascending=[True, True], inplace=True,\n",
    "               kind='quicksort', na_position='first', ignore_index=True, key=None)\n",
    "\n",
    "df_death.sort_values(by = ['Country/Region', 'Date'], axis=0, ascending=[True, True], inplace=True,\n",
    "               kind='quicksort', na_position='first', ignore_index=True, key=None)"
   ]
  },
  {
   "cell_type": "code",
   "execution_count": 29,
   "metadata": {},
   "outputs": [],
   "source": [
    "df_conf['CasesPerD'] = df_conf.groupby(['Country/Region'])['Cases'].diff()\n",
    "df_recv['CasesPerD'] = df_recv.groupby(['Country/Region'])['Cases'].diff()\n",
    "df_death['CasesPerD'] = df_death.groupby(['Country/Region'])['Cases'].diff()"
   ]
  },
  {
   "cell_type": "code",
   "execution_count": 30,
   "metadata": {},
   "outputs": [],
   "source": [
    "df_conf['CasesPerD'] = np.where(df_conf['CasesPerD'].isnull(), df_conf['Cases'], df_conf['CasesPerD'])\n",
    "df_recv['CasesPerD'] = np.where(df_recv['CasesPerD'].isnull(), df_recv['Cases'], df_recv['CasesPerD'])\n",
    "df_death['CasesPerD'] = np.where(df_death['CasesPerD'].isnull(), df_death['Cases'], df_death['CasesPerD'])"
   ]
  },
  {
   "cell_type": "code",
   "execution_count": 31,
   "metadata": {
    "colab": {
     "base_uri": "https://localhost:8080/"
    },
    "executionInfo": {
     "elapsed": 496,
     "status": "ok",
     "timestamp": 1632841987362,
     "user": {
      "displayName": "Ram Katapadi",
      "photoUrl": "https://lh3.googleusercontent.com/a/default-user=s64",
      "userId": "05196726169692284921"
     },
     "user_tz": -330
    },
    "id": "X1sLPDil6tT8",
    "outputId": "c99bf376-4694-48f5-b446-9f933ca142c7"
   },
   "outputs": [],
   "source": [
    "df_conf['yyyymm']=df_conf['Date'].dt.year.astype(str) + \"-\" + df_conf['Date'].dt.month.astype(str)\n",
    "df_recv['yyyymm']=df_recv['Date'].dt.year.astype(str) + \"-\" + df_recv['Date'].dt.month.astype(str)\n",
    "df_death['yyyymm']=df_death['Date'].dt.year.astype(str) + \"-\" + df_death['Date'].dt.month.astype(str)"
   ]
  },
  {
   "cell_type": "code",
   "execution_count": 32,
   "metadata": {},
   "outputs": [
    {
     "data": {
      "text/plain": [
       "array(['2020-2', '2020-3', '2020-4', '2020-5', '2020-6', '2020-7',\n",
       "       '2020-8', '2020-9', '2020-1'], dtype=object)"
      ]
     },
     "execution_count": 32,
     "metadata": {},
     "output_type": "execute_result"
    }
   ],
   "source": [
    "df_conf.yyyymm.unique()"
   ]
  },
  {
   "cell_type": "code",
   "execution_count": 33,
   "metadata": {},
   "outputs": [],
   "source": [
    "df_conf.CasesPerD=df_conf.CasesPerD.astype(np.int64)\n",
    "df_recv.CasesPerD=df_recv.CasesPerD.astype(np.int64)\n",
    "df_death.CasesPerD=df_death.CasesPerD.astype(np.int64)"
   ]
  },
  {
   "cell_type": "code",
   "execution_count": 34,
   "metadata": {},
   "outputs": [],
   "source": [
    "df_conf1 = df_conf.groupby(['yyyymm']).sum()\n",
    "df_recv1 = df_recv.groupby(['yyyymm']).sum()\n",
    "df_death1 = df_death.groupby(['yyyymm']).sum()"
   ]
  },
  {
   "cell_type": "code",
   "execution_count": 35,
   "metadata": {},
   "outputs": [],
   "source": [
    "df_conf1.drop(columns='Cases', axis=0, inplace=True)\n",
    "df_recv1.drop(columns='Cases', axis=0, inplace=True)\n",
    "df_death1.drop(columns='Cases', axis=0, inplace=True)"
   ]
  },
  {
   "cell_type": "code",
   "execution_count": 36,
   "metadata": {},
   "outputs": [],
   "source": [
    "df_conf1['Perc']= df_conf1['CasesPerD']/df_conf1['CasesPerD'].sum()\n",
    "df_recv1['Perc']= df_recv1['CasesPerD']/df_recv1['CasesPerD'].sum()\n",
    "df_death1['Perc']= df_death1['CasesPerD']/df_death1['CasesPerD'].sum()\n"
   ]
  },
  {
   "cell_type": "code",
   "execution_count": 37,
   "metadata": {},
   "outputs": [
    {
     "data": {
      "text/html": [
       "<div>\n",
       "<style scoped>\n",
       "    .dataframe tbody tr th:only-of-type {\n",
       "        vertical-align: middle;\n",
       "    }\n",
       "\n",
       "    .dataframe tbody tr th {\n",
       "        vertical-align: top;\n",
       "    }\n",
       "\n",
       "    .dataframe thead th {\n",
       "        text-align: right;\n",
       "    }\n",
       "</style>\n",
       "<table border=\"1\" class=\"dataframe\">\n",
       "  <thead>\n",
       "    <tr style=\"text-align: right;\">\n",
       "      <th></th>\n",
       "      <th>CasesPerD</th>\n",
       "      <th>Perc</th>\n",
       "    </tr>\n",
       "    <tr>\n",
       "      <th>yyyymm</th>\n",
       "      <th></th>\n",
       "      <th></th>\n",
       "    </tr>\n",
       "  </thead>\n",
       "  <tbody>\n",
       "    <tr>\n",
       "      <th>2020-1</th>\n",
       "      <td>655</td>\n",
       "      <td>0.000021</td>\n",
       "    </tr>\n",
       "    <tr>\n",
       "      <th>2020-2</th>\n",
       "      <td>7165</td>\n",
       "      <td>0.000231</td>\n",
       "    </tr>\n",
       "    <tr>\n",
       "      <th>2020-3</th>\n",
       "      <td>769655</td>\n",
       "      <td>0.024866</td>\n",
       "    </tr>\n",
       "    <tr>\n",
       "      <th>2020-4</th>\n",
       "      <td>2346136</td>\n",
       "      <td>0.075798</td>\n",
       "    </tr>\n",
       "    <tr>\n",
       "      <th>2020-5</th>\n",
       "      <td>2876871</td>\n",
       "      <td>0.092945</td>\n",
       "    </tr>\n",
       "    <tr>\n",
       "      <th>2020-6</th>\n",
       "      <td>4242833</td>\n",
       "      <td>0.137075</td>\n",
       "    </tr>\n",
       "    <tr>\n",
       "      <th>2020-7</th>\n",
       "      <td>7117734</td>\n",
       "      <td>0.229956</td>\n",
       "    </tr>\n",
       "    <tr>\n",
       "      <th>2020-8</th>\n",
       "      <td>7857004</td>\n",
       "      <td>0.253840</td>\n",
       "    </tr>\n",
       "    <tr>\n",
       "      <th>2020-9</th>\n",
       "      <td>5734479</td>\n",
       "      <td>0.185267</td>\n",
       "    </tr>\n",
       "  </tbody>\n",
       "</table>\n",
       "</div>"
      ],
      "text/plain": [
       "        CasesPerD      Perc\n",
       "yyyymm                     \n",
       "2020-1        655  0.000021\n",
       "2020-2       7165  0.000231\n",
       "2020-3     769655  0.024866\n",
       "2020-4    2346136  0.075798\n",
       "2020-5    2876871  0.092945\n",
       "2020-6    4242833  0.137075\n",
       "2020-7    7117734  0.229956\n",
       "2020-8    7857004  0.253840\n",
       "2020-9    5734479  0.185267"
      ]
     },
     "execution_count": 37,
     "metadata": {},
     "output_type": "execute_result"
    }
   ],
   "source": [
    "df_conf1"
   ]
  },
  {
   "cell_type": "code",
   "execution_count": 38,
   "metadata": {},
   "outputs": [
    {
     "data": {
      "text/html": [
       "<div>\n",
       "<style scoped>\n",
       "    .dataframe tbody tr th:only-of-type {\n",
       "        vertical-align: middle;\n",
       "    }\n",
       "\n",
       "    .dataframe tbody tr th {\n",
       "        vertical-align: top;\n",
       "    }\n",
       "\n",
       "    .dataframe thead th {\n",
       "        text-align: right;\n",
       "    }\n",
       "</style>\n",
       "<table border=\"1\" class=\"dataframe\">\n",
       "  <thead>\n",
       "    <tr style=\"text-align: right;\">\n",
       "      <th></th>\n",
       "      <th>CasesPerD</th>\n",
       "      <th>Perc</th>\n",
       "    </tr>\n",
       "    <tr>\n",
       "      <th>yyyymm</th>\n",
       "      <th></th>\n",
       "      <th></th>\n",
       "    </tr>\n",
       "  </thead>\n",
       "  <tbody>\n",
       "    <tr>\n",
       "      <th>2020-1</th>\n",
       "      <td>22</td>\n",
       "      <td>0.000001</td>\n",
       "    </tr>\n",
       "    <tr>\n",
       "      <th>2020-2</th>\n",
       "      <td>1449</td>\n",
       "      <td>0.000068</td>\n",
       "    </tr>\n",
       "    <tr>\n",
       "      <th>2020-3</th>\n",
       "      <td>100882</td>\n",
       "      <td>0.004740</td>\n",
       "    </tr>\n",
       "    <tr>\n",
       "      <th>2020-4</th>\n",
       "      <td>826392</td>\n",
       "      <td>0.038832</td>\n",
       "    </tr>\n",
       "    <tr>\n",
       "      <th>2020-5</th>\n",
       "      <td>1620430</td>\n",
       "      <td>0.076144</td>\n",
       "    </tr>\n",
       "    <tr>\n",
       "      <th>2020-6</th>\n",
       "      <td>2712765</td>\n",
       "      <td>0.127473</td>\n",
       "    </tr>\n",
       "    <tr>\n",
       "      <th>2020-7</th>\n",
       "      <td>5022064</td>\n",
       "      <td>0.235987</td>\n",
       "    </tr>\n",
       "    <tr>\n",
       "      <th>2020-8</th>\n",
       "      <td>6430030</td>\n",
       "      <td>0.302148</td>\n",
       "    </tr>\n",
       "    <tr>\n",
       "      <th>2020-9</th>\n",
       "      <td>4567027</td>\n",
       "      <td>0.214605</td>\n",
       "    </tr>\n",
       "  </tbody>\n",
       "</table>\n",
       "</div>"
      ],
      "text/plain": [
       "        CasesPerD      Perc\n",
       "yyyymm                     \n",
       "2020-1         22  0.000001\n",
       "2020-2       1449  0.000068\n",
       "2020-3     100882  0.004740\n",
       "2020-4     826392  0.038832\n",
       "2020-5    1620430  0.076144\n",
       "2020-6    2712765  0.127473\n",
       "2020-7    5022064  0.235987\n",
       "2020-8    6430030  0.302148\n",
       "2020-9    4567027  0.214605"
      ]
     },
     "execution_count": 38,
     "metadata": {},
     "output_type": "execute_result"
    }
   ],
   "source": [
    "df_recv1"
   ]
  },
  {
   "cell_type": "code",
   "execution_count": 39,
   "metadata": {},
   "outputs": [
    {
     "data": {
      "text/html": [
       "<div>\n",
       "<style scoped>\n",
       "    .dataframe tbody tr th:only-of-type {\n",
       "        vertical-align: middle;\n",
       "    }\n",
       "\n",
       "    .dataframe tbody tr th {\n",
       "        vertical-align: top;\n",
       "    }\n",
       "\n",
       "    .dataframe thead th {\n",
       "        text-align: right;\n",
       "    }\n",
       "</style>\n",
       "<table border=\"1\" class=\"dataframe\">\n",
       "  <thead>\n",
       "    <tr style=\"text-align: right;\">\n",
       "      <th></th>\n",
       "      <th>CasesPerD</th>\n",
       "      <th>Perc</th>\n",
       "    </tr>\n",
       "    <tr>\n",
       "      <th>yyyymm</th>\n",
       "      <th></th>\n",
       "      <th></th>\n",
       "    </tr>\n",
       "  </thead>\n",
       "  <tbody>\n",
       "    <tr>\n",
       "      <th>2020-1</th>\n",
       "      <td>1</td>\n",
       "      <td>0.000001</td>\n",
       "    </tr>\n",
       "    <tr>\n",
       "      <th>2020-2</th>\n",
       "      <td>105</td>\n",
       "      <td>0.000111</td>\n",
       "    </tr>\n",
       "    <tr>\n",
       "      <th>2020-3</th>\n",
       "      <td>40823</td>\n",
       "      <td>0.043037</td>\n",
       "    </tr>\n",
       "    <tr>\n",
       "      <th>2020-4</th>\n",
       "      <td>187485</td>\n",
       "      <td>0.197654</td>\n",
       "    </tr>\n",
       "    <tr>\n",
       "      <th>2020-5</th>\n",
       "      <td>133815</td>\n",
       "      <td>0.141073</td>\n",
       "    </tr>\n",
       "    <tr>\n",
       "      <th>2020-6</th>\n",
       "      <td>132573</td>\n",
       "      <td>0.139764</td>\n",
       "    </tr>\n",
       "    <tr>\n",
       "      <th>2020-7</th>\n",
       "      <td>166475</td>\n",
       "      <td>0.175505</td>\n",
       "    </tr>\n",
       "    <tr>\n",
       "      <th>2020-8</th>\n",
       "      <td>174478</td>\n",
       "      <td>0.183942</td>\n",
       "    </tr>\n",
       "    <tr>\n",
       "      <th>2020-9</th>\n",
       "      <td>112795</td>\n",
       "      <td>0.118913</td>\n",
       "    </tr>\n",
       "  </tbody>\n",
       "</table>\n",
       "</div>"
      ],
      "text/plain": [
       "        CasesPerD      Perc\n",
       "yyyymm                     \n",
       "2020-1          1  0.000001\n",
       "2020-2        105  0.000111\n",
       "2020-3      40823  0.043037\n",
       "2020-4     187485  0.197654\n",
       "2020-5     133815  0.141073\n",
       "2020-6     132573  0.139764\n",
       "2020-7     166475  0.175505\n",
       "2020-8     174478  0.183942\n",
       "2020-9     112795  0.118913"
      ]
     },
     "execution_count": 39,
     "metadata": {},
     "output_type": "execute_result"
    }
   ],
   "source": [
    "df_death1"
   ]
  },
  {
   "cell_type": "code",
   "execution_count": 40,
   "metadata": {},
   "outputs": [],
   "source": [
    "df_conf1['month']=df_conf1.index\n",
    "df_recv1['month']=df_recv1.index\n",
    "df_death1['month']=df_death1.index\n"
   ]
  },
  {
   "cell_type": "code",
   "execution_count": 41,
   "metadata": {},
   "outputs": [
    {
     "data": {
      "image/png": "[encoded data removed]",
      "text/plain": [
       "<Figure size 432x288 with 1 Axes>"
      ]
     },
     "metadata": {
      "needs_background": "light"
     },
     "output_type": "display_data"
    }
   ],
   "source": [
    "plt.xlabel(\"Time (Months)\")  \n",
    "plt.ylabel(\"# Cases\")  \n",
    "plt.title(\"Global Covid-19 Cases (#)\")  \n",
    "plt.plot(df_conf1.month, df_conf1.CasesPerD, label = 'Conf') # blue\n",
    "plt.plot(df_recv1.month, df_recv1.CasesPerD, label = 'Recv') # orange\n",
    "plt.plot(df_death1.month, df_death1.CasesPerD, label = 'Death') # green\n",
    "plt.legend()\n",
    "plt.show() "
   ]
  },
  {
   "cell_type": "raw",
   "metadata": {},
   "source": [
    "We can see in the chart that the trend of deaths were lesser and there was a trend of recovery vs confirmed go proportionately almost side by side. So, seeing this, the data has some sort of linearity in nature and practically confirmed cases followed by recovery and the difference between these two was the death trends."
   ]
  },
  {
   "cell_type": "code",
   "execution_count": 42,
   "metadata": {},
   "outputs": [
    {
     "data": {
      "image/png": "[encoded data removed]",
      "text/plain": [
       "<Figure size 432x288 with 1 Axes>"
      ]
     },
     "metadata": {
      "needs_background": "light"
     },
     "output_type": "display_data"
    }
   ],
   "source": [
    "plt.xlabel(\"Time (Months)\")  \n",
    "plt.ylabel(\"# Cases\")  \n",
    "plt.title(\"Covid-19 Cases (%)\")  \n",
    "plt.plot(df_conf1.month, df_conf1.Perc, label = \"Conf\") # blue\n",
    "plt.plot(df_recv1.month, df_recv1.Perc,  label = \"Recv\") # orange\n",
    "plt.plot(df_death1.month, df_death1.Perc, label = 'Death') # green\n",
    "plt.legend()\n",
    "plt.show() "
   ]
  },
  {
   "cell_type": "raw",
   "metadata": {},
   "source": [
    "We can observe that there were high death trend/ rates during April 2020 and gradually it had come down. But during Aug, 2020 there were trends of moving high and this may be becuase of re-infection covid virus with the patients already recovered. We can see there was a considerable raise in the trend of recovery rather than infected as more patients readmitted to the hostpital due to reinfection or may be side effects of covid 19."
   ]
  },
  {
   "cell_type": "markdown",
   "metadata": {},
   "source": [
    "## Conclusion: Even if there was jeoperdizing situation during Covid-19 pandemic world-wide, in the visulization we can see that the death rates were considerably low and the Recoveries of Confirmed cases moved alongside proportionately. What we feel is that the department accounted both infected-recovered and infected-recovered and again-infected cases together."
   ]
  }
 ],
 "metadata": {
  "colab": {
   "name": "Recivered_Covid19 Prediction.ipynb",
   "provenance": []
  },
  "kernelspec": {
   "display_name": "Python 3",
   "language": "python",
   "name": "python3"
  },
  "language_info": {
   "codemirror_mode": {
    "name": "ipython",
    "version": 3
   },
   "file_extension": ".py",
   "mimetype": "text/x-python",
   "name": "python",
   "nbconvert_exporter": "python",
   "pygments_lexer": "ipython3",
   "version": "3.8.5"
  }
 },
 "nbformat": 4,
 "nbformat_minor": 5
}
